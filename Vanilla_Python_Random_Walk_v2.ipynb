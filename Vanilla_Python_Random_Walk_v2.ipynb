{
  "nbformat": 4,
  "nbformat_minor": 0,
  "metadata": {
    "colab": {
      "name": "Vanilla Python: Random Walk v2.ipynb",
      "provenance": [],
      "authorship_tag": "ABX9TyMVXDlyfFF5Kf3tYxuBUgVY",
      "include_colab_link": true
    },
    "kernelspec": {
      "name": "python3",
      "display_name": "Python 3"
    },
    "language_info": {
      "name": "python"
    }
  },
  "cells": [
    {
      "cell_type": "markdown",
      "metadata": {
        "id": "view-in-github",
        "colab_type": "text"
      },
      "source": [
        "<a href=\"https://colab.research.google.com/github/nikita-0209/stock_price_detection/blob/master/Vanilla_Python_Random_Walk_v2.ipynb\" target=\"_parent\"><img src=\"https://colab.research.google.com/assets/colab-badge.svg\" alt=\"Open In Colab\"/></a>"
      ]
    },
    {
      "cell_type": "code",
      "metadata": {
        "id": "pR8GAx5sAgv6"
      },
      "source": [
        "import numpy as np\n",
        "import matplotlib.pyplot as plt\n",
        "%matplotlib inline"
      ],
      "execution_count": 1,
      "outputs": []
    },
    {
      "cell_type": "code",
      "metadata": {
        "id": "1H_lCgRvBJKi"
      },
      "source": [
        "totSteps=100\n",
        "dim = 2*totSteps+1"
      ],
      "execution_count": 2,
      "outputs": []
    },
    {
      "cell_type": "code",
      "metadata": {
        "id": "QD2Dcd7CyAYT"
      },
      "source": [
        "iota = complex(0, 1)"
      ],
      "execution_count": 3,
      "outputs": []
    },
    {
      "cell_type": "code",
      "metadata": {
        "id": "JtfUIOOiIFHY"
      },
      "source": [
        "probArr= np.zeros(dim)"
      ],
      "execution_count": 4,
      "outputs": []
    },
    {
      "cell_type": "code",
      "metadata": {
        "id": "RBV-NCvfINby"
      },
      "source": [
        "phiArr = np.zeros((dim, 2))\n",
        "posArr = np.arange(-100, 101, 1)"
      ],
      "execution_count": 5,
      "outputs": []
    },
    {
      "cell_type": "markdown",
      "metadata": {
        "id": "TGwVRQO0yGc-"
      },
      "source": [
        "## Hadamard"
      ]
    },
    {
      "cell_type": "code",
      "metadata": {
        "id": "bU0DTJBiw88z"
      },
      "source": [
        "theta=45*np.pi/180\n",
        "P=[[np.cos(theta), np.sin(theta)], [0, 0]]\n",
        "Q=[[0, 0], [np.sin(theta), -np.cos(theta)]]"
      ],
      "execution_count": 6,
      "outputs": []
    },
    {
      "cell_type": "markdown",
      "metadata": {
        "id": "amadDUbsyH9A"
      },
      "source": [
        "## Y Operator"
      ]
    },
    {
      "cell_type": "code",
      "metadata": {
        "id": "OnlJ4Nk3yJMq"
      },
      "source": [
        "# theta=45*np.pi/180\n",
        "# P=[[np.cos(theta), iota*np.sin(theta)], [0, 0]]\n",
        "# Q=[[0, 0], [iota*np.sin(theta), np.cos(theta)]]"
      ],
      "execution_count": 7,
      "outputs": []
    },
    {
      "cell_type": "markdown",
      "metadata": {
        "id": "HUAmFbCJ1cYH"
      },
      "source": [
        "# The Simulation"
      ]
    },
    {
      "cell_type": "markdown",
      "metadata": {
        "id": "S3tSmMz2PzUG"
      },
      "source": [
        "### Initialisation"
      ]
    },
    {
      "cell_type": "code",
      "metadata": {
        "id": "kiWSqmjWIiTD"
      },
      "source": [
        "phiArr[totSteps] = [1, 0]\n",
        "probArr[totSteps] = 1"
      ],
      "execution_count": 8,
      "outputs": []
    },
    {
      "cell_type": "code",
      "metadata": {
        "id": "US4BMhukkQ_5"
      },
      "source": [
        "for t in range(1, totSteps+1):\n",
        "  phiArrUpdate=[0]*len(phiArr)\n",
        "  for pos in range(0, 2*totSteps+1):\n",
        "    if pos==0:\n",
        "      phiArrUpdate[0] = np.inner(P, phiArr[1])\n",
        "    elif pos==2*totSteps:\n",
        "      phiArrUpdate[2*totSteps]= np.inner(Q, phiArr[2*totSteps-1])\n",
        "    else:\n",
        "      phiArrUpdate[pos]=np.inner(P, phiArr[pos+1]) + np.inner(Q, phiArr[pos-1])\n",
        "    \n",
        "    probArr[pos] = np.dot(phiArrUpdate[pos], phiArrUpdate[pos])\n",
        "  phiArr = phiArrUpdate"
      ],
      "execution_count": 9,
      "outputs": []
    },
    {
      "cell_type": "code",
      "metadata": {
        "id": "YWQ93H20nPVG"
      },
      "source": [
        "evenStep = []\n",
        "evenProb =[]\n",
        "for i in range(0, len(posArr), 2):\n",
        "  evenStep.append(posArr[i])\n",
        "  evenProb.append(probArr[i])"
      ],
      "execution_count": 10,
      "outputs": []
    },
    {
      "cell_type": "markdown",
      "metadata": {
        "id": "_GD55J6L1e3i"
      },
      "source": [
        "## Probability Distribution"
      ]
    },
    {
      "cell_type": "code",
      "metadata": {
        "colab": {
          "base_uri": "https://localhost:8080/",
          "height": 297
        },
        "id": "5Z-d8lAtmwEj",
        "outputId": "3be5aa46-cf08-4375-eae2-f69b920159c1"
      },
      "source": [
        "plt.xlabel(\"x\")\n",
        "plt.ylabel(\"probability\")\n",
        "plt.plot(posArr, probArr)"
      ],
      "execution_count": 11,
      "outputs": [
        {
          "output_type": "execute_result",
          "data": {
            "text/plain": [
              "[<matplotlib.lines.Line2D at 0x7f7cc3f80590>]"
            ]
          },
          "metadata": {
            "tags": []
          },
          "execution_count": 11
        },
        {
          "output_type": "display_data",
          "data": {
            "image/png": "[encoded data removed]",
            "text/plain": [
              "<Figure size 432x288 with 1 Axes>"
            ]
          },
          "metadata": {
            "tags": [],
            "needs_background": "light"
          }
        }
      ]
    },
    {
      "cell_type": "markdown",
      "metadata": {
        "id": "WMakQGMrPfGg"
      },
      "source": [
        "## Clean Graph"
      ]
    },
    {
      "cell_type": "code",
      "metadata": {
        "colab": {
          "base_uri": "https://localhost:8080/",
          "height": 297
        },
        "id": "Tt2liHizpfv6",
        "outputId": "74f29e28-8172-4eca-bbbf-211aa287b428"
      },
      "source": [
        "plt.xlabel(\"x\")\n",
        "plt.ylabel(\"probability\")\n",
        "plt.plot(evenStep, evenProb)"
      ],
      "execution_count": 12,
      "outputs": [
        {
          "output_type": "execute_result",
          "data": {
            "text/plain": [
              "[<matplotlib.lines.Line2D at 0x7f7cc3aa7a10>]"
            ]
          },
          "metadata": {
            "tags": []
          },
          "execution_count": 12
        },
        {
          "output_type": "display_data",
          "data": {
            "image/png": "[encoded data removed]",
            "text/plain": [
              "<Figure size 432x288 with 1 Axes>"
            ]
          },
          "metadata": {
            "tags": [],
            "needs_background": "light"
          }
        }
      ]
    }
  ]
}