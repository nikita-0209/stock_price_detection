{
  "nbformat": 4,
  "nbformat_minor": 0,
  "metadata": {
    "colab": {
      "name": "Stock Prediction: Statistics.ipynb",
      "provenance": [],
      "authorship_tag": "ABX9TyPz2rA0LwJFpqGAgX19sAs/",
      "include_colab_link": true
    },
    "kernelspec": {
      "name": "python3",
      "display_name": "Python 3"
    }
  },
  "cells": [
    {
      "cell_type": "markdown",
      "metadata": {
        "id": "view-in-github",
        "colab_type": "text"
      },
      "source": [
        "<a href=\"https://colab.research.google.com/github/nikita-0209/stock_price_detection/blob/master/Stock_Prediction%3ANaive%20Forecast%2C%20Moving%20Averages.ipynb\" target=\"_parent\"><img src=\"https://colab.research.google.com/assets/colab-badge.svg\" alt=\"Open In Colab\"/></a>"
      ]
    },
    {
      "cell_type": "code",
      "metadata": {
        "id": "aXdJfAOMBRUP",
        "colab_type": "code",
        "colab": {}
      },
      "source": [
        "import matplotlib.pyplot as plt\n",
        "%matplotlib inline"
      ],
      "execution_count": 0,
      "outputs": []
    },
    {
      "cell_type": "code",
      "metadata": {
        "id": "f-8t1j_gBS2d",
        "colab_type": "code",
        "colab": {}
      },
      "source": [
        "from pydrive.auth import GoogleAuth\n",
        "from pydrive.drive import GoogleDrive\n",
        "from google.colab import auth\n",
        "from oauth2client.client import GoogleCredentials"
      ],
      "execution_count": 0,
      "outputs": []
    },
    {
      "cell_type": "code",
      "metadata": {
        "id": "sXuoYdCnBUjz",
        "colab_type": "code",
        "colab": {}
      },
      "source": [
        "auth.authenticate_user()\n",
        "gauth = GoogleAuth()\n",
        "gauth.credentials = GoogleCredentials.get_application_default()\n",
        "drive = GoogleDrive(gauth)"
      ],
      "execution_count": 0,
      "outputs": []
    },
    {
      "cell_type": "code",
      "metadata": {
        "id": "-MgdL2QnBc0b",
        "colab_type": "code",
        "colab": {}
      },
      "source": [
        "import pandas as pd"
      ],
      "execution_count": 0,
      "outputs": []
    },
    {
      "cell_type": "code",
      "metadata": {
        "id": "xf4MWrRiBs0S",
        "colab_type": "code",
        "colab": {}
      },
      "source": [
        "import numpy as np"
      ],
      "execution_count": 0,
      "outputs": []
    },
    {
      "cell_type": "code",
      "metadata": {
        "id": "W-yQxJRl8cfJ",
        "colab_type": "code",
        "outputId": "98a9368e-0a13-4f9b-a0bd-c88453c1ae39",
        "colab": {
          "base_uri": "https://localhost:8080/",
          "height": 35
        }
      },
      "source": [
        "import keras"
      ],
      "execution_count": 0,
      "outputs": [
        {
          "output_type": "stream",
          "text": [
            "Using TensorFlow backend.\n"
          ],
          "name": "stderr"
        }
      ]
    },
    {
      "cell_type": "code",
      "metadata": {
        "id": "9Ep5MOJiBvI_",
        "colab_type": "code",
        "colab": {}
      },
      "source": [
        "#Dataset\n",
        "downloaded = drive.CreateFile({'id':\"12f9gd7u5hGDwWEZgOd-O9iMkM6lE9vF-\"})   # replace the id with id of file you want to access\n",
        "downloaded.GetContentFile('stock_prices_sample.csv')        # replace the file name with your file"
      ],
      "execution_count": 0,
      "outputs": []
    },
    {
      "cell_type": "code",
      "metadata": {
        "id": "9OQt4EKdLbKW",
        "colab_type": "code",
        "colab": {}
      },
      "source": [
        "df=pd.read_csv('stock_prices_sample.csv')"
      ],
      "execution_count": 0,
      "outputs": []
    },
    {
      "cell_type": "markdown",
      "metadata": {
        "id": "_eY3nieI1vu4",
        "colab_type": "text"
      },
      "source": [
        "# Prepare Data"
      ]
    },
    {
      "cell_type": "code",
      "metadata": {
        "id": "mR-ZY3FawWIe",
        "colab_type": "code",
        "outputId": "e6c3b883-d251-4fb3-a104-078f3627b876",
        "colab": {
          "base_uri": "https://localhost:8080/",
          "height": 601
        }
      },
      "source": [
        "df"
      ],
      "execution_count": 0,
      "outputs": [
        {
          "output_type": "execute_result",
          "data": {
            "text/html": [
              "<div>\n",
              "<style scoped>\n",
              "    .dataframe tbody tr th:only-of-type {\n",
              "        vertical-align: middle;\n",
              "    }\n",
              "\n",
              "    .dataframe tbody tr th {\n",
              "        vertical-align: top;\n",
              "    }\n",
              "\n",
              "    .dataframe thead th {\n",
              "        text-align: right;\n",
              "    }\n",
              "</style>\n",
              "<table border=\"1\" class=\"dataframe\">\n",
              "  <thead>\n",
              "    <tr style=\"text-align: right;\">\n",
              "      <th></th>\n",
              "      <th>TICKER</th>\n",
              "      <th>FIGI</th>\n",
              "      <th>DATE</th>\n",
              "      <th>TYPE</th>\n",
              "      <th>FREQUENCY</th>\n",
              "      <th>OPEN</th>\n",
              "      <th>HIGH</th>\n",
              "      <th>LOW</th>\n",
              "      <th>CLOSE</th>\n",
              "      <th>VOLUME</th>\n",
              "      <th>ADJ_OPEN</th>\n",
              "      <th>ADJ_HIGH</th>\n",
              "      <th>ADJ_LOW</th>\n",
              "      <th>ADJ_CLOSE</th>\n",
              "      <th>ADJ_VOLUME</th>\n",
              "      <th>ADJ_FACTOR</th>\n",
              "      <th>EX_DIVIDEND</th>\n",
              "      <th>SPLIT_RATIO</th>\n",
              "    </tr>\n",
              "  </thead>\n",
              "  <tbody>\n",
              "    <tr>\n",
              "      <th>0</th>\n",
              "      <td>GEF</td>\n",
              "      <td>BBG000BLFQH8</td>\n",
              "      <td>2013-01-04</td>\n",
              "      <td>EOD</td>\n",
              "      <td>daily</td>\n",
              "      <td>46.31</td>\n",
              "      <td>47.6198</td>\n",
              "      <td>46.23</td>\n",
              "      <td>47.37</td>\n",
              "      <td>248000.0</td>\n",
              "      <td>38.517220</td>\n",
              "      <td>39.606614</td>\n",
              "      <td>38.450681</td>\n",
              "      <td>39.398849</td>\n",
              "      <td>248000.0</td>\n",
              "      <td>NaN</td>\n",
              "      <td>0.0</td>\n",
              "      <td>1.0</td>\n",
              "    </tr>\n",
              "    <tr>\n",
              "      <th>1</th>\n",
              "      <td>GEF</td>\n",
              "      <td>BBG000BLFQH8</td>\n",
              "      <td>2013-01-03</td>\n",
              "      <td>EOD</td>\n",
              "      <td>daily</td>\n",
              "      <td>46.43</td>\n",
              "      <td>46.5200</td>\n",
              "      <td>46.14</td>\n",
              "      <td>46.48</td>\n",
              "      <td>131300.0</td>\n",
              "      <td>38.617027</td>\n",
              "      <td>38.691882</td>\n",
              "      <td>38.375826</td>\n",
              "      <td>38.658613</td>\n",
              "      <td>131300.0</td>\n",
              "      <td>NaN</td>\n",
              "      <td>0.0</td>\n",
              "      <td>1.0</td>\n",
              "    </tr>\n",
              "    <tr>\n",
              "      <th>2</th>\n",
              "      <td>GEF</td>\n",
              "      <td>BBG000BLFQH8</td>\n",
              "      <td>2013-01-02</td>\n",
              "      <td>EOD</td>\n",
              "      <td>daily</td>\n",
              "      <td>45.38</td>\n",
              "      <td>46.5400</td>\n",
              "      <td>45.16</td>\n",
              "      <td>46.41</td>\n",
              "      <td>184900.0</td>\n",
              "      <td>37.743715</td>\n",
              "      <td>38.708516</td>\n",
              "      <td>37.560735</td>\n",
              "      <td>38.600392</td>\n",
              "      <td>184900.0</td>\n",
              "      <td>NaN</td>\n",
              "      <td>0.0</td>\n",
              "      <td>1.0</td>\n",
              "    </tr>\n",
              "    <tr>\n",
              "      <th>3</th>\n",
              "      <td>GF</td>\n",
              "      <td>BBG000C3C6S2</td>\n",
              "      <td>2018-06-05</td>\n",
              "      <td>Intraday</td>\n",
              "      <td>daily</td>\n",
              "      <td>18.86</td>\n",
              "      <td>18.9100</td>\n",
              "      <td>18.87</td>\n",
              "      <td>18.87</td>\n",
              "      <td>10000.0</td>\n",
              "      <td>18.860000</td>\n",
              "      <td>18.910000</td>\n",
              "      <td>18.870000</td>\n",
              "      <td>18.870000</td>\n",
              "      <td>10000.0</td>\n",
              "      <td>NaN</td>\n",
              "      <td>0.0</td>\n",
              "      <td>1.0</td>\n",
              "    </tr>\n",
              "    <tr>\n",
              "      <th>4</th>\n",
              "      <td>GF</td>\n",
              "      <td>BBG000C3C6S2</td>\n",
              "      <td>2018-06-04</td>\n",
              "      <td>EOD</td>\n",
              "      <td>daily</td>\n",
              "      <td>18.86</td>\n",
              "      <td>18.8900</td>\n",
              "      <td>18.79</td>\n",
              "      <td>18.81</td>\n",
              "      <td>39095.0</td>\n",
              "      <td>18.860000</td>\n",
              "      <td>18.890000</td>\n",
              "      <td>18.790000</td>\n",
              "      <td>18.810000</td>\n",
              "      <td>39095.0</td>\n",
              "      <td>NaN</td>\n",
              "      <td>0.0</td>\n",
              "      <td>1.0</td>\n",
              "    </tr>\n",
              "    <tr>\n",
              "      <th>...</th>\n",
              "      <td>...</td>\n",
              "      <td>...</td>\n",
              "      <td>...</td>\n",
              "      <td>...</td>\n",
              "      <td>...</td>\n",
              "      <td>...</td>\n",
              "      <td>...</td>\n",
              "      <td>...</td>\n",
              "      <td>...</td>\n",
              "      <td>...</td>\n",
              "      <td>...</td>\n",
              "      <td>...</td>\n",
              "      <td>...</td>\n",
              "      <td>...</td>\n",
              "      <td>...</td>\n",
              "      <td>...</td>\n",
              "      <td>...</td>\n",
              "      <td>...</td>\n",
              "    </tr>\n",
              "    <tr>\n",
              "      <th>994</th>\n",
              "      <td>GF</td>\n",
              "      <td>BBG000C3C6S2</td>\n",
              "      <td>2014-06-27</td>\n",
              "      <td>EOD</td>\n",
              "      <td>daily</td>\n",
              "      <td>18.63</td>\n",
              "      <td>18.6300</td>\n",
              "      <td>18.51</td>\n",
              "      <td>18.61</td>\n",
              "      <td>28400.0</td>\n",
              "      <td>11.717560</td>\n",
              "      <td>11.717560</td>\n",
              "      <td>11.642085</td>\n",
              "      <td>11.704981</td>\n",
              "      <td>28400.0</td>\n",
              "      <td>NaN</td>\n",
              "      <td>0.0</td>\n",
              "      <td>1.0</td>\n",
              "    </tr>\n",
              "    <tr>\n",
              "      <th>995</th>\n",
              "      <td>GF</td>\n",
              "      <td>BBG000C3C6S2</td>\n",
              "      <td>2014-06-26</td>\n",
              "      <td>EOD</td>\n",
              "      <td>daily</td>\n",
              "      <td>18.52</td>\n",
              "      <td>18.5901</td>\n",
              "      <td>18.42</td>\n",
              "      <td>18.53</td>\n",
              "      <td>60000.0</td>\n",
              "      <td>11.648374</td>\n",
              "      <td>11.692464</td>\n",
              "      <td>11.585478</td>\n",
              "      <td>11.654664</td>\n",
              "      <td>60000.0</td>\n",
              "      <td>NaN</td>\n",
              "      <td>0.0</td>\n",
              "      <td>1.0</td>\n",
              "    </tr>\n",
              "    <tr>\n",
              "      <th>996</th>\n",
              "      <td>GF</td>\n",
              "      <td>BBG000C3C6S2</td>\n",
              "      <td>2014-06-25</td>\n",
              "      <td>EOD</td>\n",
              "      <td>daily</td>\n",
              "      <td>18.66</td>\n",
              "      <td>18.7200</td>\n",
              "      <td>18.59</td>\n",
              "      <td>18.60</td>\n",
              "      <td>171700.0</td>\n",
              "      <td>11.736429</td>\n",
              "      <td>11.774167</td>\n",
              "      <td>11.692402</td>\n",
              "      <td>11.698691</td>\n",
              "      <td>171700.0</td>\n",
              "      <td>NaN</td>\n",
              "      <td>0.0</td>\n",
              "      <td>1.0</td>\n",
              "    </tr>\n",
              "    <tr>\n",
              "      <th>997</th>\n",
              "      <td>GF</td>\n",
              "      <td>BBG000C3C6S2</td>\n",
              "      <td>2014-06-24</td>\n",
              "      <td>EOD</td>\n",
              "      <td>daily</td>\n",
              "      <td>18.91</td>\n",
              "      <td>18.9500</td>\n",
              "      <td>18.83</td>\n",
              "      <td>18.83</td>\n",
              "      <td>35200.0</td>\n",
              "      <td>11.893669</td>\n",
              "      <td>11.918828</td>\n",
              "      <td>11.843352</td>\n",
              "      <td>11.843352</td>\n",
              "      <td>35200.0</td>\n",
              "      <td>NaN</td>\n",
              "      <td>0.0</td>\n",
              "      <td>1.0</td>\n",
              "    </tr>\n",
              "    <tr>\n",
              "      <th>998</th>\n",
              "      <td>GF</td>\n",
              "      <td>BBG000C3C6S2</td>\n",
              "      <td>2014-06-23</td>\n",
              "      <td>EOD</td>\n",
              "      <td>daily</td>\n",
              "      <td>19.05</td>\n",
              "      <td>19.0500</td>\n",
              "      <td>18.95</td>\n",
              "      <td>18.95</td>\n",
              "      <td>34300.0</td>\n",
              "      <td>11.981724</td>\n",
              "      <td>11.981724</td>\n",
              "      <td>11.918828</td>\n",
              "      <td>11.918828</td>\n",
              "      <td>34300.0</td>\n",
              "      <td>NaN</td>\n",
              "      <td>0.0</td>\n",
              "      <td>1.0</td>\n",
              "    </tr>\n",
              "  </tbody>\n",
              "</table>\n",
              "<p>999 rows × 18 columns</p>\n",
              "</div>"
            ],
            "text/plain": [
              "    TICKER          FIGI        DATE  ... ADJ_FACTOR EX_DIVIDEND  SPLIT_RATIO\n",
              "0      GEF  BBG000BLFQH8  2013-01-04  ...        NaN         0.0          1.0\n",
              "1      GEF  BBG000BLFQH8  2013-01-03  ...        NaN         0.0          1.0\n",
              "2      GEF  BBG000BLFQH8  2013-01-02  ...        NaN         0.0          1.0\n",
              "3       GF  BBG000C3C6S2  2018-06-05  ...        NaN         0.0          1.0\n",
              "4       GF  BBG000C3C6S2  2018-06-04  ...        NaN         0.0          1.0\n",
              "..     ...           ...         ...  ...        ...         ...          ...\n",
              "994     GF  BBG000C3C6S2  2014-06-27  ...        NaN         0.0          1.0\n",
              "995     GF  BBG000C3C6S2  2014-06-26  ...        NaN         0.0          1.0\n",
              "996     GF  BBG000C3C6S2  2014-06-25  ...        NaN         0.0          1.0\n",
              "997     GF  BBG000C3C6S2  2014-06-24  ...        NaN         0.0          1.0\n",
              "998     GF  BBG000C3C6S2  2014-06-23  ...        NaN         0.0          1.0\n",
              "\n",
              "[999 rows x 18 columns]"
            ]
          },
          "metadata": {
            "tags": []
          },
          "execution_count": 9
        }
      ]
    },
    {
      "cell_type": "code",
      "metadata": {
        "id": "n3Wbm4Ueyqkd",
        "colab_type": "code",
        "colab": {}
      },
      "source": [
        "def get_year(date):\n",
        "  year=date.split('-')[0]\n",
        "  return year"
      ],
      "execution_count": 0,
      "outputs": []
    },
    {
      "cell_type": "code",
      "metadata": {
        "id": "_R74fMB3y4Q_",
        "colab_type": "code",
        "colab": {}
      },
      "source": [
        "df['Year']=df['DATE'].apply(get_year)"
      ],
      "execution_count": 0,
      "outputs": []
    },
    {
      "cell_type": "code",
      "metadata": {
        "id": "en0RTX-_yMze",
        "colab_type": "code",
        "colab": {}
      },
      "source": [
        "df = df[df['Year'] != '2013']"
      ],
      "execution_count": 0,
      "outputs": []
    },
    {
      "cell_type": "code",
      "metadata": {
        "id": "WBtxVYRMzCZ-",
        "colab_type": "code",
        "outputId": "eb36d700-c051-4ccb-fd20-f69a9ac0020a",
        "colab": {
          "base_uri": "https://localhost:8080/",
          "height": 601
        }
      },
      "source": [
        "df"
      ],
      "execution_count": 0,
      "outputs": [
        {
          "output_type": "execute_result",
          "data": {
            "text/html": [
              "<div>\n",
              "<style scoped>\n",
              "    .dataframe tbody tr th:only-of-type {\n",
              "        vertical-align: middle;\n",
              "    }\n",
              "\n",
              "    .dataframe tbody tr th {\n",
              "        vertical-align: top;\n",
              "    }\n",
              "\n",
              "    .dataframe thead th {\n",
              "        text-align: right;\n",
              "    }\n",
              "</style>\n",
              "<table border=\"1\" class=\"dataframe\">\n",
              "  <thead>\n",
              "    <tr style=\"text-align: right;\">\n",
              "      <th></th>\n",
              "      <th>TICKER</th>\n",
              "      <th>FIGI</th>\n",
              "      <th>DATE</th>\n",
              "      <th>TYPE</th>\n",
              "      <th>FREQUENCY</th>\n",
              "      <th>OPEN</th>\n",
              "      <th>HIGH</th>\n",
              "      <th>LOW</th>\n",
              "      <th>CLOSE</th>\n",
              "      <th>VOLUME</th>\n",
              "      <th>ADJ_OPEN</th>\n",
              "      <th>ADJ_HIGH</th>\n",
              "      <th>ADJ_LOW</th>\n",
              "      <th>ADJ_CLOSE</th>\n",
              "      <th>ADJ_VOLUME</th>\n",
              "      <th>ADJ_FACTOR</th>\n",
              "      <th>EX_DIVIDEND</th>\n",
              "      <th>SPLIT_RATIO</th>\n",
              "      <th>Year</th>\n",
              "    </tr>\n",
              "  </thead>\n",
              "  <tbody>\n",
              "    <tr>\n",
              "      <th>3</th>\n",
              "      <td>GF</td>\n",
              "      <td>BBG000C3C6S2</td>\n",
              "      <td>2018-06-05</td>\n",
              "      <td>Intraday</td>\n",
              "      <td>daily</td>\n",
              "      <td>18.86</td>\n",
              "      <td>18.9100</td>\n",
              "      <td>18.8700</td>\n",
              "      <td>18.87</td>\n",
              "      <td>10000.0</td>\n",
              "      <td>18.860000</td>\n",
              "      <td>18.910000</td>\n",
              "      <td>18.870000</td>\n",
              "      <td>18.870000</td>\n",
              "      <td>10000.0</td>\n",
              "      <td>NaN</td>\n",
              "      <td>0.0</td>\n",
              "      <td>1.0</td>\n",
              "      <td>2018</td>\n",
              "    </tr>\n",
              "    <tr>\n",
              "      <th>4</th>\n",
              "      <td>GF</td>\n",
              "      <td>BBG000C3C6S2</td>\n",
              "      <td>2018-06-04</td>\n",
              "      <td>EOD</td>\n",
              "      <td>daily</td>\n",
              "      <td>18.86</td>\n",
              "      <td>18.8900</td>\n",
              "      <td>18.7900</td>\n",
              "      <td>18.81</td>\n",
              "      <td>39095.0</td>\n",
              "      <td>18.860000</td>\n",
              "      <td>18.890000</td>\n",
              "      <td>18.790000</td>\n",
              "      <td>18.810000</td>\n",
              "      <td>39095.0</td>\n",
              "      <td>NaN</td>\n",
              "      <td>0.0</td>\n",
              "      <td>1.0</td>\n",
              "      <td>2018</td>\n",
              "    </tr>\n",
              "    <tr>\n",
              "      <th>5</th>\n",
              "      <td>GF</td>\n",
              "      <td>BBG000C3C6S2</td>\n",
              "      <td>2018-06-01</td>\n",
              "      <td>EOD</td>\n",
              "      <td>daily</td>\n",
              "      <td>18.58</td>\n",
              "      <td>18.7600</td>\n",
              "      <td>18.5800</td>\n",
              "      <td>18.74</td>\n",
              "      <td>17468.0</td>\n",
              "      <td>18.580000</td>\n",
              "      <td>18.760000</td>\n",
              "      <td>18.580000</td>\n",
              "      <td>18.740000</td>\n",
              "      <td>17468.0</td>\n",
              "      <td>NaN</td>\n",
              "      <td>0.0</td>\n",
              "      <td>1.0</td>\n",
              "      <td>2018</td>\n",
              "    </tr>\n",
              "    <tr>\n",
              "      <th>6</th>\n",
              "      <td>GF</td>\n",
              "      <td>BBG000C3C6S2</td>\n",
              "      <td>2018-05-31</td>\n",
              "      <td>EOD</td>\n",
              "      <td>daily</td>\n",
              "      <td>18.52</td>\n",
              "      <td>18.5200</td>\n",
              "      <td>18.3012</td>\n",
              "      <td>18.49</td>\n",
              "      <td>22384.0</td>\n",
              "      <td>18.520000</td>\n",
              "      <td>18.520000</td>\n",
              "      <td>18.301200</td>\n",
              "      <td>18.490000</td>\n",
              "      <td>22384.0</td>\n",
              "      <td>NaN</td>\n",
              "      <td>0.0</td>\n",
              "      <td>1.0</td>\n",
              "      <td>2018</td>\n",
              "    </tr>\n",
              "    <tr>\n",
              "      <th>7</th>\n",
              "      <td>GF</td>\n",
              "      <td>BBG000C3C6S2</td>\n",
              "      <td>2018-05-30</td>\n",
              "      <td>EOD</td>\n",
              "      <td>daily</td>\n",
              "      <td>18.47</td>\n",
              "      <td>18.6780</td>\n",
              "      <td>18.4700</td>\n",
              "      <td>18.65</td>\n",
              "      <td>22633.0</td>\n",
              "      <td>18.470000</td>\n",
              "      <td>18.678000</td>\n",
              "      <td>18.470000</td>\n",
              "      <td>18.650000</td>\n",
              "      <td>22633.0</td>\n",
              "      <td>NaN</td>\n",
              "      <td>0.0</td>\n",
              "      <td>1.0</td>\n",
              "      <td>2018</td>\n",
              "    </tr>\n",
              "    <tr>\n",
              "      <th>...</th>\n",
              "      <td>...</td>\n",
              "      <td>...</td>\n",
              "      <td>...</td>\n",
              "      <td>...</td>\n",
              "      <td>...</td>\n",
              "      <td>...</td>\n",
              "      <td>...</td>\n",
              "      <td>...</td>\n",
              "      <td>...</td>\n",
              "      <td>...</td>\n",
              "      <td>...</td>\n",
              "      <td>...</td>\n",
              "      <td>...</td>\n",
              "      <td>...</td>\n",
              "      <td>...</td>\n",
              "      <td>...</td>\n",
              "      <td>...</td>\n",
              "      <td>...</td>\n",
              "      <td>...</td>\n",
              "    </tr>\n",
              "    <tr>\n",
              "      <th>994</th>\n",
              "      <td>GF</td>\n",
              "      <td>BBG000C3C6S2</td>\n",
              "      <td>2014-06-27</td>\n",
              "      <td>EOD</td>\n",
              "      <td>daily</td>\n",
              "      <td>18.63</td>\n",
              "      <td>18.6300</td>\n",
              "      <td>18.5100</td>\n",
              "      <td>18.61</td>\n",
              "      <td>28400.0</td>\n",
              "      <td>11.717560</td>\n",
              "      <td>11.717560</td>\n",
              "      <td>11.642085</td>\n",
              "      <td>11.704981</td>\n",
              "      <td>28400.0</td>\n",
              "      <td>NaN</td>\n",
              "      <td>0.0</td>\n",
              "      <td>1.0</td>\n",
              "      <td>2014</td>\n",
              "    </tr>\n",
              "    <tr>\n",
              "      <th>995</th>\n",
              "      <td>GF</td>\n",
              "      <td>BBG000C3C6S2</td>\n",
              "      <td>2014-06-26</td>\n",
              "      <td>EOD</td>\n",
              "      <td>daily</td>\n",
              "      <td>18.52</td>\n",
              "      <td>18.5901</td>\n",
              "      <td>18.4200</td>\n",
              "      <td>18.53</td>\n",
              "      <td>60000.0</td>\n",
              "      <td>11.648374</td>\n",
              "      <td>11.692464</td>\n",
              "      <td>11.585478</td>\n",
              "      <td>11.654664</td>\n",
              "      <td>60000.0</td>\n",
              "      <td>NaN</td>\n",
              "      <td>0.0</td>\n",
              "      <td>1.0</td>\n",
              "      <td>2014</td>\n",
              "    </tr>\n",
              "    <tr>\n",
              "      <th>996</th>\n",
              "      <td>GF</td>\n",
              "      <td>BBG000C3C6S2</td>\n",
              "      <td>2014-06-25</td>\n",
              "      <td>EOD</td>\n",
              "      <td>daily</td>\n",
              "      <td>18.66</td>\n",
              "      <td>18.7200</td>\n",
              "      <td>18.5900</td>\n",
              "      <td>18.60</td>\n",
              "      <td>171700.0</td>\n",
              "      <td>11.736429</td>\n",
              "      <td>11.774167</td>\n",
              "      <td>11.692402</td>\n",
              "      <td>11.698691</td>\n",
              "      <td>171700.0</td>\n",
              "      <td>NaN</td>\n",
              "      <td>0.0</td>\n",
              "      <td>1.0</td>\n",
              "      <td>2014</td>\n",
              "    </tr>\n",
              "    <tr>\n",
              "      <th>997</th>\n",
              "      <td>GF</td>\n",
              "      <td>BBG000C3C6S2</td>\n",
              "      <td>2014-06-24</td>\n",
              "      <td>EOD</td>\n",
              "      <td>daily</td>\n",
              "      <td>18.91</td>\n",
              "      <td>18.9500</td>\n",
              "      <td>18.8300</td>\n",
              "      <td>18.83</td>\n",
              "      <td>35200.0</td>\n",
              "      <td>11.893669</td>\n",
              "      <td>11.918828</td>\n",
              "      <td>11.843352</td>\n",
              "      <td>11.843352</td>\n",
              "      <td>35200.0</td>\n",
              "      <td>NaN</td>\n",
              "      <td>0.0</td>\n",
              "      <td>1.0</td>\n",
              "      <td>2014</td>\n",
              "    </tr>\n",
              "    <tr>\n",
              "      <th>998</th>\n",
              "      <td>GF</td>\n",
              "      <td>BBG000C3C6S2</td>\n",
              "      <td>2014-06-23</td>\n",
              "      <td>EOD</td>\n",
              "      <td>daily</td>\n",
              "      <td>19.05</td>\n",
              "      <td>19.0500</td>\n",
              "      <td>18.9500</td>\n",
              "      <td>18.95</td>\n",
              "      <td>34300.0</td>\n",
              "      <td>11.981724</td>\n",
              "      <td>11.981724</td>\n",
              "      <td>11.918828</td>\n",
              "      <td>11.918828</td>\n",
              "      <td>34300.0</td>\n",
              "      <td>NaN</td>\n",
              "      <td>0.0</td>\n",
              "      <td>1.0</td>\n",
              "      <td>2014</td>\n",
              "    </tr>\n",
              "  </tbody>\n",
              "</table>\n",
              "<p>996 rows × 19 columns</p>\n",
              "</div>"
            ],
            "text/plain": [
              "    TICKER          FIGI        DATE  ... EX_DIVIDEND SPLIT_RATIO  Year\n",
              "3       GF  BBG000C3C6S2  2018-06-05  ...         0.0         1.0  2018\n",
              "4       GF  BBG000C3C6S2  2018-06-04  ...         0.0         1.0  2018\n",
              "5       GF  BBG000C3C6S2  2018-06-01  ...         0.0         1.0  2018\n",
              "6       GF  BBG000C3C6S2  2018-05-31  ...         0.0         1.0  2018\n",
              "7       GF  BBG000C3C6S2  2018-05-30  ...         0.0         1.0  2018\n",
              "..     ...           ...         ...  ...         ...         ...   ...\n",
              "994     GF  BBG000C3C6S2  2014-06-27  ...         0.0         1.0  2014\n",
              "995     GF  BBG000C3C6S2  2014-06-26  ...         0.0         1.0  2014\n",
              "996     GF  BBG000C3C6S2  2014-06-25  ...         0.0         1.0  2014\n",
              "997     GF  BBG000C3C6S2  2014-06-24  ...         0.0         1.0  2014\n",
              "998     GF  BBG000C3C6S2  2014-06-23  ...         0.0         1.0  2014\n",
              "\n",
              "[996 rows x 19 columns]"
            ]
          },
          "metadata": {
            "tags": []
          },
          "execution_count": 13
        }
      ]
    },
    {
      "cell_type": "code",
      "metadata": {
        "id": "qY3Ay24lwXX5",
        "colab_type": "code",
        "colab": {}
      },
      "source": [
        "data=df[ ['DATE', 'OPEN']]"
      ],
      "execution_count": 0,
      "outputs": []
    },
    {
      "cell_type": "code",
      "metadata": {
        "id": "ZNA6KiF401NU",
        "colab_type": "code",
        "colab": {}
      },
      "source": [
        "#Reverse Order of Data\n",
        "data=data.iloc[::-1]"
      ],
      "execution_count": 0,
      "outputs": []
    },
    {
      "cell_type": "code",
      "metadata": {
        "id": "4as2UVTp0Kc7",
        "colab_type": "code",
        "outputId": "d78cd85c-e5a6-4f5d-a532-912f82718f1b",
        "colab": {
          "base_uri": "https://localhost:8080/",
          "height": 283
        }
      },
      "source": [
        "plt.plot(data['DATE'], data['OPEN'])"
      ],
      "execution_count": 0,
      "outputs": [
        {
          "output_type": "execute_result",
          "data": {
            "text/plain": [
              "[<matplotlib.lines.Line2D at 0x7f903f2cfef0>]"
            ]
          },
          "metadata": {
            "tags": []
          },
          "execution_count": 16
        },
        {
          "output_type": "display_data",
          "data": {
            "image/png": "[encoded data removed]",
            "text/plain": [
              "<Figure size 432x288 with 1 Axes>"
            ]
          },
          "metadata": {
            "tags": [],
            "needs_background": "light"
          }
        }
      ]
    },
    {
      "cell_type": "code",
      "metadata": {
        "id": "gYzr_a5o1U7x",
        "colab_type": "code",
        "colab": {}
      },
      "source": [
        "split_time=850"
      ],
      "execution_count": 0,
      "outputs": []
    },
    {
      "cell_type": "code",
      "metadata": {
        "id": "olftsO6B3JNi",
        "colab_type": "code",
        "colab": {}
      },
      "source": [
        "values=np.array(df['OPEN'])"
      ],
      "execution_count": 0,
      "outputs": []
    },
    {
      "cell_type": "code",
      "metadata": {
        "id": "cf-YgFSSw-cw",
        "colab_type": "code",
        "colab": {}
      },
      "source": [
        "train_df=data.iloc[:split_time]"
      ],
      "execution_count": 0,
      "outputs": []
    },
    {
      "cell_type": "code",
      "metadata": {
        "id": "Sig8d9DU2Ggl",
        "colab_type": "code",
        "colab": {}
      },
      "source": [
        "train_values=train_df['OPEN']\n",
        "train_values=np.array(train_values)"
      ],
      "execution_count": 0,
      "outputs": []
    },
    {
      "cell_type": "code",
      "metadata": {
        "id": "Mtvj1HxOK3M-",
        "colab_type": "code",
        "colab": {}
      },
      "source": [
        "series= np.concatenate((train_values, valid_values), axis=0)"
      ],
      "execution_count": 0,
      "outputs": []
    },
    {
      "cell_type": "code",
      "metadata": {
        "id": "ycJVWTgS28yP",
        "colab_type": "code",
        "outputId": "2038e385-3c9b-4747-ce36-459bf9756427",
        "colab": {
          "base_uri": "https://localhost:8080/",
          "height": 35
        }
      },
      "source": [
        "train_values.shape"
      ],
      "execution_count": 0,
      "outputs": [
        {
          "output_type": "execute_result",
          "data": {
            "text/plain": [
              "(850,)"
            ]
          },
          "metadata": {
            "tags": []
          },
          "execution_count": 21
        }
      ]
    },
    {
      "cell_type": "code",
      "metadata": {
        "id": "XkV7QCsV1eB0",
        "colab_type": "code",
        "outputId": "966663e2-3e1c-4381-d517-3bb1c8b934da",
        "colab": {
          "base_uri": "https://localhost:8080/",
          "height": 35
        }
      },
      "source": [
        "train_df.shape"
      ],
      "execution_count": 0,
      "outputs": [
        {
          "output_type": "execute_result",
          "data": {
            "text/plain": [
              "(850, 2)"
            ]
          },
          "metadata": {
            "tags": []
          },
          "execution_count": 22
        }
      ]
    },
    {
      "cell_type": "code",
      "metadata": {
        "id": "jWhp0EEA1g-q",
        "colab_type": "code",
        "colab": {}
      },
      "source": [
        "valid_df=data.iloc[split_time:]"
      ],
      "execution_count": 0,
      "outputs": []
    },
    {
      "cell_type": "code",
      "metadata": {
        "id": "bUfU0nXx1mN2",
        "colab_type": "code",
        "outputId": "0b2ea6a6-275a-47b8-a801-4bc11b2bd4e9",
        "colab": {
          "base_uri": "https://localhost:8080/",
          "height": 35
        }
      },
      "source": [
        "valid_df.shape"
      ],
      "execution_count": 0,
      "outputs": [
        {
          "output_type": "execute_result",
          "data": {
            "text/plain": [
              "(146, 2)"
            ]
          },
          "metadata": {
            "tags": []
          },
          "execution_count": 24
        }
      ]
    },
    {
      "cell_type": "code",
      "metadata": {
        "id": "Hp2YFVgb2hoc",
        "colab_type": "code",
        "colab": {}
      },
      "source": [
        "valid_values=valid_df['OPEN']\n",
        "valid_values=np.array(valid_values)"
      ],
      "execution_count": 0,
      "outputs": []
    },
    {
      "cell_type": "markdown",
      "metadata": {
        "id": "5xhkbrrh1yzJ",
        "colab_type": "text"
      },
      "source": [
        "#Naive Method"
      ]
    },
    {
      "cell_type": "code",
      "metadata": {
        "id": "wCAa_LlB1nn_",
        "colab_type": "code",
        "colab": {}
      },
      "source": [
        "naive_forecast=series[split_time-1:-1]"
      ],
      "execution_count": 0,
      "outputs": []
    },
    {
      "cell_type": "code",
      "metadata": {
        "id": "lbZLP91t21m3",
        "colab_type": "code",
        "outputId": "2be0b99b-e24c-4cbb-d141-0012b27554e4",
        "colab": {
          "base_uri": "https://localhost:8080/",
          "height": 35
        }
      },
      "source": [
        "naive_forecast.shape"
      ],
      "execution_count": 0,
      "outputs": [
        {
          "output_type": "execute_result",
          "data": {
            "text/plain": [
              "(146,)"
            ]
          },
          "metadata": {
            "tags": []
          },
          "execution_count": 41
        }
      ]
    },
    {
      "cell_type": "code",
      "metadata": {
        "id": "N6svZ4vH26Fe",
        "colab_type": "code",
        "outputId": "95c41b60-1418-4c83-b5b8-9ca5ca89c831",
        "colab": {
          "base_uri": "https://localhost:8080/",
          "height": 374
        }
      },
      "source": [
        "plt.figure(figsize=(10, 6))\n",
        "plt.plot(valid_values, label='Validation Values in Dataset')\n",
        "plt.plot(naive_forecast, label='Forecast')\n",
        "leg=plt.legend()"
      ],
      "execution_count": 0,
      "outputs": [
        {
          "output_type": "display_data",
          "data": {
            "image/png": "[encoded data removed]",
            "text/plain": [
              "<Figure size 720x432 with 1 Axes>"
            ]
          },
          "metadata": {
            "tags": [],
            "needs_background": "light"
          }
        }
      ]
    },
    {
      "cell_type": "code",
      "metadata": {
        "id": "2M7dnXL58Xfd",
        "colab_type": "code",
        "outputId": "910f60f5-93b3-47c4-9935-510dab1dd126",
        "colab": {
          "base_uri": "https://localhost:8080/",
          "height": 35
        }
      },
      "source": [
        "print(keras.metrics.mean_absolute_percentage_error(valid_values, naive_forecast).numpy())"
      ],
      "execution_count": 0,
      "outputs": [
        {
          "output_type": "stream",
          "text": [
            "0.8252412\n"
          ],
          "name": "stdout"
        }
      ]
    },
    {
      "cell_type": "markdown",
      "metadata": {
        "id": "Z5Do_4CFgoBN",
        "colab_type": "text"
      },
      "source": [
        "# Moving Average"
      ]
    },
    {
      "cell_type": "markdown",
      "metadata": {
        "id": "OXwLMjdag7Gx",
        "colab_type": "text"
      },
      "source": [
        "Rolling cannot be applied to numpy arrays, so we have to write the code"
      ]
    },
    {
      "cell_type": "code",
      "metadata": {
        "id": "qLrUFluMkT8v",
        "colab_type": "code",
        "colab": {}
      },
      "source": [
        "window=10"
      ],
      "execution_count": 0,
      "outputs": []
    },
    {
      "cell_type": "code",
      "metadata": {
        "id": "US_eoXhTgvtg",
        "colab_type": "code",
        "colab": {}
      },
      "source": [
        "def moving_average(values, window):\n",
        "  N=values.shape[0]-window\n",
        "  mov_avg=np.zeros(N)\n",
        "  for i in range(N):\n",
        "    mov_avg[i]=values[i:i+window].mean()\n",
        "  return mov_avg\n"
      ],
      "execution_count": 0,
      "outputs": []
    },
    {
      "cell_type": "code",
      "metadata": {
        "id": "dRQK-YAuj_vH",
        "colab_type": "code",
        "colab": {}
      },
      "source": [
        "forecast=moving_average(series, window)[split_time-window:]"
      ],
      "execution_count": 0,
      "outputs": []
    },
    {
      "cell_type": "code",
      "metadata": {
        "id": "2vrxuldqk-zK",
        "colab_type": "code",
        "outputId": "2505f8a7-454b-4eea-c2dd-a41c10ee6445",
        "colab": {
          "base_uri": "https://localhost:8080/",
          "height": 374
        }
      },
      "source": [
        "plt.figure(figsize=(10, 6))\n",
        "plt.plot(valid_values, label='Validation Values in Dataset')\n",
        "plt.plot(forecast, label='Forecast')\n",
        "leg=plt.legend()"
      ],
      "execution_count": 0,
      "outputs": [
        {
          "output_type": "display_data",
          "data": {
            "image/png": "[encoded data removed]",
            "text/plain": [
              "<Figure size 720x432 with 1 Axes>"
            ]
          },
          "metadata": {
            "tags": [],
            "needs_background": "light"
          }
        }
      ]
    },
    {
      "cell_type": "code",
      "metadata": {
        "id": "KxCVKO_jlDCw",
        "colab_type": "code",
        "outputId": "1b32ad8d-ec3c-45d3-df12-ecc4456934c0",
        "colab": {
          "base_uri": "https://localhost:8080/",
          "height": 35
        }
      },
      "source": [
        "print(keras.metrics.mean_absolute_percentage_error(valid_values, forecast).numpy())"
      ],
      "execution_count": 0,
      "outputs": [
        {
          "output_type": "stream",
          "text": [
            "1.8047655\n"
          ],
          "name": "stdout"
        }
      ]
    },
    {
      "cell_type": "markdown",
      "metadata": {
        "id": "L8dWqGqclIz5",
        "colab_type": "text"
      },
      "source": [
        "### Moving Average with Difference is applicable only if data has seasonality. Our data does not have seasonality, hence, there is no point of using this technique"
      ]
    }
  ]
}