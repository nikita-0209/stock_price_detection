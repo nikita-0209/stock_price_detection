{
  "nbformat": 4,
  "nbformat_minor": 0,
  "metadata": {
    "colab": {
      "name": "Prophet: Stock Prediction.ipynb",
      "provenance": [],
      "collapsed_sections": [
        "48s7QWKNq3hR",
        "CGAbTtEAttTV"
      ]
    },
    "kernelspec": {
      "name": "python3",
      "display_name": "Python 3"
    }
  },
  "cells": [
    {
      "cell_type": "markdown",
      "metadata": {
        "id": "uCwH94Mnr-HF",
        "colab_type": "text"
      },
      "source": [
        "#Imports"
      ]
    },
    {
      "cell_type": "code",
      "metadata": {
        "id": "AI5Emk76UW60",
        "colab_type": "code",
        "colab": {}
      },
      "source": [
        "import pandas as pd"
      ],
      "execution_count": 0,
      "outputs": []
    },
    {
      "cell_type": "code",
      "metadata": {
        "id": "WNqpRImKqCHs",
        "colab_type": "code",
        "colab": {}
      },
      "source": [
        "import numpy as np"
      ],
      "execution_count": 0,
      "outputs": []
    },
    {
      "cell_type": "code",
      "metadata": {
        "id": "A0fxY5DWVEyR",
        "colab_type": "code",
        "colab": {}
      },
      "source": [
        "import seaborn as sns"
      ],
      "execution_count": 0,
      "outputs": []
    },
    {
      "cell_type": "code",
      "metadata": {
        "id": "n3FA_X4FYYJP",
        "colab_type": "code",
        "colab": {}
      },
      "source": [
        "import matplotlib.pyplot as plt\n",
        "%matplotlib inline"
      ],
      "execution_count": 0,
      "outputs": []
    },
    {
      "cell_type": "markdown",
      "metadata": {
        "id": "29_6ux0cr3pz",
        "colab_type": "text"
      },
      "source": [
        "#Load the Dataset"
      ]
    },
    {
      "cell_type": "code",
      "metadata": {
        "id": "BW4VH3H5TPsf",
        "colab_type": "code",
        "colab": {}
      },
      "source": [
        "from pydrive.auth import GoogleAuth\n",
        "from pydrive.drive import GoogleDrive\n",
        "from google.colab import auth\n",
        "from oauth2client.client import GoogleCredentials"
      ],
      "execution_count": 0,
      "outputs": []
    },
    {
      "cell_type": "code",
      "metadata": {
        "id": "pOxtJ0VqTdTm",
        "colab_type": "code",
        "colab": {}
      },
      "source": [
        "auth.authenticate_user()\n",
        "gauth = GoogleAuth()\n",
        "gauth.credentials = GoogleCredentials.get_application_default()\n",
        "drive = GoogleDrive(gauth)"
      ],
      "execution_count": 0,
      "outputs": []
    },
    {
      "cell_type": "code",
      "metadata": {
        "id": "xWo9HYCaTejQ",
        "colab_type": "code",
        "colab": {}
      },
      "source": [
        "#Dataset\n",
        "downloaded = drive.CreateFile({'id':\"12f9gd7u5hGDwWEZgOd-O9iMkM6lE9vF-\"})   # replace the id with id of file you want to access\n",
        "downloaded.GetContentFile('stock_prices_sample.csv')        # replace the file name with your file"
      ],
      "execution_count": 0,
      "outputs": []
    },
    {
      "cell_type": "markdown",
      "metadata": {
        "id": "Tki29wAGsFQR",
        "colab_type": "text"
      },
      "source": [
        "# Prepocessing"
      ]
    },
    {
      "cell_type": "code",
      "metadata": {
        "id": "aM_T1d5xUD52",
        "colab_type": "code",
        "colab": {}
      },
      "source": [
        "df=pd.read_csv('stock_prices_sample.csv', parse_dates=True, index_col='DATE')"
      ],
      "execution_count": 0,
      "outputs": []
    },
    {
      "cell_type": "code",
      "metadata": {
        "id": "Qwj34eV_gYkZ",
        "colab_type": "code",
        "colab": {}
      },
      "source": [
        "df['Year']=df.index.year"
      ],
      "execution_count": 0,
      "outputs": []
    },
    {
      "cell_type": "code",
      "metadata": {
        "id": "utnsAN7usSn8",
        "colab_type": "code",
        "colab": {}
      },
      "source": [
        "# df['Month']=df.index.month"
      ],
      "execution_count": 0,
      "outputs": []
    },
    {
      "cell_type": "code",
      "metadata": {
        "id": "0z9-0mschKpz",
        "colab_type": "code",
        "outputId": "7e57cd2c-715d-4cf3-990c-bd32c9a5582c",
        "colab": {
          "base_uri": "https://localhost:8080/",
          "height": 33
        }
      },
      "source": [
        "(df['Year']==2013).sum()"
      ],
      "execution_count": 0,
      "outputs": [
        {
          "output_type": "execute_result",
          "data": {
            "text/plain": [
              "3"
            ]
          },
          "metadata": {
            "tags": []
          },
          "execution_count": 45
        }
      ]
    },
    {
      "cell_type": "code",
      "metadata": {
        "id": "PiEC5n_iZr4B",
        "colab_type": "code",
        "outputId": "85a0b597-e8f3-4dd8-c3c9-fdd392344ba7",
        "colab": {
          "base_uri": "https://localhost:8080/",
          "height": 544
        }
      },
      "source": [
        "df.head(10)"
      ],
      "execution_count": 0,
      "outputs": [
        {
          "output_type": "execute_result",
          "data": {
            "text/html": [
              "<div>\n",
              "<style scoped>\n",
              "    .dataframe tbody tr th:only-of-type {\n",
              "        vertical-align: middle;\n",
              "    }\n",
              "\n",
              "    .dataframe tbody tr th {\n",
              "        vertical-align: top;\n",
              "    }\n",
              "\n",
              "    .dataframe thead th {\n",
              "        text-align: right;\n",
              "    }\n",
              "</style>\n",
              "<table border=\"1\" class=\"dataframe\">\n",
              "  <thead>\n",
              "    <tr style=\"text-align: right;\">\n",
              "      <th></th>\n",
              "      <th>TICKER</th>\n",
              "      <th>FIGI</th>\n",
              "      <th>TYPE</th>\n",
              "      <th>FREQUENCY</th>\n",
              "      <th>OPEN</th>\n",
              "      <th>HIGH</th>\n",
              "      <th>LOW</th>\n",
              "      <th>CLOSE</th>\n",
              "      <th>VOLUME</th>\n",
              "      <th>ADJ_OPEN</th>\n",
              "      <th>ADJ_HIGH</th>\n",
              "      <th>ADJ_LOW</th>\n",
              "      <th>ADJ_CLOSE</th>\n",
              "      <th>ADJ_VOLUME</th>\n",
              "      <th>ADJ_FACTOR</th>\n",
              "      <th>EX_DIVIDEND</th>\n",
              "      <th>SPLIT_RATIO</th>\n",
              "      <th>Year</th>\n",
              "    </tr>\n",
              "    <tr>\n",
              "      <th>DATE</th>\n",
              "      <th></th>\n",
              "      <th></th>\n",
              "      <th></th>\n",
              "      <th></th>\n",
              "      <th></th>\n",
              "      <th></th>\n",
              "      <th></th>\n",
              "      <th></th>\n",
              "      <th></th>\n",
              "      <th></th>\n",
              "      <th></th>\n",
              "      <th></th>\n",
              "      <th></th>\n",
              "      <th></th>\n",
              "      <th></th>\n",
              "      <th></th>\n",
              "      <th></th>\n",
              "      <th></th>\n",
              "    </tr>\n",
              "  </thead>\n",
              "  <tbody>\n",
              "    <tr>\n",
              "      <th>2013-01-04</th>\n",
              "      <td>GEF</td>\n",
              "      <td>BBG000BLFQH8</td>\n",
              "      <td>EOD</td>\n",
              "      <td>daily</td>\n",
              "      <td>46.31</td>\n",
              "      <td>47.6198</td>\n",
              "      <td>46.2300</td>\n",
              "      <td>47.3700</td>\n",
              "      <td>248000.0</td>\n",
              "      <td>38.517220</td>\n",
              "      <td>39.606614</td>\n",
              "      <td>38.450681</td>\n",
              "      <td>39.398849</td>\n",
              "      <td>248000.0</td>\n",
              "      <td>NaN</td>\n",
              "      <td>0.0</td>\n",
              "      <td>1.0</td>\n",
              "      <td>2013</td>\n",
              "    </tr>\n",
              "    <tr>\n",
              "      <th>2013-01-03</th>\n",
              "      <td>GEF</td>\n",
              "      <td>BBG000BLFQH8</td>\n",
              "      <td>EOD</td>\n",
              "      <td>daily</td>\n",
              "      <td>46.43</td>\n",
              "      <td>46.5200</td>\n",
              "      <td>46.1400</td>\n",
              "      <td>46.4800</td>\n",
              "      <td>131300.0</td>\n",
              "      <td>38.617027</td>\n",
              "      <td>38.691882</td>\n",
              "      <td>38.375826</td>\n",
              "      <td>38.658613</td>\n",
              "      <td>131300.0</td>\n",
              "      <td>NaN</td>\n",
              "      <td>0.0</td>\n",
              "      <td>1.0</td>\n",
              "      <td>2013</td>\n",
              "    </tr>\n",
              "    <tr>\n",
              "      <th>2013-01-02</th>\n",
              "      <td>GEF</td>\n",
              "      <td>BBG000BLFQH8</td>\n",
              "      <td>EOD</td>\n",
              "      <td>daily</td>\n",
              "      <td>45.38</td>\n",
              "      <td>46.5400</td>\n",
              "      <td>45.1600</td>\n",
              "      <td>46.4100</td>\n",
              "      <td>184900.0</td>\n",
              "      <td>37.743715</td>\n",
              "      <td>38.708516</td>\n",
              "      <td>37.560735</td>\n",
              "      <td>38.600392</td>\n",
              "      <td>184900.0</td>\n",
              "      <td>NaN</td>\n",
              "      <td>0.0</td>\n",
              "      <td>1.0</td>\n",
              "      <td>2013</td>\n",
              "    </tr>\n",
              "    <tr>\n",
              "      <th>2018-06-05</th>\n",
              "      <td>GF</td>\n",
              "      <td>BBG000C3C6S2</td>\n",
              "      <td>Intraday</td>\n",
              "      <td>daily</td>\n",
              "      <td>18.86</td>\n",
              "      <td>18.9100</td>\n",
              "      <td>18.8700</td>\n",
              "      <td>18.8700</td>\n",
              "      <td>10000.0</td>\n",
              "      <td>18.860000</td>\n",
              "      <td>18.910000</td>\n",
              "      <td>18.870000</td>\n",
              "      <td>18.870000</td>\n",
              "      <td>10000.0</td>\n",
              "      <td>NaN</td>\n",
              "      <td>0.0</td>\n",
              "      <td>1.0</td>\n",
              "      <td>2018</td>\n",
              "    </tr>\n",
              "    <tr>\n",
              "      <th>2018-06-04</th>\n",
              "      <td>GF</td>\n",
              "      <td>BBG000C3C6S2</td>\n",
              "      <td>EOD</td>\n",
              "      <td>daily</td>\n",
              "      <td>18.86</td>\n",
              "      <td>18.8900</td>\n",
              "      <td>18.7900</td>\n",
              "      <td>18.8100</td>\n",
              "      <td>39095.0</td>\n",
              "      <td>18.860000</td>\n",
              "      <td>18.890000</td>\n",
              "      <td>18.790000</td>\n",
              "      <td>18.810000</td>\n",
              "      <td>39095.0</td>\n",
              "      <td>NaN</td>\n",
              "      <td>0.0</td>\n",
              "      <td>1.0</td>\n",
              "      <td>2018</td>\n",
              "    </tr>\n",
              "    <tr>\n",
              "      <th>2018-06-01</th>\n",
              "      <td>GF</td>\n",
              "      <td>BBG000C3C6S2</td>\n",
              "      <td>EOD</td>\n",
              "      <td>daily</td>\n",
              "      <td>18.58</td>\n",
              "      <td>18.7600</td>\n",
              "      <td>18.5800</td>\n",
              "      <td>18.7400</td>\n",
              "      <td>17468.0</td>\n",
              "      <td>18.580000</td>\n",
              "      <td>18.760000</td>\n",
              "      <td>18.580000</td>\n",
              "      <td>18.740000</td>\n",
              "      <td>17468.0</td>\n",
              "      <td>NaN</td>\n",
              "      <td>0.0</td>\n",
              "      <td>1.0</td>\n",
              "      <td>2018</td>\n",
              "    </tr>\n",
              "    <tr>\n",
              "      <th>2018-05-31</th>\n",
              "      <td>GF</td>\n",
              "      <td>BBG000C3C6S2</td>\n",
              "      <td>EOD</td>\n",
              "      <td>daily</td>\n",
              "      <td>18.52</td>\n",
              "      <td>18.5200</td>\n",
              "      <td>18.3012</td>\n",
              "      <td>18.4900</td>\n",
              "      <td>22384.0</td>\n",
              "      <td>18.520000</td>\n",
              "      <td>18.520000</td>\n",
              "      <td>18.301200</td>\n",
              "      <td>18.490000</td>\n",
              "      <td>22384.0</td>\n",
              "      <td>NaN</td>\n",
              "      <td>0.0</td>\n",
              "      <td>1.0</td>\n",
              "      <td>2018</td>\n",
              "    </tr>\n",
              "    <tr>\n",
              "      <th>2018-05-30</th>\n",
              "      <td>GF</td>\n",
              "      <td>BBG000C3C6S2</td>\n",
              "      <td>EOD</td>\n",
              "      <td>daily</td>\n",
              "      <td>18.47</td>\n",
              "      <td>18.6780</td>\n",
              "      <td>18.4700</td>\n",
              "      <td>18.6500</td>\n",
              "      <td>22633.0</td>\n",
              "      <td>18.470000</td>\n",
              "      <td>18.678000</td>\n",
              "      <td>18.470000</td>\n",
              "      <td>18.650000</td>\n",
              "      <td>22633.0</td>\n",
              "      <td>NaN</td>\n",
              "      <td>0.0</td>\n",
              "      <td>1.0</td>\n",
              "      <td>2018</td>\n",
              "    </tr>\n",
              "    <tr>\n",
              "      <th>2018-05-29</th>\n",
              "      <td>GF</td>\n",
              "      <td>BBG000C3C6S2</td>\n",
              "      <td>EOD</td>\n",
              "      <td>daily</td>\n",
              "      <td>18.51</td>\n",
              "      <td>18.5100</td>\n",
              "      <td>18.1500</td>\n",
              "      <td>18.2562</td>\n",
              "      <td>67412.0</td>\n",
              "      <td>18.510000</td>\n",
              "      <td>18.510000</td>\n",
              "      <td>18.150000</td>\n",
              "      <td>18.256200</td>\n",
              "      <td>67412.0</td>\n",
              "      <td>NaN</td>\n",
              "      <td>0.0</td>\n",
              "      <td>1.0</td>\n",
              "      <td>2018</td>\n",
              "    </tr>\n",
              "    <tr>\n",
              "      <th>2018-05-25</th>\n",
              "      <td>GF</td>\n",
              "      <td>BBG000C3C6S2</td>\n",
              "      <td>EOD</td>\n",
              "      <td>daily</td>\n",
              "      <td>18.76</td>\n",
              "      <td>18.8800</td>\n",
              "      <td>18.7600</td>\n",
              "      <td>18.8420</td>\n",
              "      <td>8775.0</td>\n",
              "      <td>18.760000</td>\n",
              "      <td>18.880000</td>\n",
              "      <td>18.760000</td>\n",
              "      <td>18.842000</td>\n",
              "      <td>8775.0</td>\n",
              "      <td>NaN</td>\n",
              "      <td>0.0</td>\n",
              "      <td>1.0</td>\n",
              "      <td>2018</td>\n",
              "    </tr>\n",
              "  </tbody>\n",
              "</table>\n",
              "</div>"
            ],
            "text/plain": [
              "           TICKER          FIGI      TYPE  ... EX_DIVIDEND  SPLIT_RATIO  Year\n",
              "DATE                                       ...                               \n",
              "2013-01-04    GEF  BBG000BLFQH8       EOD  ...         0.0          1.0  2013\n",
              "2013-01-03    GEF  BBG000BLFQH8       EOD  ...         0.0          1.0  2013\n",
              "2013-01-02    GEF  BBG000BLFQH8       EOD  ...         0.0          1.0  2013\n",
              "2018-06-05     GF  BBG000C3C6S2  Intraday  ...         0.0          1.0  2018\n",
              "2018-06-04     GF  BBG000C3C6S2       EOD  ...         0.0          1.0  2018\n",
              "2018-06-01     GF  BBG000C3C6S2       EOD  ...         0.0          1.0  2018\n",
              "2018-05-31     GF  BBG000C3C6S2       EOD  ...         0.0          1.0  2018\n",
              "2018-05-30     GF  BBG000C3C6S2       EOD  ...         0.0          1.0  2018\n",
              "2018-05-29     GF  BBG000C3C6S2       EOD  ...         0.0          1.0  2018\n",
              "2018-05-25     GF  BBG000C3C6S2       EOD  ...         0.0          1.0  2018\n",
              "\n",
              "[10 rows x 18 columns]"
            ]
          },
          "metadata": {
            "tags": []
          },
          "execution_count": 12
        }
      ]
    },
    {
      "cell_type": "code",
      "metadata": {
        "id": "0hMrETMOZZus",
        "colab_type": "code",
        "colab": {}
      },
      "source": [
        "df['DateTime'] = pd.to_datetime(df.index)"
      ],
      "execution_count": 0,
      "outputs": []
    },
    {
      "cell_type": "code",
      "metadata": {
        "id": "kt0NQ0YZU6yB",
        "colab_type": "code",
        "colab": {}
      },
      "source": [
        "missing=df.isnull()"
      ],
      "execution_count": 0,
      "outputs": []
    },
    {
      "cell_type": "code",
      "metadata": {
        "id": "4V3hhCZTWM40",
        "colab_type": "code",
        "outputId": "2a946ca9-9334-4615-a16c-996f3ce3357f",
        "colab": {
          "base_uri": "https://localhost:8080/",
          "height": 83
        }
      },
      "source": [
        "df.columns"
      ],
      "execution_count": 0,
      "outputs": [
        {
          "output_type": "execute_result",
          "data": {
            "text/plain": [
              "Index(['TICKER', 'FIGI', 'TYPE', 'FREQUENCY', 'OPEN', 'HIGH', 'LOW', 'CLOSE',\n",
              "       'VOLUME', 'ADJ_OPEN', 'ADJ_HIGH', 'ADJ_LOW', 'ADJ_CLOSE', 'ADJ_VOLUME',\n",
              "       'ADJ_FACTOR', 'EX_DIVIDEND', 'SPLIT_RATIO', 'Year', 'DateTime'],\n",
              "      dtype='object')"
            ]
          },
          "metadata": {
            "tags": []
          },
          "execution_count": 16
        }
      ]
    },
    {
      "cell_type": "code",
      "metadata": {
        "id": "A8YRERg9Y1Pc",
        "colab_type": "code",
        "colab": {}
      },
      "source": [
        "df = df[df.TYPE != 'Intraday']"
      ],
      "execution_count": 0,
      "outputs": []
    },
    {
      "cell_type": "code",
      "metadata": {
        "id": "TrQtnN-uhezs",
        "colab_type": "code",
        "colab": {}
      },
      "source": [
        "df = df[df.Year != 2013]"
      ],
      "execution_count": 0,
      "outputs": []
    },
    {
      "cell_type": "code",
      "metadata": {
        "id": "_dGIBSlSVAh-",
        "colab_type": "code",
        "outputId": "413ec396-d7be-4d45-fc76-a487d8fd228e",
        "colab": {
          "base_uri": "https://localhost:8080/",
          "height": 343
        }
      },
      "source": [
        "sns.heatmap(missing)"
      ],
      "execution_count": 0,
      "outputs": [
        {
          "output_type": "execute_result",
          "data": {
            "text/plain": [
              "<matplotlib.axes._subplots.AxesSubplot at 0x7f161c2f5320>"
            ]
          },
          "metadata": {
            "tags": []
          },
          "execution_count": 19
        },
        {
          "output_type": "display_data",
          "data": {
            "image/png": "[encoded data removed]",
            "text/plain": [
              "<Figure size 432x288 with 2 Axes>"
            ]
          },
          "metadata": {
            "tags": [],
            "needs_background": "light"
          }
        }
      ]
    },
    {
      "cell_type": "code",
      "metadata": {
        "id": "VDElTc1CVweM",
        "colab_type": "code",
        "colab": {}
      },
      "source": [
        "df.drop(['ADJ_FACTOR'], axis=1, inplace=True)"
      ],
      "execution_count": 0,
      "outputs": []
    },
    {
      "cell_type": "code",
      "metadata": {
        "id": "u2j_e3izjY4R",
        "colab_type": "code",
        "outputId": "24beaf34-b8ae-4d67-bef3-70df546ac78f",
        "colab": {
          "base_uri": "https://localhost:8080/",
          "height": 282
        }
      },
      "source": [
        "plt.plot(df.index, df['OPEN'])"
      ],
      "execution_count": 0,
      "outputs": [
        {
          "output_type": "execute_result",
          "data": {
            "text/plain": [
              "[<matplotlib.lines.Line2D at 0x7f1618718240>]"
            ]
          },
          "metadata": {
            "tags": []
          },
          "execution_count": 21
        },
        {
          "output_type": "display_data",
          "data": {
            "image/png": "[encoded data removed]",
            "text/plain": [
              "<Figure size 432x288 with 1 Axes>"
            ]
          },
          "metadata": {
            "tags": [],
            "needs_background": "light"
          }
        }
      ]
    },
    {
      "cell_type": "markdown",
      "metadata": {
        "id": "48s7QWKNq3hR",
        "colab_type": "text"
      },
      "source": [
        "# Emphasize the growth"
      ]
    },
    {
      "cell_type": "code",
      "metadata": {
        "id": "ytFYVwTYped6",
        "colab_type": "code",
        "outputId": "4d0f46f7-59e1-4278-8838-f4764af5105d",
        "colab": {
          "base_uri": "https://localhost:8080/",
          "height": 526
        }
      },
      "source": [
        "# Import data\n",
        "# df = pd.read_csv('datasets/AirPassengers.csv', parse_dates=['date'])\n",
        "x = df['Year'].values\n",
        "y1 = df['OPEN'].values\n",
        "\n",
        "# Plot\n",
        "fig, ax = plt.subplots(1, 1, figsize=(16,5), dpi= 120)\n",
        "plt.fill_between(x, y1=y1, y2=-y1, alpha=1,  color='seagreen')\n",
        "plt.ylim(-40, 40)\n",
        "plt.title('New Germany Fund', fontsize=16)\n",
        "plt.hlines(y=0, xmin=np.min(x), xmax=np.max(x))\n",
        "plt.show()"
      ],
      "execution_count": 0,
      "outputs": [
        {
          "output_type": "display_data",
          "data": {
            "image/png": "[encoded data removed]",
            "text/plain": [
              "<Figure size 1920x600 with 1 Axes>"
            ]
          },
          "metadata": {
            "tags": [],
            "needs_background": "light"
          }
        }
      ]
    },
    {
      "cell_type": "markdown",
      "metadata": {
        "id": "CGAbTtEAttTV",
        "colab_type": "text"
      },
      "source": [
        "# AutoCorrelation"
      ]
    },
    {
      "cell_type": "code",
      "metadata": {
        "id": "CwKWAsaZjQXG",
        "colab_type": "code",
        "colab": {}
      },
      "source": [
        "from statsmodels.graphics.tsaplots import plot_acf"
      ],
      "execution_count": 0,
      "outputs": []
    },
    {
      "cell_type": "code",
      "metadata": {
        "id": "-4SZUDcVc5x8",
        "colab_type": "code",
        "outputId": "8bb22236-4364-4d96-de40-02a3514895ab",
        "colab": {
          "base_uri": "https://localhost:8080/",
          "height": 281
        }
      },
      "source": [
        "plot_acf(df['y'], lags=30)\n",
        "plt.show()"
      ],
      "execution_count": 0,
      "outputs": [
        {
          "output_type": "display_data",
          "data": {
            "image/png": "[encoded data removed]",
            "text/plain": [
              "<Figure size 432x288 with 1 Axes>"
            ]
          },
          "metadata": {
            "tags": [],
            "needs_background": "light"
          }
        }
      ]
    },
    {
      "cell_type": "markdown",
      "metadata": {
        "id": "JxrgdSG4txQp",
        "colab_type": "text"
      },
      "source": [
        "# Prophet"
      ]
    },
    {
      "cell_type": "markdown",
      "metadata": {
        "id": "FpXgljmf6T9g",
        "colab_type": "text"
      },
      "source": [
        "Reference: https://towardsdatascience.com/implementing-facebook-prophet-efficiently-c241305405a3"
      ]
    },
    {
      "cell_type": "code",
      "metadata": {
        "id": "GB0Bdl0ckWlY",
        "colab_type": "code",
        "outputId": "83aab081-42dd-4d69-e1c1-e8a16a3cfb1e",
        "colab": {
          "base_uri": "https://localhost:8080/",
          "height": 117
        }
      },
      "source": [
        "!pip install Prophet"
      ],
      "execution_count": 0,
      "outputs": [
        {
          "output_type": "stream",
          "text": [
            "Requirement already satisfied: Prophet in /usr/local/lib/python3.6/dist-packages (0.1.1)\n",
            "Requirement already satisfied: six>=1.8.0 in /usr/local/lib/python3.6/dist-packages (from Prophet) (1.12.0)\n",
            "Requirement already satisfied: pytz>=2014.9 in /usr/local/lib/python3.6/dist-packages (from Prophet) (2018.9)\n",
            "Requirement already satisfied: pandas>=0.15.1 in /usr/local/lib/python3.6/dist-packages (from Prophet) (1.0.3)\n",
            "Requirement already satisfied: numpy>=1.13.3 in /usr/local/lib/python3.6/dist-packages (from pandas>=0.15.1->Prophet) (1.18.3)\n",
            "Requirement already satisfied: python-dateutil>=2.6.1 in /usr/local/lib/python3.6/dist-packages (from pandas>=0.15.1->Prophet) (2.8.1)\n"
          ],
          "name": "stdout"
        }
      ]
    },
    {
      "cell_type": "code",
      "metadata": {
        "id": "aZjxVWrKnzLm",
        "colab_type": "code",
        "colab": {}
      },
      "source": [
        "import fbprophet"
      ],
      "execution_count": 0,
      "outputs": []
    },
    {
      "cell_type": "code",
      "metadata": {
        "id": "nJRnj7nL_koy",
        "colab_type": "code",
        "colab": {}
      },
      "source": [
        "from fbprophet.diagnostics import cross_validation"
      ],
      "execution_count": 0,
      "outputs": []
    },
    {
      "cell_type": "markdown",
      "metadata": {
        "id": "c-Od8d9Evs8o",
        "colab_type": "text"
      },
      "source": [
        "# Preprocess for Prophet"
      ]
    },
    {
      "cell_type": "code",
      "metadata": {
        "id": "YH61OoR0nmbn",
        "colab_type": "code",
        "colab": {}
      },
      "source": [
        "# Prophet requires columns ds (Date) and y (value)\n",
        "df = df.rename(columns={'DateTime': 'ds', 'OPEN': 'y'})"
      ],
      "execution_count": 0,
      "outputs": []
    },
    {
      "cell_type": "code",
      "metadata": {
        "id": "06pH0MXw1-AD",
        "colab_type": "code",
        "outputId": "155ed39d-930c-4cd8-d3a3-cfd81bca65cd",
        "colab": {
          "base_uri": "https://localhost:8080/",
          "height": 437
        }
      },
      "source": [
        "df"
      ],
      "execution_count": 0,
      "outputs": [
        {
          "output_type": "execute_result",
          "data": {
            "text/html": [
              "<div>\n",
              "<style scoped>\n",
              "    .dataframe tbody tr th:only-of-type {\n",
              "        vertical-align: middle;\n",
              "    }\n",
              "\n",
              "    .dataframe tbody tr th {\n",
              "        vertical-align: top;\n",
              "    }\n",
              "\n",
              "    .dataframe thead th {\n",
              "        text-align: right;\n",
              "    }\n",
              "</style>\n",
              "<table border=\"1\" class=\"dataframe\">\n",
              "  <thead>\n",
              "    <tr style=\"text-align: right;\">\n",
              "      <th></th>\n",
              "      <th>TICKER</th>\n",
              "      <th>FIGI</th>\n",
              "      <th>TYPE</th>\n",
              "      <th>FREQUENCY</th>\n",
              "      <th>y</th>\n",
              "      <th>HIGH</th>\n",
              "      <th>LOW</th>\n",
              "      <th>CLOSE</th>\n",
              "      <th>VOLUME</th>\n",
              "      <th>ADJ_OPEN</th>\n",
              "      <th>ADJ_HIGH</th>\n",
              "      <th>ADJ_LOW</th>\n",
              "      <th>ADJ_CLOSE</th>\n",
              "      <th>ADJ_VOLUME</th>\n",
              "      <th>EX_DIVIDEND</th>\n",
              "      <th>SPLIT_RATIO</th>\n",
              "      <th>Year</th>\n",
              "      <th>ds</th>\n",
              "    </tr>\n",
              "    <tr>\n",
              "      <th>DATE</th>\n",
              "      <th></th>\n",
              "      <th></th>\n",
              "      <th></th>\n",
              "      <th></th>\n",
              "      <th></th>\n",
              "      <th></th>\n",
              "      <th></th>\n",
              "      <th></th>\n",
              "      <th></th>\n",
              "      <th></th>\n",
              "      <th></th>\n",
              "      <th></th>\n",
              "      <th></th>\n",
              "      <th></th>\n",
              "      <th></th>\n",
              "      <th></th>\n",
              "      <th></th>\n",
              "      <th></th>\n",
              "    </tr>\n",
              "  </thead>\n",
              "  <tbody>\n",
              "    <tr>\n",
              "      <th>2018-06-04</th>\n",
              "      <td>GF</td>\n",
              "      <td>BBG000C3C6S2</td>\n",
              "      <td>EOD</td>\n",
              "      <td>daily</td>\n",
              "      <td>18.86</td>\n",
              "      <td>18.8900</td>\n",
              "      <td>18.7900</td>\n",
              "      <td>18.8100</td>\n",
              "      <td>39095.0</td>\n",
              "      <td>18.860000</td>\n",
              "      <td>18.890000</td>\n",
              "      <td>18.790000</td>\n",
              "      <td>18.810000</td>\n",
              "      <td>39095.0</td>\n",
              "      <td>0.0</td>\n",
              "      <td>1.0</td>\n",
              "      <td>2018</td>\n",
              "      <td>2018-06-04</td>\n",
              "    </tr>\n",
              "    <tr>\n",
              "      <th>2018-06-01</th>\n",
              "      <td>GF</td>\n",
              "      <td>BBG000C3C6S2</td>\n",
              "      <td>EOD</td>\n",
              "      <td>daily</td>\n",
              "      <td>18.58</td>\n",
              "      <td>18.7600</td>\n",
              "      <td>18.5800</td>\n",
              "      <td>18.7400</td>\n",
              "      <td>17468.0</td>\n",
              "      <td>18.580000</td>\n",
              "      <td>18.760000</td>\n",
              "      <td>18.580000</td>\n",
              "      <td>18.740000</td>\n",
              "      <td>17468.0</td>\n",
              "      <td>0.0</td>\n",
              "      <td>1.0</td>\n",
              "      <td>2018</td>\n",
              "      <td>2018-06-01</td>\n",
              "    </tr>\n",
              "    <tr>\n",
              "      <th>2018-05-31</th>\n",
              "      <td>GF</td>\n",
              "      <td>BBG000C3C6S2</td>\n",
              "      <td>EOD</td>\n",
              "      <td>daily</td>\n",
              "      <td>18.52</td>\n",
              "      <td>18.5200</td>\n",
              "      <td>18.3012</td>\n",
              "      <td>18.4900</td>\n",
              "      <td>22384.0</td>\n",
              "      <td>18.520000</td>\n",
              "      <td>18.520000</td>\n",
              "      <td>18.301200</td>\n",
              "      <td>18.490000</td>\n",
              "      <td>22384.0</td>\n",
              "      <td>0.0</td>\n",
              "      <td>1.0</td>\n",
              "      <td>2018</td>\n",
              "      <td>2018-05-31</td>\n",
              "    </tr>\n",
              "    <tr>\n",
              "      <th>2018-05-30</th>\n",
              "      <td>GF</td>\n",
              "      <td>BBG000C3C6S2</td>\n",
              "      <td>EOD</td>\n",
              "      <td>daily</td>\n",
              "      <td>18.47</td>\n",
              "      <td>18.6780</td>\n",
              "      <td>18.4700</td>\n",
              "      <td>18.6500</td>\n",
              "      <td>22633.0</td>\n",
              "      <td>18.470000</td>\n",
              "      <td>18.678000</td>\n",
              "      <td>18.470000</td>\n",
              "      <td>18.650000</td>\n",
              "      <td>22633.0</td>\n",
              "      <td>0.0</td>\n",
              "      <td>1.0</td>\n",
              "      <td>2018</td>\n",
              "      <td>2018-05-30</td>\n",
              "    </tr>\n",
              "    <tr>\n",
              "      <th>2018-05-29</th>\n",
              "      <td>GF</td>\n",
              "      <td>BBG000C3C6S2</td>\n",
              "      <td>EOD</td>\n",
              "      <td>daily</td>\n",
              "      <td>18.51</td>\n",
              "      <td>18.5100</td>\n",
              "      <td>18.1500</td>\n",
              "      <td>18.2562</td>\n",
              "      <td>67412.0</td>\n",
              "      <td>18.510000</td>\n",
              "      <td>18.510000</td>\n",
              "      <td>18.150000</td>\n",
              "      <td>18.256200</td>\n",
              "      <td>67412.0</td>\n",
              "      <td>0.0</td>\n",
              "      <td>1.0</td>\n",
              "      <td>2018</td>\n",
              "      <td>2018-05-29</td>\n",
              "    </tr>\n",
              "    <tr>\n",
              "      <th>...</th>\n",
              "      <td>...</td>\n",
              "      <td>...</td>\n",
              "      <td>...</td>\n",
              "      <td>...</td>\n",
              "      <td>...</td>\n",
              "      <td>...</td>\n",
              "      <td>...</td>\n",
              "      <td>...</td>\n",
              "      <td>...</td>\n",
              "      <td>...</td>\n",
              "      <td>...</td>\n",
              "      <td>...</td>\n",
              "      <td>...</td>\n",
              "      <td>...</td>\n",
              "      <td>...</td>\n",
              "      <td>...</td>\n",
              "      <td>...</td>\n",
              "      <td>...</td>\n",
              "    </tr>\n",
              "    <tr>\n",
              "      <th>2014-06-27</th>\n",
              "      <td>GF</td>\n",
              "      <td>BBG000C3C6S2</td>\n",
              "      <td>EOD</td>\n",
              "      <td>daily</td>\n",
              "      <td>18.63</td>\n",
              "      <td>18.6300</td>\n",
              "      <td>18.5100</td>\n",
              "      <td>18.6100</td>\n",
              "      <td>28400.0</td>\n",
              "      <td>11.717560</td>\n",
              "      <td>11.717560</td>\n",
              "      <td>11.642085</td>\n",
              "      <td>11.704981</td>\n",
              "      <td>28400.0</td>\n",
              "      <td>0.0</td>\n",
              "      <td>1.0</td>\n",
              "      <td>2014</td>\n",
              "      <td>2014-06-27</td>\n",
              "    </tr>\n",
              "    <tr>\n",
              "      <th>2014-06-26</th>\n",
              "      <td>GF</td>\n",
              "      <td>BBG000C3C6S2</td>\n",
              "      <td>EOD</td>\n",
              "      <td>daily</td>\n",
              "      <td>18.52</td>\n",
              "      <td>18.5901</td>\n",
              "      <td>18.4200</td>\n",
              "      <td>18.5300</td>\n",
              "      <td>60000.0</td>\n",
              "      <td>11.648374</td>\n",
              "      <td>11.692464</td>\n",
              "      <td>11.585478</td>\n",
              "      <td>11.654664</td>\n",
              "      <td>60000.0</td>\n",
              "      <td>0.0</td>\n",
              "      <td>1.0</td>\n",
              "      <td>2014</td>\n",
              "      <td>2014-06-26</td>\n",
              "    </tr>\n",
              "    <tr>\n",
              "      <th>2014-06-25</th>\n",
              "      <td>GF</td>\n",
              "      <td>BBG000C3C6S2</td>\n",
              "      <td>EOD</td>\n",
              "      <td>daily</td>\n",
              "      <td>18.66</td>\n",
              "      <td>18.7200</td>\n",
              "      <td>18.5900</td>\n",
              "      <td>18.6000</td>\n",
              "      <td>171700.0</td>\n",
              "      <td>11.736429</td>\n",
              "      <td>11.774167</td>\n",
              "      <td>11.692402</td>\n",
              "      <td>11.698691</td>\n",
              "      <td>171700.0</td>\n",
              "      <td>0.0</td>\n",
              "      <td>1.0</td>\n",
              "      <td>2014</td>\n",
              "      <td>2014-06-25</td>\n",
              "    </tr>\n",
              "    <tr>\n",
              "      <th>2014-06-24</th>\n",
              "      <td>GF</td>\n",
              "      <td>BBG000C3C6S2</td>\n",
              "      <td>EOD</td>\n",
              "      <td>daily</td>\n",
              "      <td>18.91</td>\n",
              "      <td>18.9500</td>\n",
              "      <td>18.8300</td>\n",
              "      <td>18.8300</td>\n",
              "      <td>35200.0</td>\n",
              "      <td>11.893669</td>\n",
              "      <td>11.918828</td>\n",
              "      <td>11.843352</td>\n",
              "      <td>11.843352</td>\n",
              "      <td>35200.0</td>\n",
              "      <td>0.0</td>\n",
              "      <td>1.0</td>\n",
              "      <td>2014</td>\n",
              "      <td>2014-06-24</td>\n",
              "    </tr>\n",
              "    <tr>\n",
              "      <th>2014-06-23</th>\n",
              "      <td>GF</td>\n",
              "      <td>BBG000C3C6S2</td>\n",
              "      <td>EOD</td>\n",
              "      <td>daily</td>\n",
              "      <td>19.05</td>\n",
              "      <td>19.0500</td>\n",
              "      <td>18.9500</td>\n",
              "      <td>18.9500</td>\n",
              "      <td>34300.0</td>\n",
              "      <td>11.981724</td>\n",
              "      <td>11.981724</td>\n",
              "      <td>11.918828</td>\n",
              "      <td>11.918828</td>\n",
              "      <td>34300.0</td>\n",
              "      <td>0.0</td>\n",
              "      <td>1.0</td>\n",
              "      <td>2014</td>\n",
              "      <td>2014-06-23</td>\n",
              "    </tr>\n",
              "  </tbody>\n",
              "</table>\n",
              "<p>995 rows × 18 columns</p>\n",
              "</div>"
            ],
            "text/plain": [
              "           TICKER          FIGI TYPE  ... SPLIT_RATIO  Year         ds\n",
              "DATE                                  ...                             \n",
              "2018-06-04     GF  BBG000C3C6S2  EOD  ...         1.0  2018 2018-06-04\n",
              "2018-06-01     GF  BBG000C3C6S2  EOD  ...         1.0  2018 2018-06-01\n",
              "2018-05-31     GF  BBG000C3C6S2  EOD  ...         1.0  2018 2018-05-31\n",
              "2018-05-30     GF  BBG000C3C6S2  EOD  ...         1.0  2018 2018-05-30\n",
              "2018-05-29     GF  BBG000C3C6S2  EOD  ...         1.0  2018 2018-05-29\n",
              "...           ...           ...  ...  ...         ...   ...        ...\n",
              "2014-06-27     GF  BBG000C3C6S2  EOD  ...         1.0  2014 2014-06-27\n",
              "2014-06-26     GF  BBG000C3C6S2  EOD  ...         1.0  2014 2014-06-26\n",
              "2014-06-25     GF  BBG000C3C6S2  EOD  ...         1.0  2014 2014-06-25\n",
              "2014-06-24     GF  BBG000C3C6S2  EOD  ...         1.0  2014 2014-06-24\n",
              "2014-06-23     GF  BBG000C3C6S2  EOD  ...         1.0  2014 2014-06-23\n",
              "\n",
              "[995 rows x 18 columns]"
            ]
          },
          "metadata": {
            "tags": []
          },
          "execution_count": 54
        }
      ]
    },
    {
      "cell_type": "markdown",
      "metadata": {
        "id": "SVqypu1Fvg_i",
        "colab_type": "text"
      },
      "source": [
        "# Fit"
      ]
    },
    {
      "cell_type": "code",
      "metadata": {
        "id": "jm9JxMxfvbxa",
        "colab_type": "code",
        "colab": {}
      },
      "source": [
        "df_prophet = fbprophet.Prophet(changepoint_prior_scale=0.15, n_changepoints=i)\n",
        "df_prophet.fit(df)"
      ],
      "execution_count": 0,
      "outputs": []
    },
    {
      "cell_type": "markdown",
      "metadata": {
        "id": "qTmHcziNvjC_",
        "colab_type": "text"
      },
      "source": [
        "# Validation"
      ]
    },
    {
      "cell_type": "code",
      "metadata": {
        "id": "QATkuoYW_vUP",
        "colab_type": "code",
        "outputId": "d4fd85f3-999a-4585-b551-8cd870f7aad1",
        "colab": {
          "base_uri": "https://localhost:8080/",
          "height": 133
        }
      },
      "source": [
        "cv_results=cross_validation (df_prophet, \"30 days\")"
      ],
      "execution_count": 0,
      "outputs": [
        {
          "output_type": "stream",
          "text": [
            "INFO:fbprophet:Making 70 forecasts with cutoffs between 2015-07-05 00:00:00 and 2018-05-05 00:00:00\n",
            "WARNING:fbprophet:Optimization terminated abnormally. Falling back to Newton.\n",
            "WARNING:fbprophet:Optimization terminated abnormally. Falling back to Newton.\n",
            "WARNING:fbprophet:Optimization terminated abnormally. Falling back to Newton.\n",
            "WARNING:fbprophet:Optimization terminated abnormally. Falling back to Newton.\n",
            "WARNING:fbprophet:Optimization terminated abnormally. Falling back to Newton.\n",
            "WARNING:fbprophet:Optimization terminated abnormally. Falling back to Newton.\n"
          ],
          "name": "stderr"
        }
      ]
    },
    {
      "cell_type": "code",
      "metadata": {
        "id": "xTeuH4UpCKpL",
        "colab_type": "code",
        "outputId": "178b4c0e-a2fa-4eba-ca50-bdef14ba8c1e",
        "colab": {
          "base_uri": "https://localhost:8080/",
          "height": 33
        }
      },
      "source": [
        "mspe(cv_results.y, cv_results.yhat)"
      ],
      "execution_count": 0,
      "outputs": [
        {
          "output_type": "execute_result",
          "data": {
            "text/plain": [
              "6.075813659522292"
            ]
          },
          "metadata": {
            "tags": []
          },
          "execution_count": 168
        }
      ]
    },
    {
      "cell_type": "markdown",
      "metadata": {
        "id": "5-Tyvznfut5Z",
        "colab_type": "text"
      },
      "source": [
        "# Hyperparameters: Check the Best Value of n_changepoints"
      ]
    },
    {
      "cell_type": "code",
      "metadata": {
        "id": "rTUppTyovYkq",
        "colab_type": "code",
        "colab": {}
      },
      "source": [
        "MSPE=np.zeros((10,1))"
      ],
      "execution_count": 0,
      "outputs": []
    },
    {
      "cell_type": "code",
      "metadata": {
        "id": "ikJjqMzboHKl",
        "colab_type": "code",
        "outputId": "ac844697-7b02-4bb3-b734-b8b0edd504bc",
        "colab": {
          "base_uri": "https://localhost:8080/",
          "height": 350
        }
      },
      "source": [
        "# Make the prophet model and fit on the data\n",
        "for i in range(10):\n",
        "  df_prophet = fbprophet.Prophet(changepoint_prior_scale=0.15, n_changepoints=i)\n",
        "  df_prophet.fit(df)\n",
        "  # future = df_prophet.make_future_dataframe(periods=30, freq='D')\n",
        "  cv_results=cross_validation (df_prophet, \"30 days\")\n",
        "  MSPE[i]=mspe(cv_results.y, cv_results.yhat)"
      ],
      "execution_count": 0,
      "outputs": [
        {
          "output_type": "stream",
          "text": [
            "INFO:fbprophet:Disabling daily seasonality. Run prophet with daily_seasonality=True to override this.\n",
            "INFO:fbprophet:Making 70 forecasts with cutoffs between 2015-07-05 00:00:00 and 2018-05-05 00:00:00\n",
            "INFO:fbprophet:Disabling daily seasonality. Run prophet with daily_seasonality=True to override this.\n",
            "INFO:fbprophet:Making 70 forecasts with cutoffs between 2015-07-05 00:00:00 and 2018-05-05 00:00:00\n",
            "INFO:fbprophet:Disabling daily seasonality. Run prophet with daily_seasonality=True to override this.\n",
            "INFO:fbprophet:Making 70 forecasts with cutoffs between 2015-07-05 00:00:00 and 2018-05-05 00:00:00\n",
            "INFO:fbprophet:Disabling daily seasonality. Run prophet with daily_seasonality=True to override this.\n",
            "INFO:fbprophet:Making 70 forecasts with cutoffs between 2015-07-05 00:00:00 and 2018-05-05 00:00:00\n",
            "INFO:fbprophet:Disabling daily seasonality. Run prophet with daily_seasonality=True to override this.\n",
            "INFO:fbprophet:Making 70 forecasts with cutoffs between 2015-07-05 00:00:00 and 2018-05-05 00:00:00\n",
            "INFO:fbprophet:Disabling daily seasonality. Run prophet with daily_seasonality=True to override this.\n",
            "INFO:fbprophet:Making 70 forecasts with cutoffs between 2015-07-05 00:00:00 and 2018-05-05 00:00:00\n",
            "INFO:fbprophet:Disabling daily seasonality. Run prophet with daily_seasonality=True to override this.\n",
            "INFO:fbprophet:Making 70 forecasts with cutoffs between 2015-07-05 00:00:00 and 2018-05-05 00:00:00\n",
            "INFO:fbprophet:Disabling daily seasonality. Run prophet with daily_seasonality=True to override this.\n",
            "INFO:fbprophet:Making 70 forecasts with cutoffs between 2015-07-05 00:00:00 and 2018-05-05 00:00:00\n",
            "INFO:fbprophet:Disabling daily seasonality. Run prophet with daily_seasonality=True to override this.\n",
            "INFO:fbprophet:Making 70 forecasts with cutoffs between 2015-07-05 00:00:00 and 2018-05-05 00:00:00\n",
            "INFO:fbprophet:Disabling daily seasonality. Run prophet with daily_seasonality=True to override this.\n",
            "INFO:fbprophet:Making 70 forecasts with cutoffs between 2015-07-05 00:00:00 and 2018-05-05 00:00:00\n"
          ],
          "name": "stderr"
        }
      ]
    },
    {
      "cell_type": "markdown",
      "metadata": {
        "id": "tIBLjOLNu1SX",
        "colab_type": "text"
      },
      "source": [
        "# Plot of MAPE vs n_changepoints"
      ]
    },
    {
      "cell_type": "code",
      "metadata": {
        "id": "_DmouRd3AYQ2",
        "colab_type": "code",
        "colab": {}
      },
      "source": [
        "def mape(y_true , y_pred):\n",
        "  return np.mean(np.abs((np.array(y_true)-np.array(y_pred))/np.array(y_true)))*100 "
      ],
      "execution_count": 0,
      "outputs": []
    },
    {
      "cell_type": "code",
      "metadata": {
        "id": "Yiq5qjMXwNaa",
        "colab_type": "code",
        "outputId": "4a55b3ab-d7a2-40b0-88d0-e210e8a24c58",
        "colab": {
          "base_uri": "https://localhost:8080/",
          "height": 282
        }
      },
      "source": [
        "plt.plot(np.arange(0,10,1), MSPE)"
      ],
      "execution_count": 0,
      "outputs": [
        {
          "output_type": "execute_result",
          "data": {
            "text/plain": [
              "[<matplotlib.lines.Line2D at 0x7f16140e4630>]"
            ]
          },
          "metadata": {
            "tags": []
          },
          "execution_count": 55
        },
        {
          "output_type": "display_data",
          "data": {
            "image/png": "[encoded data removed]",
            "text/plain": [
              "<Figure size 432x288 with 1 Axes>"
            ]
          },
          "metadata": {
            "tags": [],
            "needs_background": "light"
          }
        }
      ]
    },
    {
      "cell_type": "markdown",
      "metadata": {
        "id": "7SAhwDEuvHSK",
        "colab_type": "text"
      },
      "source": [
        "# Forecast"
      ]
    },
    {
      "cell_type": "code",
      "metadata": {
        "id": "mXW0RXmo0cou",
        "colab_type": "code",
        "outputId": "e087baa9-f8e9-48bc-8d41-50b9f97fa6bd",
        "colab": {
          "base_uri": "https://localhost:8080/",
          "height": 347
        }
      },
      "source": [
        "future = df_prophet.make_future_dataframe(periods=125, freq='D')\n",
        "future.tail(10)"
      ],
      "execution_count": 0,
      "outputs": [
        {
          "output_type": "execute_result",
          "data": {
            "text/html": [
              "<div>\n",
              "<style scoped>\n",
              "    .dataframe tbody tr th:only-of-type {\n",
              "        vertical-align: middle;\n",
              "    }\n",
              "\n",
              "    .dataframe tbody tr th {\n",
              "        vertical-align: top;\n",
              "    }\n",
              "\n",
              "    .dataframe thead th {\n",
              "        text-align: right;\n",
              "    }\n",
              "</style>\n",
              "<table border=\"1\" class=\"dataframe\">\n",
              "  <thead>\n",
              "    <tr style=\"text-align: right;\">\n",
              "      <th></th>\n",
              "      <th>ds</th>\n",
              "    </tr>\n",
              "  </thead>\n",
              "  <tbody>\n",
              "    <tr>\n",
              "      <th>1110</th>\n",
              "      <td>2018-09-28</td>\n",
              "    </tr>\n",
              "    <tr>\n",
              "      <th>1111</th>\n",
              "      <td>2018-09-29</td>\n",
              "    </tr>\n",
              "    <tr>\n",
              "      <th>1112</th>\n",
              "      <td>2018-09-30</td>\n",
              "    </tr>\n",
              "    <tr>\n",
              "      <th>1113</th>\n",
              "      <td>2018-10-01</td>\n",
              "    </tr>\n",
              "    <tr>\n",
              "      <th>1114</th>\n",
              "      <td>2018-10-02</td>\n",
              "    </tr>\n",
              "    <tr>\n",
              "      <th>1115</th>\n",
              "      <td>2018-10-03</td>\n",
              "    </tr>\n",
              "    <tr>\n",
              "      <th>1116</th>\n",
              "      <td>2018-10-04</td>\n",
              "    </tr>\n",
              "    <tr>\n",
              "      <th>1117</th>\n",
              "      <td>2018-10-05</td>\n",
              "    </tr>\n",
              "    <tr>\n",
              "      <th>1118</th>\n",
              "      <td>2018-10-06</td>\n",
              "    </tr>\n",
              "    <tr>\n",
              "      <th>1119</th>\n",
              "      <td>2018-10-07</td>\n",
              "    </tr>\n",
              "  </tbody>\n",
              "</table>\n",
              "</div>"
            ],
            "text/plain": [
              "             ds\n",
              "1110 2018-09-28\n",
              "1111 2018-09-29\n",
              "1112 2018-09-30\n",
              "1113 2018-10-01\n",
              "1114 2018-10-02\n",
              "1115 2018-10-03\n",
              "1116 2018-10-04\n",
              "1117 2018-10-05\n",
              "1118 2018-10-06\n",
              "1119 2018-10-07"
            ]
          },
          "metadata": {
            "tags": []
          },
          "execution_count": 163
        }
      ]
    },
    {
      "cell_type": "code",
      "metadata": {
        "id": "S6ge6G0N0rsH",
        "colab_type": "code",
        "outputId": "1927cab7-fb86-4d71-ed7b-cfd86424eff0",
        "colab": {
          "base_uri": "https://localhost:8080/",
          "height": 347
        }
      },
      "source": [
        "forecast = df_prophet.predict(future)\n",
        "forecast[['ds', 'yhat', 'yhat_lower', 'yhat_upper']].tail(10)"
      ],
      "execution_count": 0,
      "outputs": [
        {
          "output_type": "execute_result",
          "data": {
            "text/html": [
              "<div>\n",
              "<style scoped>\n",
              "    .dataframe tbody tr th:only-of-type {\n",
              "        vertical-align: middle;\n",
              "    }\n",
              "\n",
              "    .dataframe tbody tr th {\n",
              "        vertical-align: top;\n",
              "    }\n",
              "\n",
              "    .dataframe thead th {\n",
              "        text-align: right;\n",
              "    }\n",
              "</style>\n",
              "<table border=\"1\" class=\"dataframe\">\n",
              "  <thead>\n",
              "    <tr style=\"text-align: right;\">\n",
              "      <th></th>\n",
              "      <th>ds</th>\n",
              "      <th>yhat</th>\n",
              "      <th>yhat_lower</th>\n",
              "      <th>yhat_upper</th>\n",
              "    </tr>\n",
              "  </thead>\n",
              "  <tbody>\n",
              "    <tr>\n",
              "      <th>1110</th>\n",
              "      <td>2018-09-28</td>\n",
              "      <td>21.404781</td>\n",
              "      <td>20.286210</td>\n",
              "      <td>22.492589</td>\n",
              "    </tr>\n",
              "    <tr>\n",
              "      <th>1111</th>\n",
              "      <td>2018-09-29</td>\n",
              "      <td>21.509759</td>\n",
              "      <td>20.442172</td>\n",
              "      <td>22.561356</td>\n",
              "    </tr>\n",
              "    <tr>\n",
              "      <th>1112</th>\n",
              "      <td>2018-09-30</td>\n",
              "      <td>21.511617</td>\n",
              "      <td>20.382382</td>\n",
              "      <td>22.579559</td>\n",
              "    </tr>\n",
              "    <tr>\n",
              "      <th>1113</th>\n",
              "      <td>2018-10-01</td>\n",
              "      <td>21.410803</td>\n",
              "      <td>20.352877</td>\n",
              "      <td>22.426763</td>\n",
              "    </tr>\n",
              "    <tr>\n",
              "      <th>1114</th>\n",
              "      <td>2018-10-02</td>\n",
              "      <td>21.406729</td>\n",
              "      <td>20.314577</td>\n",
              "      <td>22.417558</td>\n",
              "    </tr>\n",
              "    <tr>\n",
              "      <th>1115</th>\n",
              "      <td>2018-10-03</td>\n",
              "      <td>21.415508</td>\n",
              "      <td>20.271595</td>\n",
              "      <td>22.379754</td>\n",
              "    </tr>\n",
              "    <tr>\n",
              "      <th>1116</th>\n",
              "      <td>2018-10-04</td>\n",
              "      <td>21.404697</td>\n",
              "      <td>20.269485</td>\n",
              "      <td>22.426462</td>\n",
              "    </tr>\n",
              "    <tr>\n",
              "      <th>1117</th>\n",
              "      <td>2018-10-05</td>\n",
              "      <td>21.406854</td>\n",
              "      <td>20.266672</td>\n",
              "      <td>22.442975</td>\n",
              "    </tr>\n",
              "    <tr>\n",
              "      <th>1118</th>\n",
              "      <td>2018-10-06</td>\n",
              "      <td>21.507326</td>\n",
              "      <td>20.378217</td>\n",
              "      <td>22.519620</td>\n",
              "    </tr>\n",
              "    <tr>\n",
              "      <th>1119</th>\n",
              "      <td>2018-10-07</td>\n",
              "      <td>21.506067</td>\n",
              "      <td>20.468116</td>\n",
              "      <td>22.578952</td>\n",
              "    </tr>\n",
              "  </tbody>\n",
              "</table>\n",
              "</div>"
            ],
            "text/plain": [
              "             ds       yhat  yhat_lower  yhat_upper\n",
              "1110 2018-09-28  21.404781   20.286210   22.492589\n",
              "1111 2018-09-29  21.509759   20.442172   22.561356\n",
              "1112 2018-09-30  21.511617   20.382382   22.579559\n",
              "1113 2018-10-01  21.410803   20.352877   22.426763\n",
              "1114 2018-10-02  21.406729   20.314577   22.417558\n",
              "1115 2018-10-03  21.415508   20.271595   22.379754\n",
              "1116 2018-10-04  21.404697   20.269485   22.426462\n",
              "1117 2018-10-05  21.406854   20.266672   22.442975\n",
              "1118 2018-10-06  21.507326   20.378217   22.519620\n",
              "1119 2018-10-07  21.506067   20.468116   22.578952"
            ]
          },
          "metadata": {
            "tags": []
          },
          "execution_count": 164
        }
      ]
    },
    {
      "cell_type": "code",
      "metadata": {
        "id": "ytD-tDGg8eiU",
        "colab_type": "code",
        "outputId": "a80c6e44-aef8-4254-8ba1-d98668079aca",
        "colab": {
          "base_uri": "https://localhost:8080/",
          "height": 473
        }
      },
      "source": [
        "df_prophet.plot(forecast, xlabel = 'Date', ylabel = 'NGF')\n",
        "plt.title('NGF')"
      ],
      "execution_count": 0,
      "outputs": [
        {
          "output_type": "execute_result",
          "data": {
            "text/plain": [
              "Text(0.5, 1.0, 'NGF')"
            ]
          },
          "metadata": {
            "tags": []
          },
          "execution_count": 165
        },
        {
          "output_type": "display_data",
          "data": {
            "image/png": "[encoded data removed]",
            "text/plain": [
              "<Figure size 720x432 with 1 Axes>"
            ]
          },
          "metadata": {
            "tags": []
          }
        }
      ]
    }
  ]
}