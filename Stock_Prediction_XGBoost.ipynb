{
  "nbformat": 4,
  "nbformat_minor": 0,
  "metadata": {
    "colab": {
      "name": "Stock Prediction:XGBoost.ipynb",
      "provenance": []
    },
    "kernelspec": {
      "name": "python3",
      "display_name": "Python 3"
    }
  },
  "cells": [
    {
      "cell_type": "code",
      "metadata": {
        "id": "aXdJfAOMBRUP"
      },
      "source": [
        "import matplotlib.pyplot as plt\n",
        "%matplotlib inline"
      ],
      "execution_count": null,
      "outputs": []
    },
    {
      "cell_type": "code",
      "metadata": {
        "id": "f-8t1j_gBS2d"
      },
      "source": [
        "from pydrive.auth import GoogleAuth\n",
        "from pydrive.drive import GoogleDrive\n",
        "from google.colab import auth\n",
        "from oauth2client.client import GoogleCredentials"
      ],
      "execution_count": null,
      "outputs": []
    },
    {
      "cell_type": "code",
      "metadata": {
        "id": "sXuoYdCnBUjz"
      },
      "source": [
        "auth.authenticate_user()\n",
        "gauth = GoogleAuth()\n",
        "gauth.credentials = GoogleCredentials.get_application_default()\n",
        "drive = GoogleDrive(gauth)"
      ],
      "execution_count": null,
      "outputs": []
    },
    {
      "cell_type": "code",
      "metadata": {
        "id": "-MgdL2QnBc0b"
      },
      "source": [
        "import pandas as pd"
      ],
      "execution_count": null,
      "outputs": []
    },
    {
      "cell_type": "code",
      "metadata": {
        "id": "xf4MWrRiBs0S"
      },
      "source": [
        "import numpy as np"
      ],
      "execution_count": null,
      "outputs": []
    },
    {
      "cell_type": "code",
      "metadata": {
        "id": "9Ep5MOJiBvI_"
      },
      "source": [
        "#Dataset\n",
        "downloaded = drive.CreateFile({'id':\"12f9gd7u5hGDwWEZgOd-O9iMkM6lE9vF-\"})   # replace the id with id of file you want to access\n",
        "downloaded.GetContentFile('stock_prices_sample.csv')        # replace the file name with your file"
      ],
      "execution_count": null,
      "outputs": []
    },
    {
      "cell_type": "code",
      "metadata": {
        "id": "9OQt4EKdLbKW"
      },
      "source": [
        "df=pd.read_csv('stock_prices_sample.csv')"
      ],
      "execution_count": null,
      "outputs": []
    },
    {
      "cell_type": "code",
      "metadata": {
        "id": "Ab11JVuk8-FD"
      },
      "source": [
        "def get_year(date):\n",
        "  year=date.split('-')[0]\n",
        "  return year"
      ],
      "execution_count": null,
      "outputs": []
    },
    {
      "cell_type": "code",
      "metadata": {
        "id": "QrOuAkWo9KYX"
      },
      "source": [
        "df['Year']=df['DATE'].apply(get_year)"
      ],
      "execution_count": null,
      "outputs": []
    },
    {
      "cell_type": "code",
      "metadata": {
        "id": "c_Y8hu6z9MjZ"
      },
      "source": [
        "df = df[df['Year'] != '2013']"
      ],
      "execution_count": null,
      "outputs": []
    },
    {
      "cell_type": "code",
      "metadata": {
        "id": "C0-Ag39KDfsD"
      },
      "source": [
        "data=df[ ['DATE', 'OPEN']]"
      ],
      "execution_count": null,
      "outputs": []
    },
    {
      "cell_type": "markdown",
      "metadata": {
        "id": "4tOvxo0PDFUz"
      },
      "source": [
        "# Preprocessing Dataset"
      ]
    },
    {
      "cell_type": "code",
      "metadata": {
        "id": "0WaQfnB49OIL"
      },
      "source": [
        "from datetime import date\n",
        "from fastai.tabular import add_datepart\n",
        "from matplotlib import pyplot as plt\n",
        "from pylab import rcParams\n",
        "from sklearn.metrics import mean_squared_error\n",
        "from sklearn.preprocessing import LabelEncoder\n",
        "from sklearn.preprocessing import StandardScaler\n",
        "from tqdm import tqdm_notebook\n",
        "from xgboost import XGBRegressor"
      ],
      "execution_count": null,
      "outputs": []
    },
    {
      "cell_type": "code",
      "metadata": {
        "id": "QVKqvTECEarA",
        "colab": {
          "base_uri": "https://localhost:8080/",
          "height": 416
        },
        "outputId": "4a4553ac-500d-4734-f789-d7df2c368261"
      },
      "source": [
        "add_datepart(data, 'DATE', drop=False)\n",
        "data.drop('DATEElapsed', axis=1, inplace=True)  # don't need this"
      ],
      "execution_count": null,
      "outputs": [
        {
          "output_type": "stream",
          "text": [
            "/usr/local/lib/python3.6/dist-packages/fastai/tabular/transform.py:16: SettingWithCopyWarning: \n",
            "A value is trying to be set on a copy of a slice from a DataFrame.\n",
            "Try using .loc[row_indexer,col_indexer] = value instead\n",
            "\n",
            "See the caveats in the documentation: https://pandas.pydata.org/pandas-docs/stable/user_guide/indexing.html#returning-a-view-versus-a-copy\n",
            "  df[date_field] = pd.to_datetime(df[date_field], infer_datetime_format=True)\n",
            "/usr/local/lib/python3.6/dist-packages/fastai/tabular/transform.py:63: SettingWithCopyWarning: \n",
            "A value is trying to be set on a copy of a slice from a DataFrame.\n",
            "Try using .loc[row_indexer,col_indexer] = value instead\n",
            "\n",
            "See the caveats in the documentation: https://pandas.pydata.org/pandas-docs/stable/user_guide/indexing.html#returning-a-view-versus-a-copy\n",
            "  for n in attr: df[prefix + n] = getattr(field.dt, n.lower())\n",
            "/usr/local/lib/python3.6/dist-packages/fastai/tabular/transform.py:64: SettingWithCopyWarning: \n",
            "A value is trying to be set on a copy of a slice from a DataFrame.\n",
            "Try using .loc[row_indexer,col_indexer] = value instead\n",
            "\n",
            "See the caveats in the documentation: https://pandas.pydata.org/pandas-docs/stable/user_guide/indexing.html#returning-a-view-versus-a-copy\n",
            "  df[prefix + 'Elapsed'] = field.astype(np.int64) // 10 ** 9\n",
            "/usr/local/lib/python3.6/dist-packages/pandas/core/frame.py:3997: SettingWithCopyWarning: \n",
            "A value is trying to be set on a copy of a slice from a DataFrame\n",
            "\n",
            "See the caveats in the documentation: https://pandas.pydata.org/pandas-docs/stable/user_guide/indexing.html#returning-a-view-versus-a-copy\n",
            "  errors=errors,\n"
          ],
          "name": "stderr"
        }
      ]
    },
    {
      "cell_type": "code",
      "metadata": {
        "id": "uBSvqaHXk1FY"
      },
      "source": [
        "#Reverse Order of Data\n",
        "data=data.iloc[::-1]"
      ],
      "execution_count": null,
      "outputs": []
    },
    {
      "cell_type": "code",
      "metadata": {
        "id": "tZYDn7N1Fle6",
        "colab": {
          "base_uri": "https://localhost:8080/",
          "height": 609
        },
        "outputId": "4a56e6b9-c315-4bd8-e1c6-7dc55801e1fd"
      },
      "source": [
        "data"
      ],
      "execution_count": null,
      "outputs": [
        {
          "output_type": "execute_result",
          "data": {
            "text/html": [
              "<div>\n",
              "<style scoped>\n",
              "    .dataframe tbody tr th:only-of-type {\n",
              "        vertical-align: middle;\n",
              "    }\n",
              "\n",
              "    .dataframe tbody tr th {\n",
              "        vertical-align: top;\n",
              "    }\n",
              "\n",
              "    .dataframe thead th {\n",
              "        text-align: right;\n",
              "    }\n",
              "</style>\n",
              "<table border=\"1\" class=\"dataframe\">\n",
              "  <thead>\n",
              "    <tr style=\"text-align: right;\">\n",
              "      <th></th>\n",
              "      <th>DATE</th>\n",
              "      <th>OPEN</th>\n",
              "      <th>DATEYear</th>\n",
              "      <th>DATEMonth</th>\n",
              "      <th>DATEWeek</th>\n",
              "      <th>DATEDay</th>\n",
              "      <th>DATEDayofweek</th>\n",
              "      <th>DATEDayofyear</th>\n",
              "      <th>DATEIs_month_end</th>\n",
              "      <th>DATEIs_month_start</th>\n",
              "      <th>DATEIs_quarter_end</th>\n",
              "      <th>DATEIs_quarter_start</th>\n",
              "      <th>DATEIs_year_end</th>\n",
              "      <th>DATEIs_year_start</th>\n",
              "    </tr>\n",
              "  </thead>\n",
              "  <tbody>\n",
              "    <tr>\n",
              "      <th>998</th>\n",
              "      <td>2014-06-23</td>\n",
              "      <td>19.05</td>\n",
              "      <td>2014</td>\n",
              "      <td>6</td>\n",
              "      <td>26</td>\n",
              "      <td>23</td>\n",
              "      <td>0</td>\n",
              "      <td>174</td>\n",
              "      <td>False</td>\n",
              "      <td>False</td>\n",
              "      <td>False</td>\n",
              "      <td>False</td>\n",
              "      <td>False</td>\n",
              "      <td>False</td>\n",
              "    </tr>\n",
              "    <tr>\n",
              "      <th>997</th>\n",
              "      <td>2014-06-24</td>\n",
              "      <td>18.91</td>\n",
              "      <td>2014</td>\n",
              "      <td>6</td>\n",
              "      <td>26</td>\n",
              "      <td>24</td>\n",
              "      <td>1</td>\n",
              "      <td>175</td>\n",
              "      <td>False</td>\n",
              "      <td>False</td>\n",
              "      <td>False</td>\n",
              "      <td>False</td>\n",
              "      <td>False</td>\n",
              "      <td>False</td>\n",
              "    </tr>\n",
              "    <tr>\n",
              "      <th>996</th>\n",
              "      <td>2014-06-25</td>\n",
              "      <td>18.66</td>\n",
              "      <td>2014</td>\n",
              "      <td>6</td>\n",
              "      <td>26</td>\n",
              "      <td>25</td>\n",
              "      <td>2</td>\n",
              "      <td>176</td>\n",
              "      <td>False</td>\n",
              "      <td>False</td>\n",
              "      <td>False</td>\n",
              "      <td>False</td>\n",
              "      <td>False</td>\n",
              "      <td>False</td>\n",
              "    </tr>\n",
              "    <tr>\n",
              "      <th>995</th>\n",
              "      <td>2014-06-26</td>\n",
              "      <td>18.52</td>\n",
              "      <td>2014</td>\n",
              "      <td>6</td>\n",
              "      <td>26</td>\n",
              "      <td>26</td>\n",
              "      <td>3</td>\n",
              "      <td>177</td>\n",
              "      <td>False</td>\n",
              "      <td>False</td>\n",
              "      <td>False</td>\n",
              "      <td>False</td>\n",
              "      <td>False</td>\n",
              "      <td>False</td>\n",
              "    </tr>\n",
              "    <tr>\n",
              "      <th>994</th>\n",
              "      <td>2014-06-27</td>\n",
              "      <td>18.63</td>\n",
              "      <td>2014</td>\n",
              "      <td>6</td>\n",
              "      <td>26</td>\n",
              "      <td>27</td>\n",
              "      <td>4</td>\n",
              "      <td>178</td>\n",
              "      <td>False</td>\n",
              "      <td>False</td>\n",
              "      <td>False</td>\n",
              "      <td>False</td>\n",
              "      <td>False</td>\n",
              "      <td>False</td>\n",
              "    </tr>\n",
              "    <tr>\n",
              "      <th>...</th>\n",
              "      <td>...</td>\n",
              "      <td>...</td>\n",
              "      <td>...</td>\n",
              "      <td>...</td>\n",
              "      <td>...</td>\n",
              "      <td>...</td>\n",
              "      <td>...</td>\n",
              "      <td>...</td>\n",
              "      <td>...</td>\n",
              "      <td>...</td>\n",
              "      <td>...</td>\n",
              "      <td>...</td>\n",
              "      <td>...</td>\n",
              "      <td>...</td>\n",
              "    </tr>\n",
              "    <tr>\n",
              "      <th>7</th>\n",
              "      <td>2018-05-30</td>\n",
              "      <td>18.47</td>\n",
              "      <td>2018</td>\n",
              "      <td>5</td>\n",
              "      <td>22</td>\n",
              "      <td>30</td>\n",
              "      <td>2</td>\n",
              "      <td>150</td>\n",
              "      <td>False</td>\n",
              "      <td>False</td>\n",
              "      <td>False</td>\n",
              "      <td>False</td>\n",
              "      <td>False</td>\n",
              "      <td>False</td>\n",
              "    </tr>\n",
              "    <tr>\n",
              "      <th>6</th>\n",
              "      <td>2018-05-31</td>\n",
              "      <td>18.52</td>\n",
              "      <td>2018</td>\n",
              "      <td>5</td>\n",
              "      <td>22</td>\n",
              "      <td>31</td>\n",
              "      <td>3</td>\n",
              "      <td>151</td>\n",
              "      <td>True</td>\n",
              "      <td>False</td>\n",
              "      <td>False</td>\n",
              "      <td>False</td>\n",
              "      <td>False</td>\n",
              "      <td>False</td>\n",
              "    </tr>\n",
              "    <tr>\n",
              "      <th>5</th>\n",
              "      <td>2018-06-01</td>\n",
              "      <td>18.58</td>\n",
              "      <td>2018</td>\n",
              "      <td>6</td>\n",
              "      <td>22</td>\n",
              "      <td>1</td>\n",
              "      <td>4</td>\n",
              "      <td>152</td>\n",
              "      <td>False</td>\n",
              "      <td>True</td>\n",
              "      <td>False</td>\n",
              "      <td>False</td>\n",
              "      <td>False</td>\n",
              "      <td>False</td>\n",
              "    </tr>\n",
              "    <tr>\n",
              "      <th>4</th>\n",
              "      <td>2018-06-04</td>\n",
              "      <td>18.86</td>\n",
              "      <td>2018</td>\n",
              "      <td>6</td>\n",
              "      <td>23</td>\n",
              "      <td>4</td>\n",
              "      <td>0</td>\n",
              "      <td>155</td>\n",
              "      <td>False</td>\n",
              "      <td>False</td>\n",
              "      <td>False</td>\n",
              "      <td>False</td>\n",
              "      <td>False</td>\n",
              "      <td>False</td>\n",
              "    </tr>\n",
              "    <tr>\n",
              "      <th>3</th>\n",
              "      <td>2018-06-05</td>\n",
              "      <td>18.86</td>\n",
              "      <td>2018</td>\n",
              "      <td>6</td>\n",
              "      <td>23</td>\n",
              "      <td>5</td>\n",
              "      <td>1</td>\n",
              "      <td>156</td>\n",
              "      <td>False</td>\n",
              "      <td>False</td>\n",
              "      <td>False</td>\n",
              "      <td>False</td>\n",
              "      <td>False</td>\n",
              "      <td>False</td>\n",
              "    </tr>\n",
              "  </tbody>\n",
              "</table>\n",
              "<p>996 rows × 14 columns</p>\n",
              "</div>"
            ],
            "text/plain": [
              "          DATE   OPEN  ...  DATEIs_year_end  DATEIs_year_start\n",
              "998 2014-06-23  19.05  ...            False              False\n",
              "997 2014-06-24  18.91  ...            False              False\n",
              "996 2014-06-25  18.66  ...            False              False\n",
              "995 2014-06-26  18.52  ...            False              False\n",
              "994 2014-06-27  18.63  ...            False              False\n",
              "..         ...    ...  ...              ...                ...\n",
              "7   2018-05-30  18.47  ...            False              False\n",
              "6   2018-05-31  18.52  ...            False              False\n",
              "5   2018-06-01  18.58  ...            False              False\n",
              "4   2018-06-04  18.86  ...            False              False\n",
              "3   2018-06-05  18.86  ...            False              False\n",
              "\n",
              "[996 rows x 14 columns]"
            ]
          },
          "metadata": {
            "tags": []
          },
          "execution_count": 16
        }
      ]
    },
    {
      "cell_type": "code",
      "metadata": {
        "id": "oj2KqdmmGAbv"
      },
      "source": [
        "data.loc[:, 'DATEYear'] = LabelEncoder().fit_transform(data['DATEYear'])"
      ],
      "execution_count": null,
      "outputs": []
    },
    {
      "cell_type": "markdown",
      "metadata": {
        "id": "YUTs38k8WlAk"
      },
      "source": [
        "## Add Lag Features"
      ]
    },
    {
      "cell_type": "code",
      "metadata": {
        "id": "fy58gM3LHnUF"
      },
      "source": [
        "N=15"
      ],
      "execution_count": null,
      "outputs": []
    },
    {
      "cell_type": "code",
      "metadata": {
        "id": "xpPZwAokKMk0"
      },
      "source": [
        "col_name='OPEN'"
      ],
      "execution_count": null,
      "outputs": []
    },
    {
      "cell_type": "code",
      "metadata": {
        "id": "nmd84ywbKI1a"
      },
      "source": [
        "def add_lags(data, col_name, num):\n",
        "  index=np.array([i for i in range (data.shape[0])])\n",
        "  shift_list=index+1\n",
        "  shift_list=shift_list[:N]\n",
        "  for num in shift_list:\n",
        "    train_shift=data[col_name].shift(periods=num)\n",
        "    name='{}_lag_{}'.format(col_name, num)\n",
        "    data[name]=train_shift\n",
        "  return data\n"
      ],
      "execution_count": null,
      "outputs": []
    },
    {
      "cell_type": "code",
      "metadata": {
        "id": "D5btxyAeKhF7"
      },
      "source": [
        "data=add_lags(data, col_name, N)"
      ],
      "execution_count": null,
      "outputs": []
    },
    {
      "cell_type": "code",
      "metadata": {
        "id": "pRRoddCVUZOZ",
        "colab": {
          "base_uri": "https://localhost:8080/",
          "height": 609
        },
        "outputId": "5d391854-40c9-4082-a1e9-e18502c03a36"
      },
      "source": [
        "data"
      ],
      "execution_count": null,
      "outputs": [
        {
          "output_type": "execute_result",
          "data": {
            "text/html": [
              "<div>\n",
              "<style scoped>\n",
              "    .dataframe tbody tr th:only-of-type {\n",
              "        vertical-align: middle;\n",
              "    }\n",
              "\n",
              "    .dataframe tbody tr th {\n",
              "        vertical-align: top;\n",
              "    }\n",
              "\n",
              "    .dataframe thead th {\n",
              "        text-align: right;\n",
              "    }\n",
              "</style>\n",
              "<table border=\"1\" class=\"dataframe\">\n",
              "  <thead>\n",
              "    <tr style=\"text-align: right;\">\n",
              "      <th></th>\n",
              "      <th>DATE</th>\n",
              "      <th>OPEN</th>\n",
              "      <th>DATEYear</th>\n",
              "      <th>DATEMonth</th>\n",
              "      <th>DATEWeek</th>\n",
              "      <th>DATEDay</th>\n",
              "      <th>DATEDayofweek</th>\n",
              "      <th>DATEDayofyear</th>\n",
              "      <th>DATEIs_month_end</th>\n",
              "      <th>DATEIs_month_start</th>\n",
              "      <th>DATEIs_quarter_end</th>\n",
              "      <th>DATEIs_quarter_start</th>\n",
              "      <th>DATEIs_year_end</th>\n",
              "      <th>DATEIs_year_start</th>\n",
              "      <th>OPEN_lag_1</th>\n",
              "      <th>OPEN_lag_2</th>\n",
              "      <th>OPEN_lag_3</th>\n",
              "      <th>OPEN_lag_4</th>\n",
              "      <th>OPEN_lag_5</th>\n",
              "      <th>OPEN_lag_6</th>\n",
              "      <th>OPEN_lag_7</th>\n",
              "      <th>OPEN_lag_8</th>\n",
              "      <th>OPEN_lag_9</th>\n",
              "      <th>OPEN_lag_10</th>\n",
              "      <th>OPEN_lag_11</th>\n",
              "      <th>OPEN_lag_12</th>\n",
              "      <th>OPEN_lag_13</th>\n",
              "      <th>OPEN_lag_14</th>\n",
              "      <th>OPEN_lag_15</th>\n",
              "    </tr>\n",
              "  </thead>\n",
              "  <tbody>\n",
              "    <tr>\n",
              "      <th>998</th>\n",
              "      <td>2014-06-23</td>\n",
              "      <td>19.05</td>\n",
              "      <td>0</td>\n",
              "      <td>6</td>\n",
              "      <td>26</td>\n",
              "      <td>23</td>\n",
              "      <td>0</td>\n",
              "      <td>174</td>\n",
              "      <td>False</td>\n",
              "      <td>False</td>\n",
              "      <td>False</td>\n",
              "      <td>False</td>\n",
              "      <td>False</td>\n",
              "      <td>False</td>\n",
              "      <td>NaN</td>\n",
              "      <td>NaN</td>\n",
              "      <td>NaN</td>\n",
              "      <td>NaN</td>\n",
              "      <td>NaN</td>\n",
              "      <td>NaN</td>\n",
              "      <td>NaN</td>\n",
              "      <td>NaN</td>\n",
              "      <td>NaN</td>\n",
              "      <td>NaN</td>\n",
              "      <td>NaN</td>\n",
              "      <td>NaN</td>\n",
              "      <td>NaN</td>\n",
              "      <td>NaN</td>\n",
              "      <td>NaN</td>\n",
              "    </tr>\n",
              "    <tr>\n",
              "      <th>997</th>\n",
              "      <td>2014-06-24</td>\n",
              "      <td>18.91</td>\n",
              "      <td>0</td>\n",
              "      <td>6</td>\n",
              "      <td>26</td>\n",
              "      <td>24</td>\n",
              "      <td>1</td>\n",
              "      <td>175</td>\n",
              "      <td>False</td>\n",
              "      <td>False</td>\n",
              "      <td>False</td>\n",
              "      <td>False</td>\n",
              "      <td>False</td>\n",
              "      <td>False</td>\n",
              "      <td>19.05</td>\n",
              "      <td>NaN</td>\n",
              "      <td>NaN</td>\n",
              "      <td>NaN</td>\n",
              "      <td>NaN</td>\n",
              "      <td>NaN</td>\n",
              "      <td>NaN</td>\n",
              "      <td>NaN</td>\n",
              "      <td>NaN</td>\n",
              "      <td>NaN</td>\n",
              "      <td>NaN</td>\n",
              "      <td>NaN</td>\n",
              "      <td>NaN</td>\n",
              "      <td>NaN</td>\n",
              "      <td>NaN</td>\n",
              "    </tr>\n",
              "    <tr>\n",
              "      <th>996</th>\n",
              "      <td>2014-06-25</td>\n",
              "      <td>18.66</td>\n",
              "      <td>0</td>\n",
              "      <td>6</td>\n",
              "      <td>26</td>\n",
              "      <td>25</td>\n",
              "      <td>2</td>\n",
              "      <td>176</td>\n",
              "      <td>False</td>\n",
              "      <td>False</td>\n",
              "      <td>False</td>\n",
              "      <td>False</td>\n",
              "      <td>False</td>\n",
              "      <td>False</td>\n",
              "      <td>18.91</td>\n",
              "      <td>19.05</td>\n",
              "      <td>NaN</td>\n",
              "      <td>NaN</td>\n",
              "      <td>NaN</td>\n",
              "      <td>NaN</td>\n",
              "      <td>NaN</td>\n",
              "      <td>NaN</td>\n",
              "      <td>NaN</td>\n",
              "      <td>NaN</td>\n",
              "      <td>NaN</td>\n",
              "      <td>NaN</td>\n",
              "      <td>NaN</td>\n",
              "      <td>NaN</td>\n",
              "      <td>NaN</td>\n",
              "    </tr>\n",
              "    <tr>\n",
              "      <th>995</th>\n",
              "      <td>2014-06-26</td>\n",
              "      <td>18.52</td>\n",
              "      <td>0</td>\n",
              "      <td>6</td>\n",
              "      <td>26</td>\n",
              "      <td>26</td>\n",
              "      <td>3</td>\n",
              "      <td>177</td>\n",
              "      <td>False</td>\n",
              "      <td>False</td>\n",
              "      <td>False</td>\n",
              "      <td>False</td>\n",
              "      <td>False</td>\n",
              "      <td>False</td>\n",
              "      <td>18.66</td>\n",
              "      <td>18.91</td>\n",
              "      <td>19.05</td>\n",
              "      <td>NaN</td>\n",
              "      <td>NaN</td>\n",
              "      <td>NaN</td>\n",
              "      <td>NaN</td>\n",
              "      <td>NaN</td>\n",
              "      <td>NaN</td>\n",
              "      <td>NaN</td>\n",
              "      <td>NaN</td>\n",
              "      <td>NaN</td>\n",
              "      <td>NaN</td>\n",
              "      <td>NaN</td>\n",
              "      <td>NaN</td>\n",
              "    </tr>\n",
              "    <tr>\n",
              "      <th>994</th>\n",
              "      <td>2014-06-27</td>\n",
              "      <td>18.63</td>\n",
              "      <td>0</td>\n",
              "      <td>6</td>\n",
              "      <td>26</td>\n",
              "      <td>27</td>\n",
              "      <td>4</td>\n",
              "      <td>178</td>\n",
              "      <td>False</td>\n",
              "      <td>False</td>\n",
              "      <td>False</td>\n",
              "      <td>False</td>\n",
              "      <td>False</td>\n",
              "      <td>False</td>\n",
              "      <td>18.52</td>\n",
              "      <td>18.66</td>\n",
              "      <td>18.91</td>\n",
              "      <td>19.05</td>\n",
              "      <td>NaN</td>\n",
              "      <td>NaN</td>\n",
              "      <td>NaN</td>\n",
              "      <td>NaN</td>\n",
              "      <td>NaN</td>\n",
              "      <td>NaN</td>\n",
              "      <td>NaN</td>\n",
              "      <td>NaN</td>\n",
              "      <td>NaN</td>\n",
              "      <td>NaN</td>\n",
              "      <td>NaN</td>\n",
              "    </tr>\n",
              "    <tr>\n",
              "      <th>...</th>\n",
              "      <td>...</td>\n",
              "      <td>...</td>\n",
              "      <td>...</td>\n",
              "      <td>...</td>\n",
              "      <td>...</td>\n",
              "      <td>...</td>\n",
              "      <td>...</td>\n",
              "      <td>...</td>\n",
              "      <td>...</td>\n",
              "      <td>...</td>\n",
              "      <td>...</td>\n",
              "      <td>...</td>\n",
              "      <td>...</td>\n",
              "      <td>...</td>\n",
              "      <td>...</td>\n",
              "      <td>...</td>\n",
              "      <td>...</td>\n",
              "      <td>...</td>\n",
              "      <td>...</td>\n",
              "      <td>...</td>\n",
              "      <td>...</td>\n",
              "      <td>...</td>\n",
              "      <td>...</td>\n",
              "      <td>...</td>\n",
              "      <td>...</td>\n",
              "      <td>...</td>\n",
              "      <td>...</td>\n",
              "      <td>...</td>\n",
              "      <td>...</td>\n",
              "    </tr>\n",
              "    <tr>\n",
              "      <th>7</th>\n",
              "      <td>2018-05-30</td>\n",
              "      <td>18.47</td>\n",
              "      <td>4</td>\n",
              "      <td>5</td>\n",
              "      <td>22</td>\n",
              "      <td>30</td>\n",
              "      <td>2</td>\n",
              "      <td>150</td>\n",
              "      <td>False</td>\n",
              "      <td>False</td>\n",
              "      <td>False</td>\n",
              "      <td>False</td>\n",
              "      <td>False</td>\n",
              "      <td>False</td>\n",
              "      <td>18.51</td>\n",
              "      <td>18.76</td>\n",
              "      <td>18.78</td>\n",
              "      <td>18.83</td>\n",
              "      <td>19.26</td>\n",
              "      <td>19.31</td>\n",
              "      <td>19.14</td>\n",
              "      <td>19.72</td>\n",
              "      <td>19.50</td>\n",
              "      <td>19.50</td>\n",
              "      <td>19.73</td>\n",
              "      <td>19.79</td>\n",
              "      <td>19.66</td>\n",
              "      <td>19.55</td>\n",
              "      <td>19.39</td>\n",
              "    </tr>\n",
              "    <tr>\n",
              "      <th>6</th>\n",
              "      <td>2018-05-31</td>\n",
              "      <td>18.52</td>\n",
              "      <td>4</td>\n",
              "      <td>5</td>\n",
              "      <td>22</td>\n",
              "      <td>31</td>\n",
              "      <td>3</td>\n",
              "      <td>151</td>\n",
              "      <td>True</td>\n",
              "      <td>False</td>\n",
              "      <td>False</td>\n",
              "      <td>False</td>\n",
              "      <td>False</td>\n",
              "      <td>False</td>\n",
              "      <td>18.47</td>\n",
              "      <td>18.51</td>\n",
              "      <td>18.76</td>\n",
              "      <td>18.78</td>\n",
              "      <td>18.83</td>\n",
              "      <td>19.26</td>\n",
              "      <td>19.31</td>\n",
              "      <td>19.14</td>\n",
              "      <td>19.72</td>\n",
              "      <td>19.50</td>\n",
              "      <td>19.50</td>\n",
              "      <td>19.73</td>\n",
              "      <td>19.79</td>\n",
              "      <td>19.66</td>\n",
              "      <td>19.55</td>\n",
              "    </tr>\n",
              "    <tr>\n",
              "      <th>5</th>\n",
              "      <td>2018-06-01</td>\n",
              "      <td>18.58</td>\n",
              "      <td>4</td>\n",
              "      <td>6</td>\n",
              "      <td>22</td>\n",
              "      <td>1</td>\n",
              "      <td>4</td>\n",
              "      <td>152</td>\n",
              "      <td>False</td>\n",
              "      <td>True</td>\n",
              "      <td>False</td>\n",
              "      <td>False</td>\n",
              "      <td>False</td>\n",
              "      <td>False</td>\n",
              "      <td>18.52</td>\n",
              "      <td>18.47</td>\n",
              "      <td>18.51</td>\n",
              "      <td>18.76</td>\n",
              "      <td>18.78</td>\n",
              "      <td>18.83</td>\n",
              "      <td>19.26</td>\n",
              "      <td>19.31</td>\n",
              "      <td>19.14</td>\n",
              "      <td>19.72</td>\n",
              "      <td>19.50</td>\n",
              "      <td>19.50</td>\n",
              "      <td>19.73</td>\n",
              "      <td>19.79</td>\n",
              "      <td>19.66</td>\n",
              "    </tr>\n",
              "    <tr>\n",
              "      <th>4</th>\n",
              "      <td>2018-06-04</td>\n",
              "      <td>18.86</td>\n",
              "      <td>4</td>\n",
              "      <td>6</td>\n",
              "      <td>23</td>\n",
              "      <td>4</td>\n",
              "      <td>0</td>\n",
              "      <td>155</td>\n",
              "      <td>False</td>\n",
              "      <td>False</td>\n",
              "      <td>False</td>\n",
              "      <td>False</td>\n",
              "      <td>False</td>\n",
              "      <td>False</td>\n",
              "      <td>18.58</td>\n",
              "      <td>18.52</td>\n",
              "      <td>18.47</td>\n",
              "      <td>18.51</td>\n",
              "      <td>18.76</td>\n",
              "      <td>18.78</td>\n",
              "      <td>18.83</td>\n",
              "      <td>19.26</td>\n",
              "      <td>19.31</td>\n",
              "      <td>19.14</td>\n",
              "      <td>19.72</td>\n",
              "      <td>19.50</td>\n",
              "      <td>19.50</td>\n",
              "      <td>19.73</td>\n",
              "      <td>19.79</td>\n",
              "    </tr>\n",
              "    <tr>\n",
              "      <th>3</th>\n",
              "      <td>2018-06-05</td>\n",
              "      <td>18.86</td>\n",
              "      <td>4</td>\n",
              "      <td>6</td>\n",
              "      <td>23</td>\n",
              "      <td>5</td>\n",
              "      <td>1</td>\n",
              "      <td>156</td>\n",
              "      <td>False</td>\n",
              "      <td>False</td>\n",
              "      <td>False</td>\n",
              "      <td>False</td>\n",
              "      <td>False</td>\n",
              "      <td>False</td>\n",
              "      <td>18.86</td>\n",
              "      <td>18.58</td>\n",
              "      <td>18.52</td>\n",
              "      <td>18.47</td>\n",
              "      <td>18.51</td>\n",
              "      <td>18.76</td>\n",
              "      <td>18.78</td>\n",
              "      <td>18.83</td>\n",
              "      <td>19.26</td>\n",
              "      <td>19.31</td>\n",
              "      <td>19.14</td>\n",
              "      <td>19.72</td>\n",
              "      <td>19.50</td>\n",
              "      <td>19.50</td>\n",
              "      <td>19.73</td>\n",
              "    </tr>\n",
              "  </tbody>\n",
              "</table>\n",
              "<p>996 rows × 29 columns</p>\n",
              "</div>"
            ],
            "text/plain": [
              "          DATE   OPEN  DATEYear  ...  OPEN_lag_13  OPEN_lag_14  OPEN_lag_15\n",
              "998 2014-06-23  19.05         0  ...          NaN          NaN          NaN\n",
              "997 2014-06-24  18.91         0  ...          NaN          NaN          NaN\n",
              "996 2014-06-25  18.66         0  ...          NaN          NaN          NaN\n",
              "995 2014-06-26  18.52         0  ...          NaN          NaN          NaN\n",
              "994 2014-06-27  18.63         0  ...          NaN          NaN          NaN\n",
              "..         ...    ...       ...  ...          ...          ...          ...\n",
              "7   2018-05-30  18.47         4  ...        19.66        19.55        19.39\n",
              "6   2018-05-31  18.52         4  ...        19.79        19.66        19.55\n",
              "5   2018-06-01  18.58         4  ...        19.73        19.79        19.66\n",
              "4   2018-06-04  18.86         4  ...        19.50        19.73        19.79\n",
              "3   2018-06-05  18.86         4  ...        19.50        19.50        19.73\n",
              "\n",
              "[996 rows x 29 columns]"
            ]
          },
          "metadata": {
            "tags": []
          },
          "execution_count": 22
        }
      ]
    },
    {
      "cell_type": "markdown",
      "metadata": {
        "id": "MakK2JHgXQmZ"
      },
      "source": [
        "### Correlation"
      ]
    },
    {
      "cell_type": "code",
      "metadata": {
        "id": "azEZewsoXS1u",
        "colab": {
          "base_uri": "https://localhost:8080/",
          "height": 520
        },
        "outputId": "1c619d08-3ace-4eb1-dd50-5e7cd96a2ab6"
      },
      "source": [
        "corr_matrix = data.corr()\n",
        "corr_matrix[\"OPEN\"].sort_values(ascending=False)"
      ],
      "execution_count": null,
      "outputs": [
        {
          "output_type": "execute_result",
          "data": {
            "text/plain": [
              "OPEN                    1.000000\n",
              "OPEN_lag_1              0.995242\n",
              "OPEN_lag_2              0.991011\n",
              "OPEN_lag_3              0.986718\n",
              "OPEN_lag_4              0.982074\n",
              "OPEN_lag_5              0.977543\n",
              "OPEN_lag_6              0.973308\n",
              "OPEN_lag_7              0.969136\n",
              "OPEN_lag_8              0.965540\n",
              "OPEN_lag_9              0.961490\n",
              "OPEN_lag_10             0.957576\n",
              "OPEN_lag_11             0.953612\n",
              "OPEN_lag_12             0.949433\n",
              "OPEN_lag_13             0.945561\n",
              "OPEN_lag_14             0.941409\n",
              "OPEN_lag_15             0.937183\n",
              "DATEYear                0.322445\n",
              "DATEWeek                0.100380\n",
              "DATEMonth               0.088851\n",
              "DATEDayofyear           0.086562\n",
              "DATEDay                 0.006901\n",
              "DATEIs_month_start      0.004975\n",
              "DATEIs_month_end       -0.001618\n",
              "DATEDayofweek          -0.003524\n",
              "DATEIs_quarter_start   -0.021711\n",
              "DATEIs_year_end        -0.032461\n",
              "DATEIs_quarter_end     -0.038951\n",
              "DATEIs_year_start            NaN\n",
              "Name: OPEN, dtype: float64"
            ]
          },
          "metadata": {
            "tags": []
          },
          "execution_count": 23
        }
      ]
    },
    {
      "cell_type": "code",
      "metadata": {
        "id": "JirgWraxZKvs"
      },
      "source": [
        "N_final=7"
      ],
      "execution_count": null,
      "outputs": []
    },
    {
      "cell_type": "code",
      "metadata": {
        "id": "JxJhnHl8Q9nf"
      },
      "source": [
        "\n",
        "for i in range(N_final+1, N+1, 1):\n",
        "  name='OPEN_lag_{}'.format(i)\n",
        "  data.drop([name], axis=1, inplace=True)"
      ],
      "execution_count": null,
      "outputs": []
    },
    {
      "cell_type": "markdown",
      "metadata": {
        "id": "I5EBu9AjoJqT"
      },
      "source": [
        "# Normalisation"
      ]
    },
    {
      "cell_type": "code",
      "metadata": {
        "id": "3DIyJ9q6MZHd"
      },
      "source": [
        "#rolling can work on panda series\n",
        "def moving_avg_stddev(df, col, N):\n",
        "  mean_list = df[col].rolling(window = N, min_periods=1).mean() # len(mean_list) = len(df)\n",
        "  std_list = df[col].rolling(window = N, min_periods=1).std()   # first value will be NaN, because normalized by N-1\n",
        "  mean_list = np.concatenate((np.array([np.nan]), np.array(mean_list[:-1])))\n",
        "  std_list = np.concatenate((np.array([np.nan]), np.array(std_list[:-1])))\n",
        "\n",
        "  df[col+'_mean'] = mean_list\n",
        "  df[col+'_std'] = std_list\n",
        "\n",
        "  return df"
      ],
      "execution_count": null,
      "outputs": []
    },
    {
      "cell_type": "code",
      "metadata": {
        "id": "rWEh7YDvPNa6"
      },
      "source": [
        "data=moving_avg_stddev(data, 'OPEN', N_final)"
      ],
      "execution_count": null,
      "outputs": []
    },
    {
      "cell_type": "code",
      "metadata": {
        "id": "fSEM4jC6Qi5B"
      },
      "source": [
        "def scaling(data, col_name, N):\n",
        "  df=data.copy()\n",
        "  scaled='{}_scaled'.format(col_name)\n",
        "  mean='{}_mean'.format(col_name)\n",
        "  stddev='{}_std'.format(col_name)\n",
        "  df[scaled] = (df[col_name] - df[mean]) / df[stddev]\n",
        "  for i in range(1, N+1):\n",
        "    name='{}_lag_{}'.format(col_name, i)\n",
        "    scaled_name='{}_lag_scaled_{}'.format(col_name, i)\n",
        "    df[scaled_name]=(df[name]-df[mean]) / df[stddev]\n",
        "    df.drop(name, axis=1, inplace=True)\n",
        "  return df"
      ],
      "execution_count": null,
      "outputs": []
    },
    {
      "cell_type": "code",
      "metadata": {
        "id": "MBM6bND4WTmd",
        "colab": {
          "base_uri": "https://localhost:8080/",
          "height": 609
        },
        "outputId": "1331a5f7-e39a-4880-8b91-5dda4dbe64ab"
      },
      "source": [
        "data"
      ],
      "execution_count": null,
      "outputs": [
        {
          "output_type": "execute_result",
          "data": {
            "text/html": [
              "<div>\n",
              "<style scoped>\n",
              "    .dataframe tbody tr th:only-of-type {\n",
              "        vertical-align: middle;\n",
              "    }\n",
              "\n",
              "    .dataframe tbody tr th {\n",
              "        vertical-align: top;\n",
              "    }\n",
              "\n",
              "    .dataframe thead th {\n",
              "        text-align: right;\n",
              "    }\n",
              "</style>\n",
              "<table border=\"1\" class=\"dataframe\">\n",
              "  <thead>\n",
              "    <tr style=\"text-align: right;\">\n",
              "      <th></th>\n",
              "      <th>DATE</th>\n",
              "      <th>OPEN</th>\n",
              "      <th>DATEYear</th>\n",
              "      <th>DATEMonth</th>\n",
              "      <th>DATEWeek</th>\n",
              "      <th>DATEDay</th>\n",
              "      <th>DATEDayofweek</th>\n",
              "      <th>DATEDayofyear</th>\n",
              "      <th>DATEIs_month_end</th>\n",
              "      <th>DATEIs_month_start</th>\n",
              "      <th>DATEIs_quarter_end</th>\n",
              "      <th>DATEIs_quarter_start</th>\n",
              "      <th>DATEIs_year_end</th>\n",
              "      <th>DATEIs_year_start</th>\n",
              "      <th>OPEN_lag_1</th>\n",
              "      <th>OPEN_lag_2</th>\n",
              "      <th>OPEN_lag_3</th>\n",
              "      <th>OPEN_lag_4</th>\n",
              "      <th>OPEN_lag_5</th>\n",
              "      <th>OPEN_lag_6</th>\n",
              "      <th>OPEN_lag_7</th>\n",
              "      <th>OPEN_mean</th>\n",
              "      <th>OPEN_std</th>\n",
              "    </tr>\n",
              "  </thead>\n",
              "  <tbody>\n",
              "    <tr>\n",
              "      <th>998</th>\n",
              "      <td>2014-06-23</td>\n",
              "      <td>19.05</td>\n",
              "      <td>0</td>\n",
              "      <td>6</td>\n",
              "      <td>26</td>\n",
              "      <td>23</td>\n",
              "      <td>0</td>\n",
              "      <td>174</td>\n",
              "      <td>False</td>\n",
              "      <td>False</td>\n",
              "      <td>False</td>\n",
              "      <td>False</td>\n",
              "      <td>False</td>\n",
              "      <td>False</td>\n",
              "      <td>NaN</td>\n",
              "      <td>NaN</td>\n",
              "      <td>NaN</td>\n",
              "      <td>NaN</td>\n",
              "      <td>NaN</td>\n",
              "      <td>NaN</td>\n",
              "      <td>NaN</td>\n",
              "      <td>NaN</td>\n",
              "      <td>NaN</td>\n",
              "    </tr>\n",
              "    <tr>\n",
              "      <th>997</th>\n",
              "      <td>2014-06-24</td>\n",
              "      <td>18.91</td>\n",
              "      <td>0</td>\n",
              "      <td>6</td>\n",
              "      <td>26</td>\n",
              "      <td>24</td>\n",
              "      <td>1</td>\n",
              "      <td>175</td>\n",
              "      <td>False</td>\n",
              "      <td>False</td>\n",
              "      <td>False</td>\n",
              "      <td>False</td>\n",
              "      <td>False</td>\n",
              "      <td>False</td>\n",
              "      <td>19.05</td>\n",
              "      <td>NaN</td>\n",
              "      <td>NaN</td>\n",
              "      <td>NaN</td>\n",
              "      <td>NaN</td>\n",
              "      <td>NaN</td>\n",
              "      <td>NaN</td>\n",
              "      <td>19.050000</td>\n",
              "      <td>NaN</td>\n",
              "    </tr>\n",
              "    <tr>\n",
              "      <th>996</th>\n",
              "      <td>2014-06-25</td>\n",
              "      <td>18.66</td>\n",
              "      <td>0</td>\n",
              "      <td>6</td>\n",
              "      <td>26</td>\n",
              "      <td>25</td>\n",
              "      <td>2</td>\n",
              "      <td>176</td>\n",
              "      <td>False</td>\n",
              "      <td>False</td>\n",
              "      <td>False</td>\n",
              "      <td>False</td>\n",
              "      <td>False</td>\n",
              "      <td>False</td>\n",
              "      <td>18.91</td>\n",
              "      <td>19.05</td>\n",
              "      <td>NaN</td>\n",
              "      <td>NaN</td>\n",
              "      <td>NaN</td>\n",
              "      <td>NaN</td>\n",
              "      <td>NaN</td>\n",
              "      <td>18.980000</td>\n",
              "      <td>0.098995</td>\n",
              "    </tr>\n",
              "    <tr>\n",
              "      <th>995</th>\n",
              "      <td>2014-06-26</td>\n",
              "      <td>18.52</td>\n",
              "      <td>0</td>\n",
              "      <td>6</td>\n",
              "      <td>26</td>\n",
              "      <td>26</td>\n",
              "      <td>3</td>\n",
              "      <td>177</td>\n",
              "      <td>False</td>\n",
              "      <td>False</td>\n",
              "      <td>False</td>\n",
              "      <td>False</td>\n",
              "      <td>False</td>\n",
              "      <td>False</td>\n",
              "      <td>18.66</td>\n",
              "      <td>18.91</td>\n",
              "      <td>19.05</td>\n",
              "      <td>NaN</td>\n",
              "      <td>NaN</td>\n",
              "      <td>NaN</td>\n",
              "      <td>NaN</td>\n",
              "      <td>18.873333</td>\n",
              "      <td>0.197569</td>\n",
              "    </tr>\n",
              "    <tr>\n",
              "      <th>994</th>\n",
              "      <td>2014-06-27</td>\n",
              "      <td>18.63</td>\n",
              "      <td>0</td>\n",
              "      <td>6</td>\n",
              "      <td>26</td>\n",
              "      <td>27</td>\n",
              "      <td>4</td>\n",
              "      <td>178</td>\n",
              "      <td>False</td>\n",
              "      <td>False</td>\n",
              "      <td>False</td>\n",
              "      <td>False</td>\n",
              "      <td>False</td>\n",
              "      <td>False</td>\n",
              "      <td>18.52</td>\n",
              "      <td>18.66</td>\n",
              "      <td>18.91</td>\n",
              "      <td>19.05</td>\n",
              "      <td>NaN</td>\n",
              "      <td>NaN</td>\n",
              "      <td>NaN</td>\n",
              "      <td>18.785000</td>\n",
              "      <td>0.239235</td>\n",
              "    </tr>\n",
              "    <tr>\n",
              "      <th>...</th>\n",
              "      <td>...</td>\n",
              "      <td>...</td>\n",
              "      <td>...</td>\n",
              "      <td>...</td>\n",
              "      <td>...</td>\n",
              "      <td>...</td>\n",
              "      <td>...</td>\n",
              "      <td>...</td>\n",
              "      <td>...</td>\n",
              "      <td>...</td>\n",
              "      <td>...</td>\n",
              "      <td>...</td>\n",
              "      <td>...</td>\n",
              "      <td>...</td>\n",
              "      <td>...</td>\n",
              "      <td>...</td>\n",
              "      <td>...</td>\n",
              "      <td>...</td>\n",
              "      <td>...</td>\n",
              "      <td>...</td>\n",
              "      <td>...</td>\n",
              "      <td>...</td>\n",
              "      <td>...</td>\n",
              "    </tr>\n",
              "    <tr>\n",
              "      <th>7</th>\n",
              "      <td>2018-05-30</td>\n",
              "      <td>18.47</td>\n",
              "      <td>4</td>\n",
              "      <td>5</td>\n",
              "      <td>22</td>\n",
              "      <td>30</td>\n",
              "      <td>2</td>\n",
              "      <td>150</td>\n",
              "      <td>False</td>\n",
              "      <td>False</td>\n",
              "      <td>False</td>\n",
              "      <td>False</td>\n",
              "      <td>False</td>\n",
              "      <td>False</td>\n",
              "      <td>18.51</td>\n",
              "      <td>18.76</td>\n",
              "      <td>18.78</td>\n",
              "      <td>18.83</td>\n",
              "      <td>19.26</td>\n",
              "      <td>19.31</td>\n",
              "      <td>19.14</td>\n",
              "      <td>18.941429</td>\n",
              "      <td>0.298408</td>\n",
              "    </tr>\n",
              "    <tr>\n",
              "      <th>6</th>\n",
              "      <td>2018-05-31</td>\n",
              "      <td>18.52</td>\n",
              "      <td>4</td>\n",
              "      <td>5</td>\n",
              "      <td>22</td>\n",
              "      <td>31</td>\n",
              "      <td>3</td>\n",
              "      <td>151</td>\n",
              "      <td>True</td>\n",
              "      <td>False</td>\n",
              "      <td>False</td>\n",
              "      <td>False</td>\n",
              "      <td>False</td>\n",
              "      <td>False</td>\n",
              "      <td>18.47</td>\n",
              "      <td>18.51</td>\n",
              "      <td>18.76</td>\n",
              "      <td>18.78</td>\n",
              "      <td>18.83</td>\n",
              "      <td>19.26</td>\n",
              "      <td>19.31</td>\n",
              "      <td>18.845714</td>\n",
              "      <td>0.329892</td>\n",
              "    </tr>\n",
              "    <tr>\n",
              "      <th>5</th>\n",
              "      <td>2018-06-01</td>\n",
              "      <td>18.58</td>\n",
              "      <td>4</td>\n",
              "      <td>6</td>\n",
              "      <td>22</td>\n",
              "      <td>1</td>\n",
              "      <td>4</td>\n",
              "      <td>152</td>\n",
              "      <td>False</td>\n",
              "      <td>True</td>\n",
              "      <td>False</td>\n",
              "      <td>False</td>\n",
              "      <td>False</td>\n",
              "      <td>False</td>\n",
              "      <td>18.52</td>\n",
              "      <td>18.47</td>\n",
              "      <td>18.51</td>\n",
              "      <td>18.76</td>\n",
              "      <td>18.78</td>\n",
              "      <td>18.83</td>\n",
              "      <td>19.26</td>\n",
              "      <td>18.732857</td>\n",
              "      <td>0.275180</td>\n",
              "    </tr>\n",
              "    <tr>\n",
              "      <th>4</th>\n",
              "      <td>2018-06-04</td>\n",
              "      <td>18.86</td>\n",
              "      <td>4</td>\n",
              "      <td>6</td>\n",
              "      <td>23</td>\n",
              "      <td>4</td>\n",
              "      <td>0</td>\n",
              "      <td>155</td>\n",
              "      <td>False</td>\n",
              "      <td>False</td>\n",
              "      <td>False</td>\n",
              "      <td>False</td>\n",
              "      <td>False</td>\n",
              "      <td>False</td>\n",
              "      <td>18.58</td>\n",
              "      <td>18.52</td>\n",
              "      <td>18.47</td>\n",
              "      <td>18.51</td>\n",
              "      <td>18.76</td>\n",
              "      <td>18.78</td>\n",
              "      <td>18.83</td>\n",
              "      <td>18.635714</td>\n",
              "      <td>0.149316</td>\n",
              "    </tr>\n",
              "    <tr>\n",
              "      <th>3</th>\n",
              "      <td>2018-06-05</td>\n",
              "      <td>18.86</td>\n",
              "      <td>4</td>\n",
              "      <td>6</td>\n",
              "      <td>23</td>\n",
              "      <td>5</td>\n",
              "      <td>1</td>\n",
              "      <td>156</td>\n",
              "      <td>False</td>\n",
              "      <td>False</td>\n",
              "      <td>False</td>\n",
              "      <td>False</td>\n",
              "      <td>False</td>\n",
              "      <td>False</td>\n",
              "      <td>18.86</td>\n",
              "      <td>18.58</td>\n",
              "      <td>18.52</td>\n",
              "      <td>18.47</td>\n",
              "      <td>18.51</td>\n",
              "      <td>18.76</td>\n",
              "      <td>18.78</td>\n",
              "      <td>18.640000</td>\n",
              "      <td>0.156098</td>\n",
              "    </tr>\n",
              "  </tbody>\n",
              "</table>\n",
              "<p>996 rows × 23 columns</p>\n",
              "</div>"
            ],
            "text/plain": [
              "          DATE   OPEN  DATEYear  ...  OPEN_lag_7  OPEN_mean  OPEN_std\n",
              "998 2014-06-23  19.05         0  ...         NaN        NaN       NaN\n",
              "997 2014-06-24  18.91         0  ...         NaN  19.050000       NaN\n",
              "996 2014-06-25  18.66         0  ...         NaN  18.980000  0.098995\n",
              "995 2014-06-26  18.52         0  ...         NaN  18.873333  0.197569\n",
              "994 2014-06-27  18.63         0  ...         NaN  18.785000  0.239235\n",
              "..         ...    ...       ...  ...         ...        ...       ...\n",
              "7   2018-05-30  18.47         4  ...       19.14  18.941429  0.298408\n",
              "6   2018-05-31  18.52         4  ...       19.31  18.845714  0.329892\n",
              "5   2018-06-01  18.58         4  ...       19.26  18.732857  0.275180\n",
              "4   2018-06-04  18.86         4  ...       18.83  18.635714  0.149316\n",
              "3   2018-06-05  18.86         4  ...       18.78  18.640000  0.156098\n",
              "\n",
              "[996 rows x 23 columns]"
            ]
          },
          "metadata": {
            "tags": []
          },
          "execution_count": 29
        }
      ]
    },
    {
      "cell_type": "code",
      "metadata": {
        "id": "YgMUfDICPeFY"
      },
      "source": [
        "scaled_data=scaling(data, 'OPEN', N_final)"
      ],
      "execution_count": null,
      "outputs": []
    },
    {
      "cell_type": "code",
      "metadata": {
        "id": "jUxAMh5eV4Rp",
        "colab": {
          "base_uri": "https://localhost:8080/",
          "height": 609
        },
        "outputId": "10a4b3cd-be5e-4fc7-8857-4082e2ea5f21"
      },
      "source": [
        "scaled_data"
      ],
      "execution_count": null,
      "outputs": [
        {
          "output_type": "execute_result",
          "data": {
            "text/html": [
              "<div>\n",
              "<style scoped>\n",
              "    .dataframe tbody tr th:only-of-type {\n",
              "        vertical-align: middle;\n",
              "    }\n",
              "\n",
              "    .dataframe tbody tr th {\n",
              "        vertical-align: top;\n",
              "    }\n",
              "\n",
              "    .dataframe thead th {\n",
              "        text-align: right;\n",
              "    }\n",
              "</style>\n",
              "<table border=\"1\" class=\"dataframe\">\n",
              "  <thead>\n",
              "    <tr style=\"text-align: right;\">\n",
              "      <th></th>\n",
              "      <th>DATE</th>\n",
              "      <th>OPEN</th>\n",
              "      <th>DATEYear</th>\n",
              "      <th>DATEMonth</th>\n",
              "      <th>DATEWeek</th>\n",
              "      <th>DATEDay</th>\n",
              "      <th>DATEDayofweek</th>\n",
              "      <th>DATEDayofyear</th>\n",
              "      <th>DATEIs_month_end</th>\n",
              "      <th>DATEIs_month_start</th>\n",
              "      <th>DATEIs_quarter_end</th>\n",
              "      <th>DATEIs_quarter_start</th>\n",
              "      <th>DATEIs_year_end</th>\n",
              "      <th>DATEIs_year_start</th>\n",
              "      <th>OPEN_mean</th>\n",
              "      <th>OPEN_std</th>\n",
              "      <th>OPEN_scaled</th>\n",
              "      <th>OPEN_lag_scaled_1</th>\n",
              "      <th>OPEN_lag_scaled_2</th>\n",
              "      <th>OPEN_lag_scaled_3</th>\n",
              "      <th>OPEN_lag_scaled_4</th>\n",
              "      <th>OPEN_lag_scaled_5</th>\n",
              "      <th>OPEN_lag_scaled_6</th>\n",
              "      <th>OPEN_lag_scaled_7</th>\n",
              "    </tr>\n",
              "  </thead>\n",
              "  <tbody>\n",
              "    <tr>\n",
              "      <th>998</th>\n",
              "      <td>2014-06-23</td>\n",
              "      <td>19.05</td>\n",
              "      <td>0</td>\n",
              "      <td>6</td>\n",
              "      <td>26</td>\n",
              "      <td>23</td>\n",
              "      <td>0</td>\n",
              "      <td>174</td>\n",
              "      <td>False</td>\n",
              "      <td>False</td>\n",
              "      <td>False</td>\n",
              "      <td>False</td>\n",
              "      <td>False</td>\n",
              "      <td>False</td>\n",
              "      <td>NaN</td>\n",
              "      <td>NaN</td>\n",
              "      <td>NaN</td>\n",
              "      <td>NaN</td>\n",
              "      <td>NaN</td>\n",
              "      <td>NaN</td>\n",
              "      <td>NaN</td>\n",
              "      <td>NaN</td>\n",
              "      <td>NaN</td>\n",
              "      <td>NaN</td>\n",
              "    </tr>\n",
              "    <tr>\n",
              "      <th>997</th>\n",
              "      <td>2014-06-24</td>\n",
              "      <td>18.91</td>\n",
              "      <td>0</td>\n",
              "      <td>6</td>\n",
              "      <td>26</td>\n",
              "      <td>24</td>\n",
              "      <td>1</td>\n",
              "      <td>175</td>\n",
              "      <td>False</td>\n",
              "      <td>False</td>\n",
              "      <td>False</td>\n",
              "      <td>False</td>\n",
              "      <td>False</td>\n",
              "      <td>False</td>\n",
              "      <td>19.050000</td>\n",
              "      <td>NaN</td>\n",
              "      <td>NaN</td>\n",
              "      <td>NaN</td>\n",
              "      <td>NaN</td>\n",
              "      <td>NaN</td>\n",
              "      <td>NaN</td>\n",
              "      <td>NaN</td>\n",
              "      <td>NaN</td>\n",
              "      <td>NaN</td>\n",
              "    </tr>\n",
              "    <tr>\n",
              "      <th>996</th>\n",
              "      <td>2014-06-25</td>\n",
              "      <td>18.66</td>\n",
              "      <td>0</td>\n",
              "      <td>6</td>\n",
              "      <td>26</td>\n",
              "      <td>25</td>\n",
              "      <td>2</td>\n",
              "      <td>176</td>\n",
              "      <td>False</td>\n",
              "      <td>False</td>\n",
              "      <td>False</td>\n",
              "      <td>False</td>\n",
              "      <td>False</td>\n",
              "      <td>False</td>\n",
              "      <td>18.980000</td>\n",
              "      <td>0.098995</td>\n",
              "      <td>-3.232488</td>\n",
              "      <td>-0.707107</td>\n",
              "      <td>0.707107</td>\n",
              "      <td>NaN</td>\n",
              "      <td>NaN</td>\n",
              "      <td>NaN</td>\n",
              "      <td>NaN</td>\n",
              "      <td>NaN</td>\n",
              "    </tr>\n",
              "    <tr>\n",
              "      <th>995</th>\n",
              "      <td>2014-06-26</td>\n",
              "      <td>18.52</td>\n",
              "      <td>0</td>\n",
              "      <td>6</td>\n",
              "      <td>26</td>\n",
              "      <td>26</td>\n",
              "      <td>3</td>\n",
              "      <td>177</td>\n",
              "      <td>False</td>\n",
              "      <td>False</td>\n",
              "      <td>False</td>\n",
              "      <td>False</td>\n",
              "      <td>False</td>\n",
              "      <td>False</td>\n",
              "      <td>18.873333</td>\n",
              "      <td>0.197569</td>\n",
              "      <td>-1.788409</td>\n",
              "      <td>-1.079794</td>\n",
              "      <td>0.185590</td>\n",
              "      <td>0.894204</td>\n",
              "      <td>NaN</td>\n",
              "      <td>NaN</td>\n",
              "      <td>NaN</td>\n",
              "      <td>NaN</td>\n",
              "    </tr>\n",
              "    <tr>\n",
              "      <th>994</th>\n",
              "      <td>2014-06-27</td>\n",
              "      <td>18.63</td>\n",
              "      <td>0</td>\n",
              "      <td>6</td>\n",
              "      <td>26</td>\n",
              "      <td>27</td>\n",
              "      <td>4</td>\n",
              "      <td>178</td>\n",
              "      <td>False</td>\n",
              "      <td>False</td>\n",
              "      <td>False</td>\n",
              "      <td>False</td>\n",
              "      <td>False</td>\n",
              "      <td>False</td>\n",
              "      <td>18.785000</td>\n",
              "      <td>0.239235</td>\n",
              "      <td>-0.647899</td>\n",
              "      <td>-1.107698</td>\n",
              "      <td>-0.522499</td>\n",
              "      <td>0.522499</td>\n",
              "      <td>1.107698</td>\n",
              "      <td>NaN</td>\n",
              "      <td>NaN</td>\n",
              "      <td>NaN</td>\n",
              "    </tr>\n",
              "    <tr>\n",
              "      <th>...</th>\n",
              "      <td>...</td>\n",
              "      <td>...</td>\n",
              "      <td>...</td>\n",
              "      <td>...</td>\n",
              "      <td>...</td>\n",
              "      <td>...</td>\n",
              "      <td>...</td>\n",
              "      <td>...</td>\n",
              "      <td>...</td>\n",
              "      <td>...</td>\n",
              "      <td>...</td>\n",
              "      <td>...</td>\n",
              "      <td>...</td>\n",
              "      <td>...</td>\n",
              "      <td>...</td>\n",
              "      <td>...</td>\n",
              "      <td>...</td>\n",
              "      <td>...</td>\n",
              "      <td>...</td>\n",
              "      <td>...</td>\n",
              "      <td>...</td>\n",
              "      <td>...</td>\n",
              "      <td>...</td>\n",
              "      <td>...</td>\n",
              "    </tr>\n",
              "    <tr>\n",
              "      <th>7</th>\n",
              "      <td>2018-05-30</td>\n",
              "      <td>18.47</td>\n",
              "      <td>4</td>\n",
              "      <td>5</td>\n",
              "      <td>22</td>\n",
              "      <td>30</td>\n",
              "      <td>2</td>\n",
              "      <td>150</td>\n",
              "      <td>False</td>\n",
              "      <td>False</td>\n",
              "      <td>False</td>\n",
              "      <td>False</td>\n",
              "      <td>False</td>\n",
              "      <td>False</td>\n",
              "      <td>18.941429</td>\n",
              "      <td>0.298408</td>\n",
              "      <td>-1.579810</td>\n",
              "      <td>-1.445765</td>\n",
              "      <td>-0.607987</td>\n",
              "      <td>-0.540965</td>\n",
              "      <td>-0.373410</td>\n",
              "      <td>1.067568</td>\n",
              "      <td>1.235124</td>\n",
              "      <td>0.665435</td>\n",
              "    </tr>\n",
              "    <tr>\n",
              "      <th>6</th>\n",
              "      <td>2018-05-31</td>\n",
              "      <td>18.52</td>\n",
              "      <td>4</td>\n",
              "      <td>5</td>\n",
              "      <td>22</td>\n",
              "      <td>31</td>\n",
              "      <td>3</td>\n",
              "      <td>151</td>\n",
              "      <td>True</td>\n",
              "      <td>False</td>\n",
              "      <td>False</td>\n",
              "      <td>False</td>\n",
              "      <td>False</td>\n",
              "      <td>False</td>\n",
              "      <td>18.845714</td>\n",
              "      <td>0.329892</td>\n",
              "      <td>-0.987337</td>\n",
              "      <td>-1.138902</td>\n",
              "      <td>-1.017650</td>\n",
              "      <td>-0.259825</td>\n",
              "      <td>-0.199200</td>\n",
              "      <td>-0.047635</td>\n",
              "      <td>1.255823</td>\n",
              "      <td>1.407388</td>\n",
              "    </tr>\n",
              "    <tr>\n",
              "      <th>5</th>\n",
              "      <td>2018-06-01</td>\n",
              "      <td>18.58</td>\n",
              "      <td>4</td>\n",
              "      <td>6</td>\n",
              "      <td>22</td>\n",
              "      <td>1</td>\n",
              "      <td>4</td>\n",
              "      <td>152</td>\n",
              "      <td>False</td>\n",
              "      <td>True</td>\n",
              "      <td>False</td>\n",
              "      <td>False</td>\n",
              "      <td>False</td>\n",
              "      <td>False</td>\n",
              "      <td>18.732857</td>\n",
              "      <td>0.275180</td>\n",
              "      <td>-0.555481</td>\n",
              "      <td>-0.773521</td>\n",
              "      <td>-0.955220</td>\n",
              "      <td>-0.809861</td>\n",
              "      <td>0.098637</td>\n",
              "      <td>0.171317</td>\n",
              "      <td>0.353016</td>\n",
              "      <td>1.915632</td>\n",
              "    </tr>\n",
              "    <tr>\n",
              "      <th>4</th>\n",
              "      <td>2018-06-04</td>\n",
              "      <td>18.86</td>\n",
              "      <td>4</td>\n",
              "      <td>6</td>\n",
              "      <td>23</td>\n",
              "      <td>4</td>\n",
              "      <td>0</td>\n",
              "      <td>155</td>\n",
              "      <td>False</td>\n",
              "      <td>False</td>\n",
              "      <td>False</td>\n",
              "      <td>False</td>\n",
              "      <td>False</td>\n",
              "      <td>False</td>\n",
              "      <td>18.635714</td>\n",
              "      <td>0.149316</td>\n",
              "      <td>1.502089</td>\n",
              "      <td>-0.373130</td>\n",
              "      <td>-0.774963</td>\n",
              "      <td>-1.109823</td>\n",
              "      <td>-0.841935</td>\n",
              "      <td>0.832368</td>\n",
              "      <td>0.966312</td>\n",
              "      <td>1.301172</td>\n",
              "    </tr>\n",
              "    <tr>\n",
              "      <th>3</th>\n",
              "      <td>2018-06-05</td>\n",
              "      <td>18.86</td>\n",
              "      <td>4</td>\n",
              "      <td>6</td>\n",
              "      <td>23</td>\n",
              "      <td>5</td>\n",
              "      <td>1</td>\n",
              "      <td>156</td>\n",
              "      <td>False</td>\n",
              "      <td>False</td>\n",
              "      <td>False</td>\n",
              "      <td>False</td>\n",
              "      <td>False</td>\n",
              "      <td>False</td>\n",
              "      <td>18.640000</td>\n",
              "      <td>0.156098</td>\n",
              "      <td>1.409369</td>\n",
              "      <td>1.409369</td>\n",
              "      <td>-0.384373</td>\n",
              "      <td>-0.768747</td>\n",
              "      <td>-1.089058</td>\n",
              "      <td>-0.832809</td>\n",
              "      <td>0.768747</td>\n",
              "      <td>0.896871</td>\n",
              "    </tr>\n",
              "  </tbody>\n",
              "</table>\n",
              "<p>996 rows × 24 columns</p>\n",
              "</div>"
            ],
            "text/plain": [
              "          DATE   OPEN  ...  OPEN_lag_scaled_6  OPEN_lag_scaled_7\n",
              "998 2014-06-23  19.05  ...                NaN                NaN\n",
              "997 2014-06-24  18.91  ...                NaN                NaN\n",
              "996 2014-06-25  18.66  ...                NaN                NaN\n",
              "995 2014-06-26  18.52  ...                NaN                NaN\n",
              "994 2014-06-27  18.63  ...                NaN                NaN\n",
              "..         ...    ...  ...                ...                ...\n",
              "7   2018-05-30  18.47  ...           1.235124           0.665435\n",
              "6   2018-05-31  18.52  ...           1.255823           1.407388\n",
              "5   2018-06-01  18.58  ...           0.353016           1.915632\n",
              "4   2018-06-04  18.86  ...           0.966312           1.301172\n",
              "3   2018-06-05  18.86  ...           0.768747           0.896871\n",
              "\n",
              "[996 rows x 24 columns]"
            ]
          },
          "metadata": {
            "tags": []
          },
          "execution_count": 31
        }
      ]
    },
    {
      "cell_type": "markdown",
      "metadata": {
        "id": "vWbxn8VhoQFn"
      },
      "source": [
        "# Correlation with Categorical Variables"
      ]
    },
    {
      "cell_type": "code",
      "metadata": {
        "id": "shEk-cUTxLoL",
        "colab": {
          "base_uri": "https://localhost:8080/",
          "height": 72
        },
        "outputId": "92a39ed2-162c-46c1-d828-e44d93426af9"
      },
      "source": [
        "import seaborn as sns"
      ],
      "execution_count": null,
      "outputs": [
        {
          "output_type": "stream",
          "text": [
            "/usr/local/lib/python3.6/dist-packages/statsmodels/tools/_testing.py:19: FutureWarning: pandas.util.testing is deprecated. Use the functions in the public API at pandas.testing instead.\n",
            "  import pandas.util.testing as tm\n"
          ],
          "name": "stderr"
        }
      ]
    },
    {
      "cell_type": "code",
      "metadata": {
        "id": "vXozWOFIntqE",
        "colab": {
          "base_uri": "https://localhost:8080/",
          "height": 298
        },
        "outputId": "b12aeb10-36dd-4bad-9cad-4f531fab3378"
      },
      "source": [
        "sns.boxplot(scaled_data['DATEIs_month_end'], scaled_data['OPEN'])"
      ],
      "execution_count": null,
      "outputs": [
        {
          "output_type": "execute_result",
          "data": {
            "text/plain": [
              "<matplotlib.axes._subplots.AxesSubplot at 0x7f4a7c3d5048>"
            ]
          },
          "metadata": {
            "tags": []
          },
          "execution_count": 32
        },
        {
          "output_type": "display_data",
          "data": {
            "image/png": "[encoded data removed]",
            "text/plain": [
              "<Figure size 432x288 with 1 Axes>"
            ]
          },
          "metadata": {
            "tags": [],
            "needs_background": "light"
          }
        }
      ]
    },
    {
      "cell_type": "code",
      "metadata": {
        "id": "75qz2KViZL9_",
        "colab": {
          "base_uri": "https://localhost:8080/",
          "height": 297
        },
        "outputId": "b049eb27-319b-47d6-d74a-c4a42d99a2e7"
      },
      "source": [
        "sns.boxplot(scaled_data['DATEDayofweek'], scaled_data['OPEN'])"
      ],
      "execution_count": null,
      "outputs": [
        {
          "output_type": "execute_result",
          "data": {
            "text/plain": [
              "<matplotlib.axes._subplots.AxesSubplot at 0x7f4a7c31f518>"
            ]
          },
          "metadata": {
            "tags": []
          },
          "execution_count": 33
        },
        {
          "output_type": "display_data",
          "data": {
            "image/png": "[encoded data removed]",
            "text/plain": [
              "<Figure size 432x288 with 1 Axes>"
            ]
          },
          "metadata": {
            "tags": [],
            "needs_background": "light"
          }
        }
      ]
    },
    {
      "cell_type": "code",
      "metadata": {
        "id": "3s14lTodZbc3",
        "colab": {
          "base_uri": "https://localhost:8080/",
          "height": 297
        },
        "outputId": "3d55d910-d896-476a-b669-61ec8888d692"
      },
      "source": [
        "sns.boxplot(scaled_data['DATEYear'], scaled_data['OPEN'])"
      ],
      "execution_count": null,
      "outputs": [
        {
          "output_type": "execute_result",
          "data": {
            "text/plain": [
              "<matplotlib.axes._subplots.AxesSubplot at 0x7f4a7bdffd30>"
            ]
          },
          "metadata": {
            "tags": []
          },
          "execution_count": 34
        },
        {
          "output_type": "display_data",
          "data": {
            "image/png": "[encoded data removed]",
            "text/plain": [
              "<Figure size 432x288 with 1 Axes>"
            ]
          },
          "metadata": {
            "tags": [],
            "needs_background": "light"
          }
        }
      ]
    },
    {
      "cell_type": "code",
      "metadata": {
        "id": "S2xmNeCIZe2j",
        "colab": {
          "base_uri": "https://localhost:8080/",
          "height": 297
        },
        "outputId": "5334346d-2c97-4d6c-9b18-e93b68bc2dcc"
      },
      "source": [
        "sns.boxplot(scaled_data['DATEMonth'], scaled_data['OPEN'])"
      ],
      "execution_count": null,
      "outputs": [
        {
          "output_type": "execute_result",
          "data": {
            "text/plain": [
              "<matplotlib.axes._subplots.AxesSubplot at 0x7f4a7bd48e80>"
            ]
          },
          "metadata": {
            "tags": []
          },
          "execution_count": 35
        },
        {
          "output_type": "display_data",
          "data": {
            "image/png": "[encoded data removed]",
            "text/plain": [
              "<Figure size 432x288 with 1 Axes>"
            ]
          },
          "metadata": {
            "tags": [],
            "needs_background": "light"
          }
        }
      ]
    },
    {
      "cell_type": "code",
      "metadata": {
        "id": "g2delksyxhDn",
        "colab": {
          "base_uri": "https://localhost:8080/",
          "height": 298
        },
        "outputId": "3f2b9048-53f9-4920-e283-8dee664e8f0d"
      },
      "source": [
        "sns.boxplot(scaled_data['DATEIs_month_start'], scaled_data['OPEN'])"
      ],
      "execution_count": null,
      "outputs": [
        {
          "output_type": "execute_result",
          "data": {
            "text/plain": [
              "<matplotlib.axes._subplots.AxesSubplot at 0x7f4a7bc29630>"
            ]
          },
          "metadata": {
            "tags": []
          },
          "execution_count": 36
        },
        {
          "output_type": "display_data",
          "data": {
            "image/png": "[encoded data removed]",
            "text/plain": [
              "<Figure size 432x288 with 1 Axes>"
            ]
          },
          "metadata": {
            "tags": [],
            "needs_background": "light"
          }
        }
      ]
    },
    {
      "cell_type": "code",
      "metadata": {
        "id": "p2EsLTS7xoda",
        "colab": {
          "base_uri": "https://localhost:8080/",
          "height": 298
        },
        "outputId": "b27a12b7-9c5c-46ae-b402-160561f0c963"
      },
      "source": [
        "sns.boxplot(scaled_data['DATEIs_quarter_end'], scaled_data['OPEN'])"
      ],
      "execution_count": null,
      "outputs": [
        {
          "output_type": "execute_result",
          "data": {
            "text/plain": [
              "<matplotlib.axes._subplots.AxesSubplot at 0x7f4a7bb9b550>"
            ]
          },
          "metadata": {
            "tags": []
          },
          "execution_count": 37
        },
        {
          "output_type": "display_data",
          "data": {
            "image/png": "[encoded data removed]",
            "text/plain": [
              "<Figure size 432x288 with 1 Axes>"
            ]
          },
          "metadata": {
            "tags": [],
            "needs_background": "light"
          }
        }
      ]
    },
    {
      "cell_type": "code",
      "metadata": {
        "id": "67pFX0zLxtdt",
        "colab": {
          "base_uri": "https://localhost:8080/",
          "height": 298
        },
        "outputId": "7f84ad82-8929-4a2a-ebac-430f2ada67e9"
      },
      "source": [
        "sns.boxplot(scaled_data['DATEIs_quarter_start'], scaled_data['OPEN'])"
      ],
      "execution_count": null,
      "outputs": [
        {
          "output_type": "execute_result",
          "data": {
            "text/plain": [
              "<matplotlib.axes._subplots.AxesSubplot at 0x7f4a7bb0d4e0>"
            ]
          },
          "metadata": {
            "tags": []
          },
          "execution_count": 38
        },
        {
          "output_type": "display_data",
          "data": {
            "image/png": "[encoded data removed]",
            "text/plain": [
              "<Figure size 432x288 with 1 Axes>"
            ]
          },
          "metadata": {
            "tags": [],
            "needs_background": "light"
          }
        }
      ]
    },
    {
      "cell_type": "code",
      "metadata": {
        "id": "9T1MqkOKxtoG",
        "colab": {
          "base_uri": "https://localhost:8080/",
          "height": 298
        },
        "outputId": "12e860b7-a723-47ba-bf40-817079ef6fb6"
      },
      "source": [
        "sns.boxplot(scaled_data['DATEIs_year_end'], scaled_data['OPEN'])"
      ],
      "execution_count": null,
      "outputs": [
        {
          "output_type": "execute_result",
          "data": {
            "text/plain": [
              "<matplotlib.axes._subplots.AxesSubplot at 0x7f4a7ba89438>"
            ]
          },
          "metadata": {
            "tags": []
          },
          "execution_count": 39
        },
        {
          "output_type": "display_data",
          "data": {
            "image/png": "[encoded data removed]",
            "text/plain": [
              "<Figure size 432x288 with 1 Axes>"
            ]
          },
          "metadata": {
            "tags": [],
            "needs_background": "light"
          }
        }
      ]
    },
    {
      "cell_type": "code",
      "metadata": {
        "id": "8CRd0Bm1x-03",
        "colab": {
          "base_uri": "https://localhost:8080/",
          "height": 298
        },
        "outputId": "8777e687-097d-4b45-c16b-a6bd75214645"
      },
      "source": [
        "sns.boxplot(scaled_data['DATEIs_year_start'], scaled_data['OPEN'])"
      ],
      "execution_count": null,
      "outputs": [
        {
          "output_type": "execute_result",
          "data": {
            "text/plain": [
              "<matplotlib.axes._subplots.AxesSubplot at 0x7f32d8af4710>"
            ]
          },
          "metadata": {
            "tags": []
          },
          "execution_count": 66
        },
        {
          "output_type": "display_data",
          "data": {
            "image/png": "[encoded data removed]",
            "text/plain": [
              "<Figure size 432x288 with 1 Axes>"
            ]
          },
          "metadata": {
            "tags": [],
            "needs_background": "light"
          }
        }
      ]
    },
    {
      "cell_type": "markdown",
      "metadata": {
        "id": "oTjHTPvhLSTt"
      },
      "source": [
        "# Determining Training and Validation Set"
      ]
    },
    {
      "cell_type": "code",
      "metadata": {
        "id": "wgaqYcrdyZyt"
      },
      "source": [
        "features=['DATEYear', 'DATEMonth', 'DATEWeek', 'DATEDay', 'DATEIs_year_end','DATEDayofyear', 'DATEDayofweek']\n",
        "features_lag=features.copy()\n",
        "for i in range(1, N_final+1):\n",
        "  name='OPEN_lag_scaled_{}'.format(i)\n",
        "  features_lag.append(name)"
      ],
      "execution_count": null,
      "outputs": []
    },
    {
      "cell_type": "code",
      "metadata": {
        "id": "mzcIWVhNQmnz"
      },
      "source": [
        "training_data=scaled_data.drop(['DATEIs_year_start', 'DATEIs_quarter_start', 'DATEIs_quarter_end','DATEIs_month_start', 'DATEIs_month_end' ], axis=1)"
      ],
      "execution_count": null,
      "outputs": []
    },
    {
      "cell_type": "code",
      "metadata": {
        "id": "zJZqm4kkbVsb",
        "colab": {
          "base_uri": "https://localhost:8080/",
          "height": 609
        },
        "outputId": "31b373ca-33ec-456e-8e2e-01d68e67dd0a"
      },
      "source": [
        "training_data"
      ],
      "execution_count": null,
      "outputs": [
        {
          "output_type": "execute_result",
          "data": {
            "text/html": [
              "<div>\n",
              "<style scoped>\n",
              "    .dataframe tbody tr th:only-of-type {\n",
              "        vertical-align: middle;\n",
              "    }\n",
              "\n",
              "    .dataframe tbody tr th {\n",
              "        vertical-align: top;\n",
              "    }\n",
              "\n",
              "    .dataframe thead th {\n",
              "        text-align: right;\n",
              "    }\n",
              "</style>\n",
              "<table border=\"1\" class=\"dataframe\">\n",
              "  <thead>\n",
              "    <tr style=\"text-align: right;\">\n",
              "      <th></th>\n",
              "      <th>DATE</th>\n",
              "      <th>OPEN</th>\n",
              "      <th>DATEYear</th>\n",
              "      <th>DATEMonth</th>\n",
              "      <th>DATEWeek</th>\n",
              "      <th>DATEDay</th>\n",
              "      <th>DATEDayofweek</th>\n",
              "      <th>DATEDayofyear</th>\n",
              "      <th>DATEIs_year_end</th>\n",
              "      <th>OPEN_mean</th>\n",
              "      <th>OPEN_std</th>\n",
              "      <th>OPEN_scaled</th>\n",
              "      <th>OPEN_lag_scaled_1</th>\n",
              "      <th>OPEN_lag_scaled_2</th>\n",
              "      <th>OPEN_lag_scaled_3</th>\n",
              "      <th>OPEN_lag_scaled_4</th>\n",
              "      <th>OPEN_lag_scaled_5</th>\n",
              "      <th>OPEN_lag_scaled_6</th>\n",
              "      <th>OPEN_lag_scaled_7</th>\n",
              "    </tr>\n",
              "  </thead>\n",
              "  <tbody>\n",
              "    <tr>\n",
              "      <th>998</th>\n",
              "      <td>2014-06-23</td>\n",
              "      <td>19.05</td>\n",
              "      <td>0</td>\n",
              "      <td>6</td>\n",
              "      <td>26</td>\n",
              "      <td>23</td>\n",
              "      <td>0</td>\n",
              "      <td>174</td>\n",
              "      <td>False</td>\n",
              "      <td>NaN</td>\n",
              "      <td>NaN</td>\n",
              "      <td>NaN</td>\n",
              "      <td>NaN</td>\n",
              "      <td>NaN</td>\n",
              "      <td>NaN</td>\n",
              "      <td>NaN</td>\n",
              "      <td>NaN</td>\n",
              "      <td>NaN</td>\n",
              "      <td>NaN</td>\n",
              "    </tr>\n",
              "    <tr>\n",
              "      <th>997</th>\n",
              "      <td>2014-06-24</td>\n",
              "      <td>18.91</td>\n",
              "      <td>0</td>\n",
              "      <td>6</td>\n",
              "      <td>26</td>\n",
              "      <td>24</td>\n",
              "      <td>1</td>\n",
              "      <td>175</td>\n",
              "      <td>False</td>\n",
              "      <td>19.050000</td>\n",
              "      <td>NaN</td>\n",
              "      <td>NaN</td>\n",
              "      <td>NaN</td>\n",
              "      <td>NaN</td>\n",
              "      <td>NaN</td>\n",
              "      <td>NaN</td>\n",
              "      <td>NaN</td>\n",
              "      <td>NaN</td>\n",
              "      <td>NaN</td>\n",
              "    </tr>\n",
              "    <tr>\n",
              "      <th>996</th>\n",
              "      <td>2014-06-25</td>\n",
              "      <td>18.66</td>\n",
              "      <td>0</td>\n",
              "      <td>6</td>\n",
              "      <td>26</td>\n",
              "      <td>25</td>\n",
              "      <td>2</td>\n",
              "      <td>176</td>\n",
              "      <td>False</td>\n",
              "      <td>18.980000</td>\n",
              "      <td>0.098995</td>\n",
              "      <td>-3.232488</td>\n",
              "      <td>-0.707107</td>\n",
              "      <td>0.707107</td>\n",
              "      <td>NaN</td>\n",
              "      <td>NaN</td>\n",
              "      <td>NaN</td>\n",
              "      <td>NaN</td>\n",
              "      <td>NaN</td>\n",
              "    </tr>\n",
              "    <tr>\n",
              "      <th>995</th>\n",
              "      <td>2014-06-26</td>\n",
              "      <td>18.52</td>\n",
              "      <td>0</td>\n",
              "      <td>6</td>\n",
              "      <td>26</td>\n",
              "      <td>26</td>\n",
              "      <td>3</td>\n",
              "      <td>177</td>\n",
              "      <td>False</td>\n",
              "      <td>18.873333</td>\n",
              "      <td>0.197569</td>\n",
              "      <td>-1.788409</td>\n",
              "      <td>-1.079794</td>\n",
              "      <td>0.185590</td>\n",
              "      <td>0.894204</td>\n",
              "      <td>NaN</td>\n",
              "      <td>NaN</td>\n",
              "      <td>NaN</td>\n",
              "      <td>NaN</td>\n",
              "    </tr>\n",
              "    <tr>\n",
              "      <th>994</th>\n",
              "      <td>2014-06-27</td>\n",
              "      <td>18.63</td>\n",
              "      <td>0</td>\n",
              "      <td>6</td>\n",
              "      <td>26</td>\n",
              "      <td>27</td>\n",
              "      <td>4</td>\n",
              "      <td>178</td>\n",
              "      <td>False</td>\n",
              "      <td>18.785000</td>\n",
              "      <td>0.239235</td>\n",
              "      <td>-0.647899</td>\n",
              "      <td>-1.107698</td>\n",
              "      <td>-0.522499</td>\n",
              "      <td>0.522499</td>\n",
              "      <td>1.107698</td>\n",
              "      <td>NaN</td>\n",
              "      <td>NaN</td>\n",
              "      <td>NaN</td>\n",
              "    </tr>\n",
              "    <tr>\n",
              "      <th>...</th>\n",
              "      <td>...</td>\n",
              "      <td>...</td>\n",
              "      <td>...</td>\n",
              "      <td>...</td>\n",
              "      <td>...</td>\n",
              "      <td>...</td>\n",
              "      <td>...</td>\n",
              "      <td>...</td>\n",
              "      <td>...</td>\n",
              "      <td>...</td>\n",
              "      <td>...</td>\n",
              "      <td>...</td>\n",
              "      <td>...</td>\n",
              "      <td>...</td>\n",
              "      <td>...</td>\n",
              "      <td>...</td>\n",
              "      <td>...</td>\n",
              "      <td>...</td>\n",
              "      <td>...</td>\n",
              "    </tr>\n",
              "    <tr>\n",
              "      <th>7</th>\n",
              "      <td>2018-05-30</td>\n",
              "      <td>18.47</td>\n",
              "      <td>4</td>\n",
              "      <td>5</td>\n",
              "      <td>22</td>\n",
              "      <td>30</td>\n",
              "      <td>2</td>\n",
              "      <td>150</td>\n",
              "      <td>False</td>\n",
              "      <td>18.941429</td>\n",
              "      <td>0.298408</td>\n",
              "      <td>-1.579810</td>\n",
              "      <td>-1.445765</td>\n",
              "      <td>-0.607987</td>\n",
              "      <td>-0.540965</td>\n",
              "      <td>-0.373410</td>\n",
              "      <td>1.067568</td>\n",
              "      <td>1.235124</td>\n",
              "      <td>0.665435</td>\n",
              "    </tr>\n",
              "    <tr>\n",
              "      <th>6</th>\n",
              "      <td>2018-05-31</td>\n",
              "      <td>18.52</td>\n",
              "      <td>4</td>\n",
              "      <td>5</td>\n",
              "      <td>22</td>\n",
              "      <td>31</td>\n",
              "      <td>3</td>\n",
              "      <td>151</td>\n",
              "      <td>False</td>\n",
              "      <td>18.845714</td>\n",
              "      <td>0.329892</td>\n",
              "      <td>-0.987337</td>\n",
              "      <td>-1.138902</td>\n",
              "      <td>-1.017650</td>\n",
              "      <td>-0.259825</td>\n",
              "      <td>-0.199200</td>\n",
              "      <td>-0.047635</td>\n",
              "      <td>1.255823</td>\n",
              "      <td>1.407388</td>\n",
              "    </tr>\n",
              "    <tr>\n",
              "      <th>5</th>\n",
              "      <td>2018-06-01</td>\n",
              "      <td>18.58</td>\n",
              "      <td>4</td>\n",
              "      <td>6</td>\n",
              "      <td>22</td>\n",
              "      <td>1</td>\n",
              "      <td>4</td>\n",
              "      <td>152</td>\n",
              "      <td>False</td>\n",
              "      <td>18.732857</td>\n",
              "      <td>0.275180</td>\n",
              "      <td>-0.555481</td>\n",
              "      <td>-0.773521</td>\n",
              "      <td>-0.955220</td>\n",
              "      <td>-0.809861</td>\n",
              "      <td>0.098637</td>\n",
              "      <td>0.171317</td>\n",
              "      <td>0.353016</td>\n",
              "      <td>1.915632</td>\n",
              "    </tr>\n",
              "    <tr>\n",
              "      <th>4</th>\n",
              "      <td>2018-06-04</td>\n",
              "      <td>18.86</td>\n",
              "      <td>4</td>\n",
              "      <td>6</td>\n",
              "      <td>23</td>\n",
              "      <td>4</td>\n",
              "      <td>0</td>\n",
              "      <td>155</td>\n",
              "      <td>False</td>\n",
              "      <td>18.635714</td>\n",
              "      <td>0.149316</td>\n",
              "      <td>1.502089</td>\n",
              "      <td>-0.373130</td>\n",
              "      <td>-0.774963</td>\n",
              "      <td>-1.109823</td>\n",
              "      <td>-0.841935</td>\n",
              "      <td>0.832368</td>\n",
              "      <td>0.966312</td>\n",
              "      <td>1.301172</td>\n",
              "    </tr>\n",
              "    <tr>\n",
              "      <th>3</th>\n",
              "      <td>2018-06-05</td>\n",
              "      <td>18.86</td>\n",
              "      <td>4</td>\n",
              "      <td>6</td>\n",
              "      <td>23</td>\n",
              "      <td>5</td>\n",
              "      <td>1</td>\n",
              "      <td>156</td>\n",
              "      <td>False</td>\n",
              "      <td>18.640000</td>\n",
              "      <td>0.156098</td>\n",
              "      <td>1.409369</td>\n",
              "      <td>1.409369</td>\n",
              "      <td>-0.384373</td>\n",
              "      <td>-0.768747</td>\n",
              "      <td>-1.089058</td>\n",
              "      <td>-0.832809</td>\n",
              "      <td>0.768747</td>\n",
              "      <td>0.896871</td>\n",
              "    </tr>\n",
              "  </tbody>\n",
              "</table>\n",
              "<p>996 rows × 19 columns</p>\n",
              "</div>"
            ],
            "text/plain": [
              "          DATE   OPEN  ...  OPEN_lag_scaled_6  OPEN_lag_scaled_7\n",
              "998 2014-06-23  19.05  ...                NaN                NaN\n",
              "997 2014-06-24  18.91  ...                NaN                NaN\n",
              "996 2014-06-25  18.66  ...                NaN                NaN\n",
              "995 2014-06-26  18.52  ...                NaN                NaN\n",
              "994 2014-06-27  18.63  ...                NaN                NaN\n",
              "..         ...    ...  ...                ...                ...\n",
              "7   2018-05-30  18.47  ...           1.235124           0.665435\n",
              "6   2018-05-31  18.52  ...           1.255823           1.407388\n",
              "5   2018-06-01  18.58  ...           0.353016           1.915632\n",
              "4   2018-06-04  18.86  ...           0.966312           1.301172\n",
              "3   2018-06-05  18.86  ...           0.768747           0.896871\n",
              "\n",
              "[996 rows x 19 columns]"
            ]
          },
          "metadata": {
            "tags": []
          },
          "execution_count": 34
        }
      ]
    },
    {
      "cell_type": "code",
      "metadata": {
        "id": "uBhE8oclLYPB",
        "colab": {
          "base_uri": "https://localhost:8080/",
          "height": 35
        },
        "outputId": "d41478af-3a78-4707-f5a3-27afb62a6704"
      },
      "source": [
        "training_data.shape"
      ],
      "execution_count": null,
      "outputs": [
        {
          "output_type": "execute_result",
          "data": {
            "text/plain": [
              "(996, 19)"
            ]
          },
          "metadata": {
            "tags": []
          },
          "execution_count": 35
        }
      ]
    },
    {
      "cell_type": "code",
      "metadata": {
        "id": "A4ZwSwlMQDDq"
      },
      "source": [
        "train_size=800"
      ],
      "execution_count": null,
      "outputs": []
    },
    {
      "cell_type": "code",
      "metadata": {
        "id": "hsQGL2wjPF4T"
      },
      "source": [
        "train=training_data[0:train_size]\n",
        "validation=training_data[train_size:-14]\n",
        "test=training_data[-14:]"
      ],
      "execution_count": null,
      "outputs": []
    },
    {
      "cell_type": "code",
      "metadata": {
        "id": "wSXw394ZQX0I",
        "colab": {
          "base_uri": "https://localhost:8080/",
          "height": 35
        },
        "outputId": "b896d918-c540-45fe-c17e-37ba9ec25321"
      },
      "source": [
        "train.shape, validation.shape, test.shape"
      ],
      "execution_count": null,
      "outputs": [
        {
          "output_type": "execute_result",
          "data": {
            "text/plain": [
              "((800, 19), (182, 19), (14, 19))"
            ]
          },
          "metadata": {
            "tags": []
          },
          "execution_count": 38
        }
      ]
    },
    {
      "cell_type": "code",
      "metadata": {
        "id": "AzSoziulRgqL"
      },
      "source": [
        "train_val=training_data[:-14]"
      ],
      "execution_count": null,
      "outputs": []
    },
    {
      "cell_type": "code",
      "metadata": {
        "id": "GbALefRSRufO"
      },
      "source": [
        "horizon=14"
      ],
      "execution_count": null,
      "outputs": []
    },
    {
      "cell_type": "code",
      "metadata": {
        "id": "CoFopFldHMe8",
        "colab": {
          "base_uri": "https://localhost:8080/",
          "height": 35
        },
        "outputId": "85a8d2c3-c63f-41b9-e938-4883c739e7e1"
      },
      "source": [
        "train_val.shape"
      ],
      "execution_count": null,
      "outputs": [
        {
          "output_type": "execute_result",
          "data": {
            "text/plain": [
              "(982, 19)"
            ]
          },
          "metadata": {
            "tags": []
          },
          "execution_count": 41
        }
      ]
    },
    {
      "cell_type": "code",
      "metadata": {
        "id": "R0gm10JbbD_E",
        "colab": {
          "base_uri": "https://localhost:8080/",
          "height": 35
        },
        "outputId": "608250f4-380e-47ee-f394-b761ebd14c32"
      },
      "source": [
        "i"
      ],
      "execution_count": null,
      "outputs": [
        {
          "output_type": "execute_result",
          "data": {
            "text/plain": [
              "7"
            ]
          },
          "metadata": {
            "tags": []
          },
          "execution_count": 50
        }
      ]
    },
    {
      "cell_type": "code",
      "metadata": {
        "id": "ykZBOTtYG9J-"
      },
      "source": [
        "test=train_val[i+train_size:i+train_size+horizon]"
      ],
      "execution_count": null,
      "outputs": []
    },
    {
      "cell_type": "code",
      "metadata": {
        "id": "vCvVKSiGHsbV",
        "colab": {
          "base_uri": "https://localhost:8080/",
          "height": 732
        },
        "outputId": "b6a00421-e6eb-471e-f241-f07a9cf7edef"
      },
      "source": [
        "test"
      ],
      "execution_count": null,
      "outputs": [
        {
          "output_type": "execute_result",
          "data": {
            "text/html": [
              "<div>\n",
              "<style scoped>\n",
              "    .dataframe tbody tr th:only-of-type {\n",
              "        vertical-align: middle;\n",
              "    }\n",
              "\n",
              "    .dataframe tbody tr th {\n",
              "        vertical-align: top;\n",
              "    }\n",
              "\n",
              "    .dataframe thead th {\n",
              "        text-align: right;\n",
              "    }\n",
              "</style>\n",
              "<table border=\"1\" class=\"dataframe\">\n",
              "  <thead>\n",
              "    <tr style=\"text-align: right;\">\n",
              "      <th></th>\n",
              "      <th>DATE</th>\n",
              "      <th>OPEN</th>\n",
              "      <th>DATEYear</th>\n",
              "      <th>DATEMonth</th>\n",
              "      <th>DATEWeek</th>\n",
              "      <th>DATEDay</th>\n",
              "      <th>DATEDayofweek</th>\n",
              "      <th>DATEDayofyear</th>\n",
              "      <th>DATEIs_year_end</th>\n",
              "      <th>OPEN_mean</th>\n",
              "      <th>OPEN_std</th>\n",
              "      <th>OPEN_scaled</th>\n",
              "      <th>OPEN_lag_scaled_1</th>\n",
              "      <th>OPEN_lag_scaled_2</th>\n",
              "      <th>OPEN_lag_scaled_3</th>\n",
              "      <th>OPEN_lag_scaled_4</th>\n",
              "      <th>OPEN_lag_scaled_5</th>\n",
              "      <th>OPEN_lag_scaled_6</th>\n",
              "      <th>OPEN_lag_scaled_7</th>\n",
              "    </tr>\n",
              "  </thead>\n",
              "  <tbody>\n",
              "    <tr>\n",
              "      <th>191</th>\n",
              "      <td>2017-09-05</td>\n",
              "      <td>17.70</td>\n",
              "      <td>3</td>\n",
              "      <td>9</td>\n",
              "      <td>36</td>\n",
              "      <td>5</td>\n",
              "      <td>1</td>\n",
              "      <td>248</td>\n",
              "      <td>False</td>\n",
              "      <td>17.429543</td>\n",
              "      <td>0.100751</td>\n",
              "      <td>2.684407</td>\n",
              "      <td>0.897827</td>\n",
              "      <td>-1.285770</td>\n",
              "      <td>-0.590989</td>\n",
              "      <td>-1.186516</td>\n",
              "      <td>0.401555</td>\n",
              "      <td>0.699318</td>\n",
              "      <td>1.064575</td>\n",
              "    </tr>\n",
              "    <tr>\n",
              "      <th>190</th>\n",
              "      <td>2017-09-06</td>\n",
              "      <td>17.70</td>\n",
              "      <td>3</td>\n",
              "      <td>9</td>\n",
              "      <td>36</td>\n",
              "      <td>6</td>\n",
              "      <td>2</td>\n",
              "      <td>249</td>\n",
              "      <td>False</td>\n",
              "      <td>17.452857</td>\n",
              "      <td>0.140679</td>\n",
              "      <td>1.756790</td>\n",
              "      <td>1.756790</td>\n",
              "      <td>0.477278</td>\n",
              "      <td>-1.086570</td>\n",
              "      <td>-0.588982</td>\n",
              "      <td>-1.015486</td>\n",
              "      <td>0.121858</td>\n",
              "      <td>0.335110</td>\n",
              "    </tr>\n",
              "    <tr>\n",
              "      <th>189</th>\n",
              "      <td>2017-09-07</td>\n",
              "      <td>17.86</td>\n",
              "      <td>3</td>\n",
              "      <td>9</td>\n",
              "      <td>36</td>\n",
              "      <td>7</td>\n",
              "      <td>3</td>\n",
              "      <td>250</td>\n",
              "      <td>False</td>\n",
              "      <td>17.481429</td>\n",
              "      <td>0.169256</td>\n",
              "      <td>2.236679</td>\n",
              "      <td>1.291365</td>\n",
              "      <td>1.291365</td>\n",
              "      <td>0.227888</td>\n",
              "      <td>-1.071918</td>\n",
              "      <td>-0.658343</td>\n",
              "      <td>-1.012836</td>\n",
              "      <td>-0.067522</td>\n",
              "    </tr>\n",
              "    <tr>\n",
              "      <th>188</th>\n",
              "      <td>2017-09-08</td>\n",
              "      <td>17.80</td>\n",
              "      <td>3</td>\n",
              "      <td>9</td>\n",
              "      <td>36</td>\n",
              "      <td>8</td>\n",
              "      <td>4</td>\n",
              "      <td>251</td>\n",
              "      <td>False</td>\n",
              "      <td>17.537143</td>\n",
              "      <td>0.221112</td>\n",
              "      <td>1.188797</td>\n",
              "      <td>1.460153</td>\n",
              "      <td>0.736537</td>\n",
              "      <td>0.736537</td>\n",
              "      <td>-0.077530</td>\n",
              "      <td>-1.072502</td>\n",
              "      <td>-0.755920</td>\n",
              "      <td>-1.027276</td>\n",
              "    </tr>\n",
              "    <tr>\n",
              "      <th>187</th>\n",
              "      <td>2017-09-11</td>\n",
              "      <td>18.01</td>\n",
              "      <td>3</td>\n",
              "      <td>9</td>\n",
              "      <td>37</td>\n",
              "      <td>11</td>\n",
              "      <td>0</td>\n",
              "      <td>254</td>\n",
              "      <td>False</td>\n",
              "      <td>17.607143</td>\n",
              "      <td>0.214687</td>\n",
              "      <td>1.876487</td>\n",
              "      <td>0.898318</td>\n",
              "      <td>1.177795</td>\n",
              "      <td>0.432524</td>\n",
              "      <td>0.432524</td>\n",
              "      <td>-0.405907</td>\n",
              "      <td>-1.430655</td>\n",
              "      <td>-1.104599</td>\n",
              "    </tr>\n",
              "    <tr>\n",
              "      <th>186</th>\n",
              "      <td>2017-09-12</td>\n",
              "      <td>18.06</td>\n",
              "      <td>3</td>\n",
              "      <td>9</td>\n",
              "      <td>37</td>\n",
              "      <td>12</td>\n",
              "      <td>1</td>\n",
              "      <td>255</td>\n",
              "      <td>False</td>\n",
              "      <td>17.698571</td>\n",
              "      <td>0.232410</td>\n",
              "      <td>1.555135</td>\n",
              "      <td>1.339998</td>\n",
              "      <td>0.436421</td>\n",
              "      <td>0.694586</td>\n",
              "      <td>0.006147</td>\n",
              "      <td>0.006147</td>\n",
              "      <td>-0.768347</td>\n",
              "      <td>-1.714952</td>\n",
              "    </tr>\n",
              "    <tr>\n",
              "      <th>185</th>\n",
              "      <td>2017-09-13</td>\n",
              "      <td>17.98</td>\n",
              "      <td>3</td>\n",
              "      <td>9</td>\n",
              "      <td>37</td>\n",
              "      <td>13</td>\n",
              "      <td>2</td>\n",
              "      <td>256</td>\n",
              "      <td>False</td>\n",
              "      <td>17.807143</td>\n",
              "      <td>0.188566</td>\n",
              "      <td>0.916693</td>\n",
              "      <td>1.340948</td>\n",
              "      <td>1.075788</td>\n",
              "      <td>-0.037880</td>\n",
              "      <td>0.280311</td>\n",
              "      <td>-0.568198</td>\n",
              "      <td>-0.568198</td>\n",
              "      <td>-1.522771</td>\n",
              "    </tr>\n",
              "    <tr>\n",
              "      <th>184</th>\n",
              "      <td>2017-09-14</td>\n",
              "      <td>17.86</td>\n",
              "      <td>3</td>\n",
              "      <td>9</td>\n",
              "      <td>37</td>\n",
              "      <td>14</td>\n",
              "      <td>3</td>\n",
              "      <td>257</td>\n",
              "      <td>False</td>\n",
              "      <td>17.872857</td>\n",
              "      <td>0.147503</td>\n",
              "      <td>-0.087165</td>\n",
              "      <td>0.726377</td>\n",
              "      <td>1.268739</td>\n",
              "      <td>0.929763</td>\n",
              "      <td>-0.493937</td>\n",
              "      <td>-0.087165</td>\n",
              "      <td>-1.171889</td>\n",
              "      <td>-1.171889</td>\n",
              "    </tr>\n",
              "    <tr>\n",
              "      <th>183</th>\n",
              "      <td>2017-09-15</td>\n",
              "      <td>18.04</td>\n",
              "      <td>3</td>\n",
              "      <td>9</td>\n",
              "      <td>37</td>\n",
              "      <td>15</td>\n",
              "      <td>4</td>\n",
              "      <td>258</td>\n",
              "      <td>False</td>\n",
              "      <td>17.895714</td>\n",
              "      <td>0.127261</td>\n",
              "      <td>1.133782</td>\n",
              "      <td>-0.280639</td>\n",
              "      <td>0.662308</td>\n",
              "      <td>1.290940</td>\n",
              "      <td>0.898045</td>\n",
              "      <td>-0.752113</td>\n",
              "      <td>-0.280639</td>\n",
              "      <td>-1.537903</td>\n",
              "    </tr>\n",
              "    <tr>\n",
              "      <th>182</th>\n",
              "      <td>2017-09-18</td>\n",
              "      <td>18.15</td>\n",
              "      <td>3</td>\n",
              "      <td>9</td>\n",
              "      <td>38</td>\n",
              "      <td>18</td>\n",
              "      <td>0</td>\n",
              "      <td>261</td>\n",
              "      <td>False</td>\n",
              "      <td>17.944286</td>\n",
              "      <td>0.102609</td>\n",
              "      <td>2.004840</td>\n",
              "      <td>0.932808</td>\n",
              "      <td>-0.821428</td>\n",
              "      <td>0.348063</td>\n",
              "      <td>1.127723</td>\n",
              "      <td>0.640435</td>\n",
              "      <td>-1.406173</td>\n",
              "      <td>-0.821428</td>\n",
              "    </tr>\n",
              "    <tr>\n",
              "      <th>181</th>\n",
              "      <td>2017-09-19</td>\n",
              "      <td>18.20</td>\n",
              "      <td>3</td>\n",
              "      <td>9</td>\n",
              "      <td>38</td>\n",
              "      <td>19</td>\n",
              "      <td>1</td>\n",
              "      <td>262</td>\n",
              "      <td>False</td>\n",
              "      <td>17.985714</td>\n",
              "      <td>0.119980</td>\n",
              "      <td>1.786010</td>\n",
              "      <td>1.369274</td>\n",
              "      <td>0.452456</td>\n",
              "      <td>-1.047792</td>\n",
              "      <td>-0.047627</td>\n",
              "      <td>0.619150</td>\n",
              "      <td>0.202414</td>\n",
              "      <td>-1.547875</td>\n",
              "    </tr>\n",
              "    <tr>\n",
              "      <th>180</th>\n",
              "      <td>2017-09-20</td>\n",
              "      <td>18.29</td>\n",
              "      <td>3</td>\n",
              "      <td>9</td>\n",
              "      <td>38</td>\n",
              "      <td>20</td>\n",
              "      <td>2</td>\n",
              "      <td>263</td>\n",
              "      <td>False</td>\n",
              "      <td>18.042857</td>\n",
              "      <td>0.111761</td>\n",
              "      <td>2.211355</td>\n",
              "      <td>1.406064</td>\n",
              "      <td>0.958680</td>\n",
              "      <td>-0.025565</td>\n",
              "      <td>-1.636147</td>\n",
              "      <td>-0.562426</td>\n",
              "      <td>0.153389</td>\n",
              "      <td>-0.293995</td>\n",
              "    </tr>\n",
              "    <tr>\n",
              "      <th>179</th>\n",
              "      <td>2017-09-21</td>\n",
              "      <td>18.31</td>\n",
              "      <td>3</td>\n",
              "      <td>9</td>\n",
              "      <td>38</td>\n",
              "      <td>21</td>\n",
              "      <td>3</td>\n",
              "      <td>264</td>\n",
              "      <td>False</td>\n",
              "      <td>18.082857</td>\n",
              "      <td>0.143610</td>\n",
              "      <td>1.581665</td>\n",
              "      <td>1.442399</td>\n",
              "      <td>0.815702</td>\n",
              "      <td>0.467536</td>\n",
              "      <td>-0.298427</td>\n",
              "      <td>-1.551823</td>\n",
              "      <td>-0.716226</td>\n",
              "      <td>-0.159161</td>\n",
              "    </tr>\n",
              "    <tr>\n",
              "      <th>178</th>\n",
              "      <td>2017-09-22</td>\n",
              "      <td>18.43</td>\n",
              "      <td>3</td>\n",
              "      <td>9</td>\n",
              "      <td>38</td>\n",
              "      <td>22</td>\n",
              "      <td>4</td>\n",
              "      <td>265</td>\n",
              "      <td>False</td>\n",
              "      <td>18.118571</td>\n",
              "      <td>0.166276</td>\n",
              "      <td>1.872965</td>\n",
              "      <td>1.151272</td>\n",
              "      <td>1.030990</td>\n",
              "      <td>0.489720</td>\n",
              "      <td>0.189015</td>\n",
              "      <td>-0.472537</td>\n",
              "      <td>-1.555076</td>\n",
              "      <td>-0.833383</td>\n",
              "    </tr>\n",
              "  </tbody>\n",
              "</table>\n",
              "</div>"
            ],
            "text/plain": [
              "          DATE   OPEN  ...  OPEN_lag_scaled_6  OPEN_lag_scaled_7\n",
              "191 2017-09-05  17.70  ...           0.699318           1.064575\n",
              "190 2017-09-06  17.70  ...           0.121858           0.335110\n",
              "189 2017-09-07  17.86  ...          -1.012836          -0.067522\n",
              "188 2017-09-08  17.80  ...          -0.755920          -1.027276\n",
              "187 2017-09-11  18.01  ...          -1.430655          -1.104599\n",
              "186 2017-09-12  18.06  ...          -0.768347          -1.714952\n",
              "185 2017-09-13  17.98  ...          -0.568198          -1.522771\n",
              "184 2017-09-14  17.86  ...          -1.171889          -1.171889\n",
              "183 2017-09-15  18.04  ...          -0.280639          -1.537903\n",
              "182 2017-09-18  18.15  ...          -1.406173          -0.821428\n",
              "181 2017-09-19  18.20  ...           0.202414          -1.547875\n",
              "180 2017-09-20  18.29  ...           0.153389          -0.293995\n",
              "179 2017-09-21  18.31  ...          -0.716226          -0.159161\n",
              "178 2017-09-22  18.43  ...          -1.555076          -0.833383\n",
              "\n",
              "[14 rows x 19 columns]"
            ]
          },
          "metadata": {
            "tags": []
          },
          "execution_count": 52
        }
      ]
    },
    {
      "cell_type": "markdown",
      "metadata": {
        "id": "SHeDO51cUUZx"
      },
      "source": [
        "# Evaluating Parameters"
      ]
    },
    {
      "cell_type": "code",
      "metadata": {
        "id": "c39ZkMY-UXw7"
      },
      "source": [
        "def get_mae(A, B):\n",
        "  A=np.array(A)\n",
        "  B=np.array(B)\n",
        "  diff=A-B\n",
        "  diff=np.abs(diff)\n",
        "  return np.mean(diff)"
      ],
      "execution_count": null,
      "outputs": []
    },
    {
      "cell_type": "code",
      "metadata": {
        "id": "aa31WbXGVI7Q"
      },
      "source": [
        "def get_rmse(A,B):\n",
        "  A=np.array(A)\n",
        "  B=np.array(B)\n",
        "  diff=A-B\n",
        "  square=diff**2\n",
        "  return np.sqrt(np.mean(square))"
      ],
      "execution_count": null,
      "outputs": []
    },
    {
      "cell_type": "code",
      "metadata": {
        "id": "xxk29M3RU_Pp"
      },
      "source": [
        "def get_mape(actual, estimate):\n",
        "  actual=np.array(actual)\n",
        "  estimate=np.array(estimate)\n",
        "  diff=(actual-estimate)/actual\n",
        "  diff=np.abs(diff)\n",
        "  return np.mean(diff)*100"
      ],
      "execution_count": null,
      "outputs": []
    },
    {
      "cell_type": "code",
      "metadata": {
        "id": "uaISZAMuQeCI",
        "colab": {
          "base_uri": "https://localhost:8080/",
          "height": 35
        },
        "outputId": "43b61758-b64a-4aa2-a7a3-5cf3815cf523"
      },
      "source": [
        "train_val.shape[0]"
      ],
      "execution_count": null,
      "outputs": [
        {
          "output_type": "execute_result",
          "data": {
            "text/plain": [
              "982"
            ]
          },
          "metadata": {
            "tags": []
          },
          "execution_count": 47
        }
      ]
    },
    {
      "cell_type": "code",
      "metadata": {
        "id": "ttADojaGTq06",
        "colab": {
          "base_uri": "https://localhost:8080/",
          "height": 35
        },
        "outputId": "68058c97-aea9-4ce3-a571-1e61591fdff0"
      },
      "source": [
        "horizon"
      ],
      "execution_count": null,
      "outputs": [
        {
          "output_type": "execute_result",
          "data": {
            "text/plain": [
              "14"
            ]
          },
          "metadata": {
            "tags": []
          },
          "execution_count": 68
        }
      ]
    },
    {
      "cell_type": "code",
      "metadata": {
        "id": "HNbLmwRXYDPB"
      },
      "source": [
        "val_size=validation.shape[0]"
      ],
      "execution_count": null,
      "outputs": []
    },
    {
      "cell_type": "code",
      "metadata": {
        "id": "LJ1iefHsX_OT",
        "colab": {
          "base_uri": "https://localhost:8080/",
          "height": 451
        },
        "outputId": "6d652f8e-7b2d-4910-be43-8748fbfb758d"
      },
      "source": [
        "for i in range(0, val_size-horizon+1, int(horizon/2)):\n",
        "  print(i)"
      ],
      "execution_count": null,
      "outputs": [
        {
          "output_type": "stream",
          "text": [
            "0\n",
            "7\n",
            "14\n",
            "21\n",
            "28\n",
            "35\n",
            "42\n",
            "49\n",
            "56\n",
            "63\n",
            "70\n",
            "77\n",
            "84\n",
            "91\n",
            "98\n",
            "105\n",
            "112\n",
            "119\n",
            "126\n",
            "133\n",
            "140\n",
            "147\n",
            "154\n",
            "161\n",
            "168\n"
          ],
          "name": "stdout"
        }
      ]
    },
    {
      "cell_type": "markdown",
      "metadata": {
        "id": "5RqvLWddRbBm"
      },
      "source": [
        "# Train Model"
      ]
    },
    {
      "cell_type": "code",
      "metadata": {
        "id": "M2v6KosVRZ7h"
      },
      "source": [
        "def train_model(train_val, train_size, H, N_final, features, features_lag, n_estimators, max_depth, val_size):\n",
        "  \n",
        "  predictions=[]\n",
        "  rmse_net=[]\n",
        "  mape_net=[]\n",
        "  mae_net=[]\n",
        "  #df=train_val.shape[0]\n",
        "  for i in range(0, val_size-H+1, int(H/2)):\n",
        "    train=train_val[i:train_size+i].copy()\n",
        "    test=train_val[i+train_size:i+train_size+H].copy()\n",
        "  # for i in range(train_size, df-H+1, int(H/2)):\n",
        "  #       # Split into train and test\n",
        "  #   train = train_val[i-train_size:i].copy()\n",
        "  #   test = train_val[i:i+H].copy()\n",
        "\n",
        "    train.dropna(axis=0, inplace=True)\n",
        "    \n",
        "    trainX=train[features_lag]\n",
        "    trainY=train['OPEN_scaled']\n",
        "\n",
        "    testX=test[features]\n",
        "    testY=test['OPEN']\n",
        "\n",
        "    prev_values=train[-N_final:]['OPEN'].to_numpy()\n",
        "    prev_mean=test.iloc[0]['OPEN_mean']\n",
        "    prev_stddev=test.iloc[0]['OPEN_std']\n",
        "\n",
        "    rmse, mape, mae, prediction, features_importance =fit_model(i, trainX, trainY, testX, testY, prev_values, prev_mean, prev_stddev, n_estimators, max_depth, H, N_final)\n",
        "\n",
        "    rmse_net.append(rmse)\n",
        "    mape_net.append(mape)\n",
        "    mae_net.append(mae)\n",
        "    predictions.append(prediction)\n",
        "\n",
        "  return predictions, mape_net, mae_net, rmse_net, features_importance "
      ],
      "execution_count": null,
      "outputs": []
    },
    {
      "cell_type": "code",
      "metadata": {
        "id": "UJv9NEvedUrC"
      },
      "source": [
        "def fit_model (i, trainX, trainY, testX, testY, prev_values, prev_stddev, prev_mean, n_estimators, max_depth, H, N):\n",
        "\n",
        "      model = XGBRegressor(objective ='reg:squarederror',\n",
        "                         seed=55,\n",
        "                         n_estimators=n_estimators,\n",
        "                         max_depth=max_depth)\n",
        "      \n",
        "      model.fit(trainX, trainY)\n",
        "\n",
        "      prediction=predict_N(model, testX, prev_values, prev_stddev, prev_mean, H, N_final)\n",
        "\n",
        "      if i==63:\n",
        "        print (prediction)\n",
        "        print (testY)\n",
        "\n",
        "      rmse = get_rmse(testY, prediction)\n",
        "      mape = get_mape(testY, prediction)\n",
        "      mae = get_mae(testY, prediction)\n",
        "\n",
        "      imp_features = model.feature_importances_\n",
        "      \n",
        "      return rmse, mape, mae, prediction, imp_features"
      ],
      "execution_count": null,
      "outputs": []
    },
    {
      "cell_type": "code",
      "metadata": {
        "id": "aXuqOUBIeTAR"
      },
      "source": [
        "def predict_N(model, testX, prev_values, prev_stddev, prev_mean, H, N_final):\n",
        "\n",
        "  forecast=prev_values.copy()\n",
        "\n",
        "  for i in range(H):\n",
        "    forecast_scaled = (forecast[-N_final:]-prev_mean)/prev_stddev\n",
        "    # print(forecast_scaled)\n",
        "    # X=testX.iloc[i, :]\n",
        "    X=testX[i:i+1].copy()\n",
        "    for j in range(1, N_final+1): #working\n",
        "      name='OPEN_lag_scaled_{}'.format(j)\n",
        "      X[name]=forecast_scaled[-j]\n",
        "    # print (X)\n",
        "    # for n in range(N_final,0,-1):\n",
        "    #   X.loc[:, \"OPEN_lag_scaled_\"+str(n)] = forecast_scaled[-n]\n",
        "\n",
        "    Y=model.predict(X)\n",
        "    rescaled=(Y* prev_stddev) + prev_mean\n",
        "    forecast=np.concatenate((forecast, rescaled))\n",
        "\n",
        "    prev_mean=np.mean(forecast[-N_final:])\n",
        "    prev_stddev=np.std(forecast[-N_final:])\n",
        "\n",
        "  return forecast[-H:]"
      ],
      "execution_count": null,
      "outputs": []
    },
    {
      "cell_type": "code",
      "metadata": {
        "id": "1HCekObpB6PQ"
      },
      "source": [
        "n_estimators = 500\n",
        "max_depth = 10"
      ],
      "execution_count": null,
      "outputs": []
    },
    {
      "cell_type": "code",
      "metadata": {
        "id": "T1ZD7bnpcVFr",
        "colab": {
          "base_uri": "https://localhost:8080/",
          "height": 35
        },
        "outputId": "91ade22f-4a48-4e01-e164-466bb1bbd54b"
      },
      "source": [
        "np.mean(mape_net)"
      ],
      "execution_count": null,
      "outputs": [
        {
          "output_type": "execute_result",
          "data": {
            "text/plain": [
              "39.036452990115016"
            ]
          },
          "metadata": {
            "tags": []
          },
          "execution_count": 102
        }
      ]
    },
    {
      "cell_type": "code",
      "metadata": {
        "id": "I6Wj7GX7BiLe",
        "colab": {
          "base_uri": "https://localhost:8080/",
          "height": 312
        },
        "outputId": "a2adb5af-f6b8-4ccf-d6e2-4c3c259dc216"
      },
      "source": [
        "predictions, mape_net, mae_net, rmse_net, features_importance = train_model(train_val, train_size, horizon, N_final, features, features_lag, n_estimators, max_depth, validation.shape[0])"
      ],
      "execution_count": null,
      "outputs": [
        {
          "output_type": "stream",
          "text": [
            "[ 7.388726 12.923316 15.869455 18.003086 19.304819 21.456657 22.81049  20.447897 21.132004 21.388296 22.294666\n",
            " 21.980515 22.135822 22.096367]\n",
            "135    19.3600\n",
            "134    19.2900\n",
            "133    19.5500\n",
            "132    19.5952\n",
            "131    19.7600\n",
            "130    19.7700\n",
            "129    19.7000\n",
            "128    19.7800\n",
            "127    19.7300\n",
            "126    19.4000\n",
            "125    19.3540\n",
            "124    19.4141\n",
            "123    19.4900\n",
            "122    19.6900\n",
            "Name: OPEN, dtype: float64\n"
          ],
          "name": "stdout"
        }
      ]
    },
    {
      "cell_type": "code",
      "metadata": {
        "id": "jNW8zh28aZ72",
        "colab": {
          "base_uri": "https://localhost:8080/",
          "height": 312
        },
        "outputId": "8737d77c-700b-4f33-bd89-f5ead7dea438"
      },
      "source": [
        "predictions, mape_net, mae_net, rmse_net, features_importance = train_model(train_val, train_size, horizon, N_final, features, features_lag, n_estimators, max_depth, validation.shape[0])"
      ],
      "execution_count": null,
      "outputs": [
        {
          "output_type": "stream",
          "text": [
            "[ 6.74045  12.315695 15.012709 17.313782 18.406067 17.972456 21.062317 16.537508 18.384108 18.434263 19.968239\n",
            " 20.000885 20.348656 21.357744]\n",
            "135    19.3600\n",
            "134    19.2900\n",
            "133    19.5500\n",
            "132    19.5952\n",
            "131    19.7600\n",
            "130    19.7700\n",
            "129    19.7000\n",
            "128    19.7800\n",
            "127    19.7300\n",
            "126    19.4000\n",
            "125    19.3540\n",
            "124    19.4141\n",
            "123    19.4900\n",
            "122    19.6900\n",
            "Name: OPEN, dtype: float64\n"
          ],
          "name": "stdout"
        }
      ]
    },
    {
      "cell_type": "code",
      "metadata": {
        "id": "Yk7zboMY0Cyt",
        "colab": {
          "base_uri": "https://localhost:8080/",
          "height": 451
        },
        "outputId": "a4c719ba-87b5-4787-e720-f104678c1c88"
      },
      "source": [
        "mape_net"
      ],
      "execution_count": null,
      "outputs": [
        {
          "output_type": "execute_result",
          "data": {
            "text/plain": [
              "[89.86193375402064,\n",
              " 47.835327668573605,\n",
              " 43.34754075044285,\n",
              " 102.0795502990429,\n",
              " 29.656799012139007,\n",
              " 13.010416763805194,\n",
              " 49.908158339322746,\n",
              " 34.308736599675086,\n",
              " 7.577806508891396,\n",
              " 14.736692017178651,\n",
              " 58.22283887357135,\n",
              " 1.459664146239422,\n",
              " 29.903780139240656,\n",
              " 92.51743432570102,\n",
              " 5.505757826079189,\n",
              " 11.721049921019159,\n",
              " 36.57408765140303,\n",
              " 103.43280512264386,\n",
              " 11.185640029041,\n",
              " 18.567106885850905,\n",
              " 24.955746835308993,\n",
              " 5.058248610039082,\n",
              " 22.76967384275329,\n",
              " 49.680387265107164,\n",
              " 11.727848122066515]"
            ]
          },
          "metadata": {
            "tags": []
          },
          "execution_count": 99
        }
      ]
    },
    {
      "cell_type": "code",
      "metadata": {
        "id": "kzJAT7dGeZmt",
        "colab": {
          "base_uri": "https://localhost:8080/",
          "height": 461
        },
        "outputId": "a0f4c6f0-28b9-497c-f301-54241eab9631"
      },
      "source": [
        "mape_net"
      ],
      "execution_count": null,
      "outputs": [
        {
          "output_type": "execute_result",
          "data": {
            "text/plain": [
              "[10.637050591779728,\n",
              " 2.292492488158364,\n",
              " 4.853209037232255,\n",
              " 31.31440420172389,\n",
              " 13.37970425250871,\n",
              " 3.2894532181571305,\n",
              " 20.08846909093016,\n",
              " 18.370744406764945,\n",
              " 5.00666673693499,\n",
              " 563.6296510769542,\n",
              " 16.615636385641302,\n",
              " 6.571516419664049,\n",
              " 39.60141479666785,\n",
              " 17.751332059761317,\n",
              " 8.194873526538201,\n",
              " 63.364956942048536,\n",
              " 20.00091824803672,\n",
              " 30.480681259672792,\n",
              " 58.404021836258316,\n",
              " 26.483833081261615,\n",
              " 26.08159702497062,\n",
              " 11.812885897382804,\n",
              " 7.514427746073972,\n",
              " 12.679175101218929,\n",
              " 4.0218407233147495]"
            ]
          },
          "metadata": {
            "tags": []
          },
          "execution_count": 123
        }
      ]
    },
    {
      "cell_type": "code",
      "metadata": {
        "id": "yvq6v_0Teb14",
        "colab": {
          "base_uri": "https://localhost:8080/",
          "height": 451
        },
        "outputId": "e4a465f4-aa3e-4275-a933-3ce4a4de5dd0"
      },
      "source": [
        "mae_net"
      ],
      "execution_count": null,
      "outputs": [
        {
          "output_type": "execute_result",
          "data": {
            "text/plain": [
              "[1.8815994042532782,\n",
              " 0.41454227447509745,\n",
              " 0.8858365576607837,\n",
              " 5.77693389478411,\n",
              " 2.4861650822230743,\n",
              " 0.6126074746268133,\n",
              " 3.7921129395621156,\n",
              " 3.468642960248675,\n",
              " 0.9496702721732001,\n",
              " 110.23553308890207,\n",
              " 3.2623086857387,\n",
              " 1.2864449833461218,\n",
              " 7.795737922123501,\n",
              " 3.7104449326651436,\n",
              " 1.7080066244942809,\n",
              " 12.62064161703927,\n",
              " 3.925847692435128,\n",
              " 6.0178112738473075,\n",
              " 11.571483065795897,\n",
              " 5.242634357779366,\n",
              " 5.075108157566616,\n",
              " 2.2892603737967354,\n",
              " 1.4633296524047854,\n",
              " 2.4675845929827007,\n",
              " 0.7803335189819338]"
            ]
          },
          "metadata": {
            "tags": []
          },
          "execution_count": 57
        }
      ]
    },
    {
      "cell_type": "code",
      "metadata": {
        "id": "I3rFEsECed7W",
        "colab": {
          "base_uri": "https://localhost:8080/",
          "height": 35
        },
        "outputId": "e7600c74-abb6-4e1e-ad19-71948deb92af"
      },
      "source": [
        "rmse_net"
      ],
      "execution_count": null,
      "outputs": [
        {
          "output_type": "execute_result",
          "data": {
            "text/plain": [
              "9.349902017071585"
            ]
          },
          "metadata": {
            "tags": []
          },
          "execution_count": 78
        }
      ]
    },
    {
      "cell_type": "code",
      "metadata": {
        "id": "2caVaGknXiMC",
        "colab": {
          "base_uri": "https://localhost:8080/",
          "height": 35
        },
        "outputId": "18244d6a-74fb-4b7c-ba5c-ab6b8de9ae67"
      },
      "source": [
        "len(predictions)"
      ],
      "execution_count": null,
      "outputs": [
        {
          "output_type": "execute_result",
          "data": {
            "text/plain": [
              "25"
            ]
          },
          "metadata": {
            "tags": []
          },
          "execution_count": 103
        }
      ]
    },
    {
      "cell_type": "code",
      "metadata": {
        "id": "hSkIS9o4Vxux",
        "colab": {
          "base_uri": "https://localhost:8080/",
          "height": 277
        },
        "outputId": "b87dd0be-e96e-4ec8-e3ea-efecc626987c"
      },
      "source": [
        "validation['OPEN'][0:14]"
      ],
      "execution_count": null,
      "outputs": [
        {
          "output_type": "execute_result",
          "data": {
            "text/plain": [
              "198    17.5368\n",
              "197    17.5000\n",
              "196    17.4700\n",
              "195    17.3100\n",
              "194    17.3700\n",
              "193    17.3000\n",
              "192    17.5200\n",
              "191    17.7000\n",
              "190    17.7000\n",
              "189    17.8600\n",
              "188    17.8000\n",
              "187    18.0100\n",
              "186    18.0600\n",
              "185    17.9800\n",
              "Name: OPEN, dtype: float64"
            ]
          },
          "metadata": {
            "tags": []
          },
          "execution_count": 72
        }
      ]
    },
    {
      "cell_type": "code",
      "metadata": {
        "id": "_Fkk4c0YezyP",
        "colab": {
          "base_uri": "https://localhost:8080/",
          "height": 884
        },
        "outputId": "25181eac-4941-4505-ebb8-b7384a4c7883"
      },
      "source": [
        "predictions"
      ],
      "execution_count": null,
      "outputs": [
        {
          "output_type": "execute_result",
          "data": {
            "text/plain": [
              "[array([14.501771, 15.375394, 15.510628, 16.386421, 16.112452, 16.169512, 16.077879, 15.941232, 15.947485, 15.598397,\n",
              "        15.668383, 15.800804, 15.844839, 15.839212]),\n",
              " array([18.445379, 17.976768, 18.012592, 17.715466, 17.614622, 17.654776, 17.587778, 17.692896, 17.698769, 17.704248,\n",
              "        17.710566, 17.708176, 17.71266 , 17.701193]),\n",
              " array([16.586784, 16.93294 , 16.962343, 17.319073, 17.423464, 17.568632, 17.573946, 17.607132, 17.592815, 17.54578 ,\n",
              "        17.571154, 17.581261, 17.592625, 17.60034 ]),\n",
              " array([25.306566, 23.328165, 24.084078, 24.625988, 23.691765, 24.420338, 24.022707, 24.015429, 24.199852, 24.193445,\n",
              "        24.360867, 24.298967, 24.329565, 24.340143]),\n",
              " array([22.15015 , 20.525986, 21.237919, 20.37369 , 20.611555, 21.156343, 20.896856, 21.277651, 21.212202, 21.132843,\n",
              "        21.143633, 21.133755, 21.12525 , 21.089378]),\n",
              " array([19.390287, 19.046049, 19.339081, 19.287792, 19.271513, 19.25172 , 19.313734, 19.30109 , 19.322313, 19.322115,\n",
              "        19.32263 , 19.335493, 19.337708, 19.343079]),\n",
              " array([16.975363, 17.147844, 16.843464, 16.403273, 15.920933, 15.110103, 14.444936, 14.336185, 14.000628, 13.989882,\n",
              "        13.884273, 13.825452, 13.800331, 13.775755]),\n",
              " array([27.08761 , 22.534668, 19.146023, 16.729176, 18.128746, 20.546951, 22.824575, 22.480892, 23.417665, 22.540482,\n",
              "        22.525524, 22.720961, 22.952608, 23.248863]),\n",
              " array([22.122583, 20.527142, 20.106707, 18.999809, 19.480728, 19.983259, 19.510172, 20.178282, 20.111752, 20.186584,\n",
              "        20.163122, 20.159151, 20.228144, 20.331049]),\n",
              " array([ 35.270515,  36.812752,  46.766159,  55.66684 ,  65.076408,  81.544601,  99.985535, 116.312653, 137.891113,\n",
              "        162.685928, 191.765518, 225.10498 , 260.37439 , 301.92337 ]),\n",
              " array([24.719217, 24.448042, 23.213669, 23.338144, 22.857857, 22.461086, 22.388857, 22.134007, 22.293274, 22.438398,\n",
              "        22.525831, 22.627235, 22.648779, 22.576025]),\n",
              " array([20.952291, 20.549538, 19.352829, 18.699137, 18.716543, 18.757931, 18.942617, 19.245966, 19.706121, 19.934591,\n",
              "        20.175079, 16.501539, 16.486271, 15.905315]),\n",
              " array([27.543863, 27.298517, 30.214306, 33.285866, -1.322807,  3.291853,  7.555242, 15.177326, 13.022047, 20.018158,\n",
              "        22.598633, 20.752262, 23.911366, 23.578337]),\n",
              " array([25.324121, 23.309034, 22.619492, 20.000816, 20.128016, 19.679714, 17.485182, 16.78661 , 15.607189, 15.681874,\n",
              "        15.665165, 15.819324, 16.102402, 16.180126]),\n",
              " array([24.661495, 23.32839 , 23.041393, 21.635157, 22.045843, 22.249788, 21.727667, 22.436741, 22.564484, 22.536495,\n",
              "        22.653942, 22.675623, 22.92506 , 22.870014]),\n",
              " array([31.432749, 29.950701, 27.715139, 30.159576, 31.08337 , 33.385571, 33.408573, 33.598957, 34.332134, 34.492741,\n",
              "        34.518105, 34.551598, 34.595295, 34.757774]),\n",
              " array([24.814896, 23.755524, 22.740265, 22.331074, 22.448807, 22.770695, 23.200871, 23.676481, 23.815872, 24.010798,\n",
              "        23.938677, 24.108862, 24.191927, 24.230421]),\n",
              " array([23.749603, 23.397005, 24.616997, 24.641281, 24.640957, 25.698584, 26.57229 , 26.510826, 26.524799, 26.62998 ,\n",
              "        26.787373, 27.033024, 27.129726, 27.176912]),\n",
              " array([29.857288, 28.805843, 27.623819, 29.183062, 29.77903 , 30.571598, 32.941853, 32.002045, 32.331013, 32.735821,\n",
              "        32.773197, 33.340115, 33.712238, 33.723042]),\n",
              " array([24.84984 , 23.852427, 23.783297, 24.381964, 24.602699, 24.94796 , 25.367535, 25.525703, 25.450281, 25.542248,\n",
              "        25.57428 , 25.63645 , 25.674053, 25.667345]),\n",
              " array([24.40793 , 23.71011 , 23.234158, 24.002165, 23.89258 , 24.093576, 25.128952, 25.021288, 25.052063, 25.017265,\n",
              "        25.04587 , 25.079874, 25.147579, 25.158104]),\n",
              " array([21.577293, 21.431349, 21.862719, 21.658297, 21.488708, 21.427971, 21.595587, 21.66037 , 21.814167, 21.846687,\n",
              "        21.800947, 21.808578, 21.781147, 21.745825]),\n",
              " array([23.76845 , 22.946133, 21.755455, 21.485107, 20.728601, 20.511051, 20.161541, 20.195057, 20.411104, 20.421961,\n",
              "        20.414026, 20.450916, 20.577993, 20.576319]),\n",
              " array([22.504545, 21.905741, 21.383955, 21.714758, 21.548054, 21.680628, 22.017773, 22.14842 , 22.100948, 22.040911,\n",
              "        22.023872, 22.053339, 22.132338, 22.158003]),\n",
              " array([21.438625, 20.961424, 20.652868, 20.111389, 19.722567, 19.558561, 19.018501, 18.885666, 18.884216, 18.919641,\n",
              "        19.004902, 19.053856, 19.128731, 19.125252])]"
            ]
          },
          "metadata": {
            "tags": []
          },
          "execution_count": 69
        }
      ]
    },
    {
      "cell_type": "code",
      "metadata": {
        "id": "gVv-3EtjUBjk",
        "colab": {
          "base_uri": "https://localhost:8080/",
          "height": 277
        },
        "outputId": "1b265c52-496d-4509-c88d-53f21fc6e395"
      },
      "source": [
        "test['OPEN']"
      ],
      "execution_count": null,
      "outputs": [
        {
          "output_type": "execute_result",
          "data": {
            "text/plain": [
              "16    19.50\n",
              "15    19.72\n",
              "14    19.14\n",
              "13    19.31\n",
              "12    19.26\n",
              "11    18.83\n",
              "10    18.78\n",
              "9     18.76\n",
              "8     18.51\n",
              "7     18.47\n",
              "6     18.52\n",
              "5     18.58\n",
              "4     18.86\n",
              "3     18.86\n",
              "Name: OPEN, dtype: float64"
            ]
          },
          "metadata": {
            "tags": []
          },
          "execution_count": 70
        }
      ]
    },
    {
      "cell_type": "code",
      "metadata": {
        "id": "FsHribNlUKJm"
      },
      "source": [
        ""
      ],
      "execution_count": null,
      "outputs": []
    }
  ]
}