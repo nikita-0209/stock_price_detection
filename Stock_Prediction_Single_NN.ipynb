{
  "nbformat": 4,
  "nbformat_minor": 0,
  "metadata": {
    "colab": {
      "name": "Stock Prediction: Single NN.ipynb",
      "provenance": [],
      "authorship_tag": "ABX9TyMIgEMklsAJJHKSl8OBd57w",
      "include_colab_link": true
    },
    "kernelspec": {
      "name": "python3",
      "display_name": "Python 3"
    }
  },
  "cells": [
    {
      "cell_type": "markdown",
      "metadata": {
        "id": "view-in-github",
        "colab_type": "text"
      },
      "source": [
        "<a href=\"https://colab.research.google.com/github/nikita-0209/stock_price_detection/blob/master/Stock_Prediction_Single_NN.ipynb\" target=\"_parent\"><img src=\"https://colab.research.google.com/assets/colab-badge.svg\" alt=\"Open In Colab\"/></a>"
      ]
    },
    {
      "cell_type": "code",
      "metadata": {
        "id": "aXdJfAOMBRUP",
        "colab_type": "code",
        "colab": {}
      },
      "source": [
        "import matplotlib.pyplot as plt\n",
        "%matplotlib inline"
      ],
      "execution_count": 0,
      "outputs": []
    },
    {
      "cell_type": "code",
      "metadata": {
        "id": "mQ-t2lr_l_Jf",
        "colab_type": "code",
        "colab": {}
      },
      "source": [
        "import tensorflow as tf"
      ],
      "execution_count": 0,
      "outputs": []
    },
    {
      "cell_type": "code",
      "metadata": {
        "id": "f-8t1j_gBS2d",
        "colab_type": "code",
        "colab": {}
      },
      "source": [
        "from pydrive.auth import GoogleAuth\n",
        "from pydrive.drive import GoogleDrive\n",
        "from google.colab import auth\n",
        "from oauth2client.client import GoogleCredentials"
      ],
      "execution_count": 0,
      "outputs": []
    },
    {
      "cell_type": "code",
      "metadata": {
        "id": "sXuoYdCnBUjz",
        "colab_type": "code",
        "colab": {}
      },
      "source": [
        "auth.authenticate_user()\n",
        "gauth = GoogleAuth()\n",
        "gauth.credentials = GoogleCredentials.get_application_default()\n",
        "drive = GoogleDrive(gauth)"
      ],
      "execution_count": 0,
      "outputs": []
    },
    {
      "cell_type": "code",
      "metadata": {
        "id": "-MgdL2QnBc0b",
        "colab_type": "code",
        "colab": {}
      },
      "source": [
        "import pandas as pd"
      ],
      "execution_count": 0,
      "outputs": []
    },
    {
      "cell_type": "code",
      "metadata": {
        "id": "xf4MWrRiBs0S",
        "colab_type": "code",
        "colab": {}
      },
      "source": [
        "import numpy as np"
      ],
      "execution_count": 0,
      "outputs": []
    },
    {
      "cell_type": "code",
      "metadata": {
        "id": "W-yQxJRl8cfJ",
        "colab_type": "code",
        "outputId": "3d7619ee-74bb-4374-fb01-097ec4e17fe8",
        "colab": {
          "base_uri": "https://localhost:8080/",
          "height": 35
        }
      },
      "source": [
        "import keras"
      ],
      "execution_count": 7,
      "outputs": [
        {
          "output_type": "stream",
          "text": [
            "Using TensorFlow backend.\n"
          ],
          "name": "stderr"
        }
      ]
    },
    {
      "cell_type": "code",
      "metadata": {
        "id": "9Ep5MOJiBvI_",
        "colab_type": "code",
        "colab": {}
      },
      "source": [
        "#Dataset\n",
        "downloaded = drive.CreateFile({'id':\"12f9gd7u5hGDwWEZgOd-O9iMkM6lE9vF-\"})   # replace the id with id of file you want to access\n",
        "downloaded.GetContentFile('stock_prices_sample.csv')        # replace the file name with your file"
      ],
      "execution_count": 0,
      "outputs": []
    },
    {
      "cell_type": "code",
      "metadata": {
        "id": "9OQt4EKdLbKW",
        "colab_type": "code",
        "colab": {}
      },
      "source": [
        "df=pd.read_csv('stock_prices_sample.csv')"
      ],
      "execution_count": 0,
      "outputs": []
    },
    {
      "cell_type": "markdown",
      "metadata": {
        "id": "_eY3nieI1vu4",
        "colab_type": "text"
      },
      "source": [
        "# Prepare Data"
      ]
    },
    {
      "cell_type": "code",
      "metadata": {
        "id": "mR-ZY3FawWIe",
        "colab_type": "code",
        "outputId": "5947667b-ab7a-460a-85b5-f2d78f9c9db0",
        "colab": {
          "base_uri": "https://localhost:8080/",
          "height": 609
        }
      },
      "source": [
        "df"
      ],
      "execution_count": 10,
      "outputs": [
        {
          "output_type": "execute_result",
          "data": {
            "text/html": [
              "<div>\n",
              "<style scoped>\n",
              "    .dataframe tbody tr th:only-of-type {\n",
              "        vertical-align: middle;\n",
              "    }\n",
              "\n",
              "    .dataframe tbody tr th {\n",
              "        vertical-align: top;\n",
              "    }\n",
              "\n",
              "    .dataframe thead th {\n",
              "        text-align: right;\n",
              "    }\n",
              "</style>\n",
              "<table border=\"1\" class=\"dataframe\">\n",
              "  <thead>\n",
              "    <tr style=\"text-align: right;\">\n",
              "      <th></th>\n",
              "      <th>TICKER</th>\n",
              "      <th>FIGI</th>\n",
              "      <th>DATE</th>\n",
              "      <th>TYPE</th>\n",
              "      <th>FREQUENCY</th>\n",
              "      <th>OPEN</th>\n",
              "      <th>HIGH</th>\n",
              "      <th>LOW</th>\n",
              "      <th>CLOSE</th>\n",
              "      <th>VOLUME</th>\n",
              "      <th>ADJ_OPEN</th>\n",
              "      <th>ADJ_HIGH</th>\n",
              "      <th>ADJ_LOW</th>\n",
              "      <th>ADJ_CLOSE</th>\n",
              "      <th>ADJ_VOLUME</th>\n",
              "      <th>ADJ_FACTOR</th>\n",
              "      <th>EX_DIVIDEND</th>\n",
              "      <th>SPLIT_RATIO</th>\n",
              "    </tr>\n",
              "  </thead>\n",
              "  <tbody>\n",
              "    <tr>\n",
              "      <th>0</th>\n",
              "      <td>GEF</td>\n",
              "      <td>BBG000BLFQH8</td>\n",
              "      <td>2013-01-04</td>\n",
              "      <td>EOD</td>\n",
              "      <td>daily</td>\n",
              "      <td>46.31</td>\n",
              "      <td>47.6198</td>\n",
              "      <td>46.23</td>\n",
              "      <td>47.37</td>\n",
              "      <td>248000.0</td>\n",
              "      <td>38.517220</td>\n",
              "      <td>39.606614</td>\n",
              "      <td>38.450681</td>\n",
              "      <td>39.398849</td>\n",
              "      <td>248000.0</td>\n",
              "      <td>NaN</td>\n",
              "      <td>0.0</td>\n",
              "      <td>1.0</td>\n",
              "    </tr>\n",
              "    <tr>\n",
              "      <th>1</th>\n",
              "      <td>GEF</td>\n",
              "      <td>BBG000BLFQH8</td>\n",
              "      <td>2013-01-03</td>\n",
              "      <td>EOD</td>\n",
              "      <td>daily</td>\n",
              "      <td>46.43</td>\n",
              "      <td>46.5200</td>\n",
              "      <td>46.14</td>\n",
              "      <td>46.48</td>\n",
              "      <td>131300.0</td>\n",
              "      <td>38.617027</td>\n",
              "      <td>38.691882</td>\n",
              "      <td>38.375826</td>\n",
              "      <td>38.658613</td>\n",
              "      <td>131300.0</td>\n",
              "      <td>NaN</td>\n",
              "      <td>0.0</td>\n",
              "      <td>1.0</td>\n",
              "    </tr>\n",
              "    <tr>\n",
              "      <th>2</th>\n",
              "      <td>GEF</td>\n",
              "      <td>BBG000BLFQH8</td>\n",
              "      <td>2013-01-02</td>\n",
              "      <td>EOD</td>\n",
              "      <td>daily</td>\n",
              "      <td>45.38</td>\n",
              "      <td>46.5400</td>\n",
              "      <td>45.16</td>\n",
              "      <td>46.41</td>\n",
              "      <td>184900.0</td>\n",
              "      <td>37.743715</td>\n",
              "      <td>38.708516</td>\n",
              "      <td>37.560735</td>\n",
              "      <td>38.600392</td>\n",
              "      <td>184900.0</td>\n",
              "      <td>NaN</td>\n",
              "      <td>0.0</td>\n",
              "      <td>1.0</td>\n",
              "    </tr>\n",
              "    <tr>\n",
              "      <th>3</th>\n",
              "      <td>GF</td>\n",
              "      <td>BBG000C3C6S2</td>\n",
              "      <td>2018-06-05</td>\n",
              "      <td>Intraday</td>\n",
              "      <td>daily</td>\n",
              "      <td>18.86</td>\n",
              "      <td>18.9100</td>\n",
              "      <td>18.87</td>\n",
              "      <td>18.87</td>\n",
              "      <td>10000.0</td>\n",
              "      <td>18.860000</td>\n",
              "      <td>18.910000</td>\n",
              "      <td>18.870000</td>\n",
              "      <td>18.870000</td>\n",
              "      <td>10000.0</td>\n",
              "      <td>NaN</td>\n",
              "      <td>0.0</td>\n",
              "      <td>1.0</td>\n",
              "    </tr>\n",
              "    <tr>\n",
              "      <th>4</th>\n",
              "      <td>GF</td>\n",
              "      <td>BBG000C3C6S2</td>\n",
              "      <td>2018-06-04</td>\n",
              "      <td>EOD</td>\n",
              "      <td>daily</td>\n",
              "      <td>18.86</td>\n",
              "      <td>18.8900</td>\n",
              "      <td>18.79</td>\n",
              "      <td>18.81</td>\n",
              "      <td>39095.0</td>\n",
              "      <td>18.860000</td>\n",
              "      <td>18.890000</td>\n",
              "      <td>18.790000</td>\n",
              "      <td>18.810000</td>\n",
              "      <td>39095.0</td>\n",
              "      <td>NaN</td>\n",
              "      <td>0.0</td>\n",
              "      <td>1.0</td>\n",
              "    </tr>\n",
              "    <tr>\n",
              "      <th>...</th>\n",
              "      <td>...</td>\n",
              "      <td>...</td>\n",
              "      <td>...</td>\n",
              "      <td>...</td>\n",
              "      <td>...</td>\n",
              "      <td>...</td>\n",
              "      <td>...</td>\n",
              "      <td>...</td>\n",
              "      <td>...</td>\n",
              "      <td>...</td>\n",
              "      <td>...</td>\n",
              "      <td>...</td>\n",
              "      <td>...</td>\n",
              "      <td>...</td>\n",
              "      <td>...</td>\n",
              "      <td>...</td>\n",
              "      <td>...</td>\n",
              "      <td>...</td>\n",
              "    </tr>\n",
              "    <tr>\n",
              "      <th>994</th>\n",
              "      <td>GF</td>\n",
              "      <td>BBG000C3C6S2</td>\n",
              "      <td>2014-06-27</td>\n",
              "      <td>EOD</td>\n",
              "      <td>daily</td>\n",
              "      <td>18.63</td>\n",
              "      <td>18.6300</td>\n",
              "      <td>18.51</td>\n",
              "      <td>18.61</td>\n",
              "      <td>28400.0</td>\n",
              "      <td>11.717560</td>\n",
              "      <td>11.717560</td>\n",
              "      <td>11.642085</td>\n",
              "      <td>11.704981</td>\n",
              "      <td>28400.0</td>\n",
              "      <td>NaN</td>\n",
              "      <td>0.0</td>\n",
              "      <td>1.0</td>\n",
              "    </tr>\n",
              "    <tr>\n",
              "      <th>995</th>\n",
              "      <td>GF</td>\n",
              "      <td>BBG000C3C6S2</td>\n",
              "      <td>2014-06-26</td>\n",
              "      <td>EOD</td>\n",
              "      <td>daily</td>\n",
              "      <td>18.52</td>\n",
              "      <td>18.5901</td>\n",
              "      <td>18.42</td>\n",
              "      <td>18.53</td>\n",
              "      <td>60000.0</td>\n",
              "      <td>11.648374</td>\n",
              "      <td>11.692464</td>\n",
              "      <td>11.585478</td>\n",
              "      <td>11.654664</td>\n",
              "      <td>60000.0</td>\n",
              "      <td>NaN</td>\n",
              "      <td>0.0</td>\n",
              "      <td>1.0</td>\n",
              "    </tr>\n",
              "    <tr>\n",
              "      <th>996</th>\n",
              "      <td>GF</td>\n",
              "      <td>BBG000C3C6S2</td>\n",
              "      <td>2014-06-25</td>\n",
              "      <td>EOD</td>\n",
              "      <td>daily</td>\n",
              "      <td>18.66</td>\n",
              "      <td>18.7200</td>\n",
              "      <td>18.59</td>\n",
              "      <td>18.60</td>\n",
              "      <td>171700.0</td>\n",
              "      <td>11.736429</td>\n",
              "      <td>11.774167</td>\n",
              "      <td>11.692402</td>\n",
              "      <td>11.698691</td>\n",
              "      <td>171700.0</td>\n",
              "      <td>NaN</td>\n",
              "      <td>0.0</td>\n",
              "      <td>1.0</td>\n",
              "    </tr>\n",
              "    <tr>\n",
              "      <th>997</th>\n",
              "      <td>GF</td>\n",
              "      <td>BBG000C3C6S2</td>\n",
              "      <td>2014-06-24</td>\n",
              "      <td>EOD</td>\n",
              "      <td>daily</td>\n",
              "      <td>18.91</td>\n",
              "      <td>18.9500</td>\n",
              "      <td>18.83</td>\n",
              "      <td>18.83</td>\n",
              "      <td>35200.0</td>\n",
              "      <td>11.893669</td>\n",
              "      <td>11.918828</td>\n",
              "      <td>11.843352</td>\n",
              "      <td>11.843352</td>\n",
              "      <td>35200.0</td>\n",
              "      <td>NaN</td>\n",
              "      <td>0.0</td>\n",
              "      <td>1.0</td>\n",
              "    </tr>\n",
              "    <tr>\n",
              "      <th>998</th>\n",
              "      <td>GF</td>\n",
              "      <td>BBG000C3C6S2</td>\n",
              "      <td>2014-06-23</td>\n",
              "      <td>EOD</td>\n",
              "      <td>daily</td>\n",
              "      <td>19.05</td>\n",
              "      <td>19.0500</td>\n",
              "      <td>18.95</td>\n",
              "      <td>18.95</td>\n",
              "      <td>34300.0</td>\n",
              "      <td>11.981724</td>\n",
              "      <td>11.981724</td>\n",
              "      <td>11.918828</td>\n",
              "      <td>11.918828</td>\n",
              "      <td>34300.0</td>\n",
              "      <td>NaN</td>\n",
              "      <td>0.0</td>\n",
              "      <td>1.0</td>\n",
              "    </tr>\n",
              "  </tbody>\n",
              "</table>\n",
              "<p>999 rows × 18 columns</p>\n",
              "</div>"
            ],
            "text/plain": [
              "    TICKER          FIGI        DATE  ... ADJ_FACTOR EX_DIVIDEND  SPLIT_RATIO\n",
              "0      GEF  BBG000BLFQH8  2013-01-04  ...        NaN         0.0          1.0\n",
              "1      GEF  BBG000BLFQH8  2013-01-03  ...        NaN         0.0          1.0\n",
              "2      GEF  BBG000BLFQH8  2013-01-02  ...        NaN         0.0          1.0\n",
              "3       GF  BBG000C3C6S2  2018-06-05  ...        NaN         0.0          1.0\n",
              "4       GF  BBG000C3C6S2  2018-06-04  ...        NaN         0.0          1.0\n",
              "..     ...           ...         ...  ...        ...         ...          ...\n",
              "994     GF  BBG000C3C6S2  2014-06-27  ...        NaN         0.0          1.0\n",
              "995     GF  BBG000C3C6S2  2014-06-26  ...        NaN         0.0          1.0\n",
              "996     GF  BBG000C3C6S2  2014-06-25  ...        NaN         0.0          1.0\n",
              "997     GF  BBG000C3C6S2  2014-06-24  ...        NaN         0.0          1.0\n",
              "998     GF  BBG000C3C6S2  2014-06-23  ...        NaN         0.0          1.0\n",
              "\n",
              "[999 rows x 18 columns]"
            ]
          },
          "metadata": {
            "tags": []
          },
          "execution_count": 10
        }
      ]
    },
    {
      "cell_type": "code",
      "metadata": {
        "id": "n3Wbm4Ueyqkd",
        "colab_type": "code",
        "colab": {}
      },
      "source": [
        "def get_year(date):\n",
        "  year=date.split('-')[0]\n",
        "  return year"
      ],
      "execution_count": 0,
      "outputs": []
    },
    {
      "cell_type": "code",
      "metadata": {
        "id": "_R74fMB3y4Q_",
        "colab_type": "code",
        "colab": {}
      },
      "source": [
        "df['Year']=df['DATE'].apply(get_year)"
      ],
      "execution_count": 0,
      "outputs": []
    },
    {
      "cell_type": "code",
      "metadata": {
        "id": "en0RTX-_yMze",
        "colab_type": "code",
        "colab": {}
      },
      "source": [
        "df = df[df['Year'] != '2013']"
      ],
      "execution_count": 0,
      "outputs": []
    },
    {
      "cell_type": "code",
      "metadata": {
        "id": "WBtxVYRMzCZ-",
        "colab_type": "code",
        "outputId": "778c6de0-d9e1-4d3d-a440-fd04ab1b05fc",
        "colab": {
          "base_uri": "https://localhost:8080/",
          "height": 609
        }
      },
      "source": [
        "df"
      ],
      "execution_count": 14,
      "outputs": [
        {
          "output_type": "execute_result",
          "data": {
            "text/html": [
              "<div>\n",
              "<style scoped>\n",
              "    .dataframe tbody tr th:only-of-type {\n",
              "        vertical-align: middle;\n",
              "    }\n",
              "\n",
              "    .dataframe tbody tr th {\n",
              "        vertical-align: top;\n",
              "    }\n",
              "\n",
              "    .dataframe thead th {\n",
              "        text-align: right;\n",
              "    }\n",
              "</style>\n",
              "<table border=\"1\" class=\"dataframe\">\n",
              "  <thead>\n",
              "    <tr style=\"text-align: right;\">\n",
              "      <th></th>\n",
              "      <th>TICKER</th>\n",
              "      <th>FIGI</th>\n",
              "      <th>DATE</th>\n",
              "      <th>TYPE</th>\n",
              "      <th>FREQUENCY</th>\n",
              "      <th>OPEN</th>\n",
              "      <th>HIGH</th>\n",
              "      <th>LOW</th>\n",
              "      <th>CLOSE</th>\n",
              "      <th>VOLUME</th>\n",
              "      <th>ADJ_OPEN</th>\n",
              "      <th>ADJ_HIGH</th>\n",
              "      <th>ADJ_LOW</th>\n",
              "      <th>ADJ_CLOSE</th>\n",
              "      <th>ADJ_VOLUME</th>\n",
              "      <th>ADJ_FACTOR</th>\n",
              "      <th>EX_DIVIDEND</th>\n",
              "      <th>SPLIT_RATIO</th>\n",
              "      <th>Year</th>\n",
              "    </tr>\n",
              "  </thead>\n",
              "  <tbody>\n",
              "    <tr>\n",
              "      <th>3</th>\n",
              "      <td>GF</td>\n",
              "      <td>BBG000C3C6S2</td>\n",
              "      <td>2018-06-05</td>\n",
              "      <td>Intraday</td>\n",
              "      <td>daily</td>\n",
              "      <td>18.86</td>\n",
              "      <td>18.9100</td>\n",
              "      <td>18.8700</td>\n",
              "      <td>18.87</td>\n",
              "      <td>10000.0</td>\n",
              "      <td>18.860000</td>\n",
              "      <td>18.910000</td>\n",
              "      <td>18.870000</td>\n",
              "      <td>18.870000</td>\n",
              "      <td>10000.0</td>\n",
              "      <td>NaN</td>\n",
              "      <td>0.0</td>\n",
              "      <td>1.0</td>\n",
              "      <td>2018</td>\n",
              "    </tr>\n",
              "    <tr>\n",
              "      <th>4</th>\n",
              "      <td>GF</td>\n",
              "      <td>BBG000C3C6S2</td>\n",
              "      <td>2018-06-04</td>\n",
              "      <td>EOD</td>\n",
              "      <td>daily</td>\n",
              "      <td>18.86</td>\n",
              "      <td>18.8900</td>\n",
              "      <td>18.7900</td>\n",
              "      <td>18.81</td>\n",
              "      <td>39095.0</td>\n",
              "      <td>18.860000</td>\n",
              "      <td>18.890000</td>\n",
              "      <td>18.790000</td>\n",
              "      <td>18.810000</td>\n",
              "      <td>39095.0</td>\n",
              "      <td>NaN</td>\n",
              "      <td>0.0</td>\n",
              "      <td>1.0</td>\n",
              "      <td>2018</td>\n",
              "    </tr>\n",
              "    <tr>\n",
              "      <th>5</th>\n",
              "      <td>GF</td>\n",
              "      <td>BBG000C3C6S2</td>\n",
              "      <td>2018-06-01</td>\n",
              "      <td>EOD</td>\n",
              "      <td>daily</td>\n",
              "      <td>18.58</td>\n",
              "      <td>18.7600</td>\n",
              "      <td>18.5800</td>\n",
              "      <td>18.74</td>\n",
              "      <td>17468.0</td>\n",
              "      <td>18.580000</td>\n",
              "      <td>18.760000</td>\n",
              "      <td>18.580000</td>\n",
              "      <td>18.740000</td>\n",
              "      <td>17468.0</td>\n",
              "      <td>NaN</td>\n",
              "      <td>0.0</td>\n",
              "      <td>1.0</td>\n",
              "      <td>2018</td>\n",
              "    </tr>\n",
              "    <tr>\n",
              "      <th>6</th>\n",
              "      <td>GF</td>\n",
              "      <td>BBG000C3C6S2</td>\n",
              "      <td>2018-05-31</td>\n",
              "      <td>EOD</td>\n",
              "      <td>daily</td>\n",
              "      <td>18.52</td>\n",
              "      <td>18.5200</td>\n",
              "      <td>18.3012</td>\n",
              "      <td>18.49</td>\n",
              "      <td>22384.0</td>\n",
              "      <td>18.520000</td>\n",
              "      <td>18.520000</td>\n",
              "      <td>18.301200</td>\n",
              "      <td>18.490000</td>\n",
              "      <td>22384.0</td>\n",
              "      <td>NaN</td>\n",
              "      <td>0.0</td>\n",
              "      <td>1.0</td>\n",
              "      <td>2018</td>\n",
              "    </tr>\n",
              "    <tr>\n",
              "      <th>7</th>\n",
              "      <td>GF</td>\n",
              "      <td>BBG000C3C6S2</td>\n",
              "      <td>2018-05-30</td>\n",
              "      <td>EOD</td>\n",
              "      <td>daily</td>\n",
              "      <td>18.47</td>\n",
              "      <td>18.6780</td>\n",
              "      <td>18.4700</td>\n",
              "      <td>18.65</td>\n",
              "      <td>22633.0</td>\n",
              "      <td>18.470000</td>\n",
              "      <td>18.678000</td>\n",
              "      <td>18.470000</td>\n",
              "      <td>18.650000</td>\n",
              "      <td>22633.0</td>\n",
              "      <td>NaN</td>\n",
              "      <td>0.0</td>\n",
              "      <td>1.0</td>\n",
              "      <td>2018</td>\n",
              "    </tr>\n",
              "    <tr>\n",
              "      <th>...</th>\n",
              "      <td>...</td>\n",
              "      <td>...</td>\n",
              "      <td>...</td>\n",
              "      <td>...</td>\n",
              "      <td>...</td>\n",
              "      <td>...</td>\n",
              "      <td>...</td>\n",
              "      <td>...</td>\n",
              "      <td>...</td>\n",
              "      <td>...</td>\n",
              "      <td>...</td>\n",
              "      <td>...</td>\n",
              "      <td>...</td>\n",
              "      <td>...</td>\n",
              "      <td>...</td>\n",
              "      <td>...</td>\n",
              "      <td>...</td>\n",
              "      <td>...</td>\n",
              "      <td>...</td>\n",
              "    </tr>\n",
              "    <tr>\n",
              "      <th>994</th>\n",
              "      <td>GF</td>\n",
              "      <td>BBG000C3C6S2</td>\n",
              "      <td>2014-06-27</td>\n",
              "      <td>EOD</td>\n",
              "      <td>daily</td>\n",
              "      <td>18.63</td>\n",
              "      <td>18.6300</td>\n",
              "      <td>18.5100</td>\n",
              "      <td>18.61</td>\n",
              "      <td>28400.0</td>\n",
              "      <td>11.717560</td>\n",
              "      <td>11.717560</td>\n",
              "      <td>11.642085</td>\n",
              "      <td>11.704981</td>\n",
              "      <td>28400.0</td>\n",
              "      <td>NaN</td>\n",
              "      <td>0.0</td>\n",
              "      <td>1.0</td>\n",
              "      <td>2014</td>\n",
              "    </tr>\n",
              "    <tr>\n",
              "      <th>995</th>\n",
              "      <td>GF</td>\n",
              "      <td>BBG000C3C6S2</td>\n",
              "      <td>2014-06-26</td>\n",
              "      <td>EOD</td>\n",
              "      <td>daily</td>\n",
              "      <td>18.52</td>\n",
              "      <td>18.5901</td>\n",
              "      <td>18.4200</td>\n",
              "      <td>18.53</td>\n",
              "      <td>60000.0</td>\n",
              "      <td>11.648374</td>\n",
              "      <td>11.692464</td>\n",
              "      <td>11.585478</td>\n",
              "      <td>11.654664</td>\n",
              "      <td>60000.0</td>\n",
              "      <td>NaN</td>\n",
              "      <td>0.0</td>\n",
              "      <td>1.0</td>\n",
              "      <td>2014</td>\n",
              "    </tr>\n",
              "    <tr>\n",
              "      <th>996</th>\n",
              "      <td>GF</td>\n",
              "      <td>BBG000C3C6S2</td>\n",
              "      <td>2014-06-25</td>\n",
              "      <td>EOD</td>\n",
              "      <td>daily</td>\n",
              "      <td>18.66</td>\n",
              "      <td>18.7200</td>\n",
              "      <td>18.5900</td>\n",
              "      <td>18.60</td>\n",
              "      <td>171700.0</td>\n",
              "      <td>11.736429</td>\n",
              "      <td>11.774167</td>\n",
              "      <td>11.692402</td>\n",
              "      <td>11.698691</td>\n",
              "      <td>171700.0</td>\n",
              "      <td>NaN</td>\n",
              "      <td>0.0</td>\n",
              "      <td>1.0</td>\n",
              "      <td>2014</td>\n",
              "    </tr>\n",
              "    <tr>\n",
              "      <th>997</th>\n",
              "      <td>GF</td>\n",
              "      <td>BBG000C3C6S2</td>\n",
              "      <td>2014-06-24</td>\n",
              "      <td>EOD</td>\n",
              "      <td>daily</td>\n",
              "      <td>18.91</td>\n",
              "      <td>18.9500</td>\n",
              "      <td>18.8300</td>\n",
              "      <td>18.83</td>\n",
              "      <td>35200.0</td>\n",
              "      <td>11.893669</td>\n",
              "      <td>11.918828</td>\n",
              "      <td>11.843352</td>\n",
              "      <td>11.843352</td>\n",
              "      <td>35200.0</td>\n",
              "      <td>NaN</td>\n",
              "      <td>0.0</td>\n",
              "      <td>1.0</td>\n",
              "      <td>2014</td>\n",
              "    </tr>\n",
              "    <tr>\n",
              "      <th>998</th>\n",
              "      <td>GF</td>\n",
              "      <td>BBG000C3C6S2</td>\n",
              "      <td>2014-06-23</td>\n",
              "      <td>EOD</td>\n",
              "      <td>daily</td>\n",
              "      <td>19.05</td>\n",
              "      <td>19.0500</td>\n",
              "      <td>18.9500</td>\n",
              "      <td>18.95</td>\n",
              "      <td>34300.0</td>\n",
              "      <td>11.981724</td>\n",
              "      <td>11.981724</td>\n",
              "      <td>11.918828</td>\n",
              "      <td>11.918828</td>\n",
              "      <td>34300.0</td>\n",
              "      <td>NaN</td>\n",
              "      <td>0.0</td>\n",
              "      <td>1.0</td>\n",
              "      <td>2014</td>\n",
              "    </tr>\n",
              "  </tbody>\n",
              "</table>\n",
              "<p>996 rows × 19 columns</p>\n",
              "</div>"
            ],
            "text/plain": [
              "    TICKER          FIGI        DATE  ... EX_DIVIDEND SPLIT_RATIO  Year\n",
              "3       GF  BBG000C3C6S2  2018-06-05  ...         0.0         1.0  2018\n",
              "4       GF  BBG000C3C6S2  2018-06-04  ...         0.0         1.0  2018\n",
              "5       GF  BBG000C3C6S2  2018-06-01  ...         0.0         1.0  2018\n",
              "6       GF  BBG000C3C6S2  2018-05-31  ...         0.0         1.0  2018\n",
              "7       GF  BBG000C3C6S2  2018-05-30  ...         0.0         1.0  2018\n",
              "..     ...           ...         ...  ...         ...         ...   ...\n",
              "994     GF  BBG000C3C6S2  2014-06-27  ...         0.0         1.0  2014\n",
              "995     GF  BBG000C3C6S2  2014-06-26  ...         0.0         1.0  2014\n",
              "996     GF  BBG000C3C6S2  2014-06-25  ...         0.0         1.0  2014\n",
              "997     GF  BBG000C3C6S2  2014-06-24  ...         0.0         1.0  2014\n",
              "998     GF  BBG000C3C6S2  2014-06-23  ...         0.0         1.0  2014\n",
              "\n",
              "[996 rows x 19 columns]"
            ]
          },
          "metadata": {
            "tags": []
          },
          "execution_count": 14
        }
      ]
    },
    {
      "cell_type": "code",
      "metadata": {
        "id": "qY3Ay24lwXX5",
        "colab_type": "code",
        "colab": {}
      },
      "source": [
        "data=df[ ['DATE', 'OPEN']]"
      ],
      "execution_count": 0,
      "outputs": []
    },
    {
      "cell_type": "code",
      "metadata": {
        "id": "ZNA6KiF401NU",
        "colab_type": "code",
        "colab": {}
      },
      "source": [
        "#Reverse Order of Data\n",
        "data=data.iloc[::-1]"
      ],
      "execution_count": 0,
      "outputs": []
    },
    {
      "cell_type": "code",
      "metadata": {
        "id": "4as2UVTp0Kc7",
        "colab_type": "code",
        "outputId": "33a09371-42c9-4d54-d380-86621bf28369",
        "colab": {
          "base_uri": "https://localhost:8080/",
          "height": 283
        }
      },
      "source": [
        "plt.plot(data['DATE'], data['OPEN'])"
      ],
      "execution_count": 17,
      "outputs": [
        {
          "output_type": "execute_result",
          "data": {
            "text/plain": [
              "[<matplotlib.lines.Line2D at 0x7f7596515240>]"
            ]
          },
          "metadata": {
            "tags": []
          },
          "execution_count": 17
        },
        {
          "output_type": "display_data",
          "data": {
            "image/png": "[encoded data removed]",
            "text/plain": [
              "<Figure size 432x288 with 1 Axes>"
            ]
          },
          "metadata": {
            "tags": [],
            "needs_background": "light"
          }
        }
      ]
    },
    {
      "cell_type": "code",
      "metadata": {
        "id": "gYzr_a5o1U7x",
        "colab_type": "code",
        "colab": {}
      },
      "source": [
        "split_time=850"
      ],
      "execution_count": 0,
      "outputs": []
    },
    {
      "cell_type": "code",
      "metadata": {
        "id": "olftsO6B3JNi",
        "colab_type": "code",
        "colab": {}
      },
      "source": [
        "values=np.array(df['OPEN'])"
      ],
      "execution_count": 0,
      "outputs": []
    },
    {
      "cell_type": "code",
      "metadata": {
        "id": "cf-YgFSSw-cw",
        "colab_type": "code",
        "colab": {}
      },
      "source": [
        "train_df=data.iloc[:split_time]"
      ],
      "execution_count": 0,
      "outputs": []
    },
    {
      "cell_type": "code",
      "metadata": {
        "id": "Sig8d9DU2Ggl",
        "colab_type": "code",
        "colab": {}
      },
      "source": [
        "train_values=train_df['OPEN']\n",
        "train_values=np.array(train_values)"
      ],
      "execution_count": 0,
      "outputs": []
    },
    {
      "cell_type": "code",
      "metadata": {
        "id": "ycJVWTgS28yP",
        "colab_type": "code",
        "outputId": "1656d812-689e-451a-a17f-b372fa2dce38",
        "colab": {
          "base_uri": "https://localhost:8080/",
          "height": 35
        }
      },
      "source": [
        "train_values.shape"
      ],
      "execution_count": 22,
      "outputs": [
        {
          "output_type": "execute_result",
          "data": {
            "text/plain": [
              "(850,)"
            ]
          },
          "metadata": {
            "tags": []
          },
          "execution_count": 22
        }
      ]
    },
    {
      "cell_type": "code",
      "metadata": {
        "id": "XkV7QCsV1eB0",
        "colab_type": "code",
        "outputId": "7ad33ca0-3e29-4ec2-fa85-57a2ae2766e6",
        "colab": {
          "base_uri": "https://localhost:8080/",
          "height": 35
        }
      },
      "source": [
        "train_df.shape"
      ],
      "execution_count": 23,
      "outputs": [
        {
          "output_type": "execute_result",
          "data": {
            "text/plain": [
              "(850, 2)"
            ]
          },
          "metadata": {
            "tags": []
          },
          "execution_count": 23
        }
      ]
    },
    {
      "cell_type": "code",
      "metadata": {
        "id": "jWhp0EEA1g-q",
        "colab_type": "code",
        "colab": {}
      },
      "source": [
        "valid_df=data.iloc[split_time:]"
      ],
      "execution_count": 0,
      "outputs": []
    },
    {
      "cell_type": "code",
      "metadata": {
        "id": "bUfU0nXx1mN2",
        "colab_type": "code",
        "outputId": "fb4268d7-b126-4e12-c6c9-996310827bb7",
        "colab": {
          "base_uri": "https://localhost:8080/",
          "height": 35
        }
      },
      "source": [
        "valid_df.shape"
      ],
      "execution_count": 25,
      "outputs": [
        {
          "output_type": "execute_result",
          "data": {
            "text/plain": [
              "(146, 2)"
            ]
          },
          "metadata": {
            "tags": []
          },
          "execution_count": 25
        }
      ]
    },
    {
      "cell_type": "code",
      "metadata": {
        "id": "Hp2YFVgb2hoc",
        "colab_type": "code",
        "colab": {}
      },
      "source": [
        "valid_values=valid_df['OPEN']\n",
        "valid_values=np.array(valid_values)"
      ],
      "execution_count": 0,
      "outputs": []
    },
    {
      "cell_type": "code",
      "metadata": {
        "id": "gg0EdmtYoyxf",
        "colab_type": "code",
        "colab": {}
      },
      "source": [
        "series= np.concatenate((train_values, valid_values), axis=0)"
      ],
      "execution_count": 0,
      "outputs": []
    },
    {
      "cell_type": "markdown",
      "metadata": {
        "id": "gvnXtM-qeRqv",
        "colab_type": "text"
      },
      "source": [
        "# Single NN"
      ]
    },
    {
      "cell_type": "code",
      "metadata": {
        "id": "hyiXFkgUeX_G",
        "colab_type": "code",
        "colab": {}
      },
      "source": [
        "window_size=20"
      ],
      "execution_count": 0,
      "outputs": []
    },
    {
      "cell_type": "code",
      "metadata": {
        "id": "XJYaBlWVmIuO",
        "colab_type": "code",
        "colab": {}
      },
      "source": [
        "batch_size = 32"
      ],
      "execution_count": 0,
      "outputs": []
    },
    {
      "cell_type": "code",
      "metadata": {
        "id": "6nflaZERmONW",
        "colab_type": "code",
        "colab": {}
      },
      "source": [
        "shuffle_buffer_size = 1000"
      ],
      "execution_count": 0,
      "outputs": []
    },
    {
      "cell_type": "code",
      "metadata": {
        "id": "EQAZg8o8lDDQ",
        "colab_type": "code",
        "colab": {}
      },
      "source": [
        "def windowed_dataset(series, window_size, batch_size, shuffle_buffer):\n",
        "  dataset = tf.data.Dataset.from_tensor_slices(series)\n",
        "  dataset = dataset.window(window_size + 1, shift=1, drop_remainder=True)\n",
        "  dataset = dataset.flat_map(lambda window: window.batch(window_size + 1))\n",
        "  # dataset = dataset.map(lambda window: (window[:-1], window[-1]))\n",
        "  dataset = dataset.shuffle(shuffle_buffer).map(lambda window: (window[:-1], window[-1]))\n",
        "  dataset = dataset.batch(batch_size).prefetch(1)\n",
        "  return dataset"
      ],
      "execution_count": 0,
      "outputs": []
    },
    {
      "cell_type": "code",
      "metadata": {
        "id": "yEBmW7FZlKYk",
        "colab_type": "code",
        "colab": {}
      },
      "source": [
        "dataset = windowed_dataset(train_values, window_size, batch_size, shuffle_buffer_size)"
      ],
      "execution_count": 0,
      "outputs": []
    },
    {
      "cell_type": "code",
      "metadata": {
        "id": "IcO-3Ap4mYRZ",
        "colab_type": "code",
        "colab": {}
      },
      "source": [
        "l0 = tf.keras.layers.Dense(1, input_shape=[window_size])\n",
        "model = tf.keras.models.Sequential([l0])"
      ],
      "execution_count": 0,
      "outputs": []
    },
    {
      "cell_type": "code",
      "metadata": {
        "id": "4WOWWJcRmbdB",
        "colab_type": "code",
        "outputId": "900d2b17-d016-4f4c-f580-5040781bb9b0",
        "colab": {
          "base_uri": "https://localhost:8080/",
          "height": 364
        }
      },
      "source": [
        "model.compile(loss=\"mse\", optimizer=tf.keras.optimizers.SGD(lr=1e-6, momentum=0.9))\n",
        "model.fit(dataset,epochs=100,verbose=0)\n",
        "\n",
        "print(\"Layer weights {}\".format(l0.get_weights()))"
      ],
      "execution_count": 34,
      "outputs": [
        {
          "output_type": "stream",
          "text": [
            "Layer weights [array([[ 0.41376227],\n",
            "       [-0.19228184],\n",
            "       [-0.04039971],\n",
            "       [ 0.45614475],\n",
            "       [-0.23958087],\n",
            "       [-0.38513786],\n",
            "       [ 0.4310005 ],\n",
            "       [-0.16625531],\n",
            "       [ 0.04615141],\n",
            "       [ 0.21800031],\n",
            "       [ 0.12110663],\n",
            "       [-0.04336675],\n",
            "       [ 0.3346267 ],\n",
            "       [-0.19870676],\n",
            "       [-0.4531796 ],\n",
            "       [ 0.3611122 ],\n",
            "       [ 0.3349175 ],\n",
            "       [ 0.32246163],\n",
            "       [-0.5215755 ],\n",
            "       [ 0.2017047 ]], dtype=float32), array([-0.00141019], dtype=float32)]\n"
          ],
          "name": "stdout"
        }
      ]
    },
    {
      "cell_type": "code",
      "metadata": {
        "id": "9Gdb_XnEmgbw",
        "colab_type": "code",
        "outputId": "12c2ddf6-be47-45d5-aa20-e060e3c395c3",
        "colab": {
          "base_uri": "https://localhost:8080/",
          "height": 391
        }
      },
      "source": [
        "forecast = []\n",
        "\n",
        "for time in range(len(series) - window_size):\n",
        "  forecast.append(model.predict(series[time:time + window_size][np.newaxis]))\n",
        "\n",
        "forecast = forecast[split_time-window_size:]\n",
        "results = np.array(forecast)[:, 0, 0]\n",
        "\n",
        "\n",
        "plt.figure(figsize=(10, 6))\n",
        "\n",
        "plt.plot(valid_values, label='Validation Values')\n",
        "plt.plot(results, label='Predictions')\n",
        "plt.legend()"
      ],
      "execution_count": 39,
      "outputs": [
        {
          "output_type": "execute_result",
          "data": {
            "text/plain": [
              "<matplotlib.legend.Legend at 0x7f758bb25e48>"
            ]
          },
          "metadata": {
            "tags": []
          },
          "execution_count": 39
        },
        {
          "output_type": "display_data",
          "data": {
            "image/png": "[encoded data removed]",
            "text/plain": [
              "<Figure size 720x432 with 1 Axes>"
            ]
          },
          "metadata": {
            "tags": [],
            "needs_background": "light"
          }
        }
      ]
    },
    {
      "cell_type": "markdown",
      "metadata": {
        "id": "WWy5CB6wwumH",
        "colab_type": "text"
      },
      "source": [
        "# Error when I shuffled"
      ]
    },
    {
      "cell_type": "code",
      "metadata": {
        "id": "_rEMtT-Xm6h8",
        "colab_type": "code",
        "outputId": "2d03ebfd-da63-42da-dd89-50d10f32b14c",
        "colab": {
          "base_uri": "https://localhost:8080/",
          "height": 35
        }
      },
      "source": [
        "tf.keras.metrics.mean_absolute_error(valid_values, results).numpy()"
      ],
      "execution_count": 36,
      "outputs": [
        {
          "output_type": "execute_result",
          "data": {
            "text/plain": [
              "0.44344926"
            ]
          },
          "metadata": {
            "tags": []
          },
          "execution_count": 36
        }
      ]
    },
    {
      "cell_type": "markdown",
      "metadata": {
        "id": "syrhwtKbwoiU",
        "colab_type": "text"
      },
      "source": [
        "# Error When I did Not Shuffle"
      ]
    },
    {
      "cell_type": "code",
      "metadata": {
        "id": "iObjuIUNwdmH",
        "colab_type": "code",
        "outputId": "b36f6e11-5846-4454-b3bd-a05c747ba15c",
        "colab": {
          "base_uri": "https://localhost:8080/",
          "height": 35
        }
      },
      "source": [
        "tf.keras.metrics.mean_absolute_error(valid_values, results).numpy()"
      ],
      "execution_count": 37,
      "outputs": [
        {
          "output_type": "execute_result",
          "data": {
            "text/plain": [
              "0.44344926"
            ]
          },
          "metadata": {
            "tags": []
          },
          "execution_count": 37
        }
      ]
    }
  ]
}